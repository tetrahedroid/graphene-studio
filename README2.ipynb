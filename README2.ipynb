{
 "cells": [
  {
   "cell_type": "markdown",
   "metadata": {},
   "source": [
    "# グラフェンの変形をできるだけおこさなくする。\n",
    "\n",
    "(2024-11-05)\n",
    "\n",
    "graphene-studio で生成した炭素配置をできるだけ維持するように、分子内の拘束条件(constraint)を減らすかわりに、原子を正しい位置に束縛(restraint)する。\n",
    "\n",
    "## 注意\n",
    "\n",
    "水分子モデルが TIP4P になっている。\n"
   ]
  },
  {
   "cell_type": "markdown",
   "metadata": {},
   "source": [
    "## 1. 水和させる\n",
    "\n",
    "graphene-studio で生成した構造の 1 つを選び、ファイル`graphene.gro`にコピーする。\n",
    "\n",
    "その構造を水和させる。あらかじめ、セルの大きさは z 方向に 2 倍になっている。\n"
   ]
  },
  {
   "cell_type": "code",
   "execution_count": 1,
   "metadata": {},
   "outputs": [
    {
     "name": "stdout",
     "output_type": "stream",
     "text": [
      "                 :-) GROMACS - gmx solvate, 2024.2-Homebrew (-:\n",
      "\n",
      "Executable:   /opt/homebrew/bin/../Cellar/gromacs/2024.2/bin/gmx\n",
      "Data prefix:  /opt/homebrew/bin/../Cellar/gromacs/2024.2\n",
      "Working dir:  /Users/matto/Unison/github/graphene-studio\n",
      "Command line:\n",
      "  gmx solvate -cs tip4p -cp graphene.gro -o solvated.gro -p solvated-fullfix.top\n",
      "\n",
      "Reading solute configuration\n",
      "Reading solvent configuration\n",
      "\n",
      "Initialising inter-atomic distances...\n",
      "\n",
      "WARNING: Masses and atomic (Van der Waals) radii will be guessed\n",
      "         based on residue and atom names, since they could not be\n",
      "         definitively assigned from the information in your input\n",
      "         files. These guessed numbers might deviate from the mass\n",
      "         and radius of the atom type. Please check the output\n",
      "         files if necessary. Note, that this functionality may\n",
      "         be removed in a future GROMACS version. Please, consider\n",
      "         using another file format for your input.\n",
      "\n",
      "NOTE: From version 5.0 gmx solvate uses the Van der Waals radii\n",
      "from the source below. This means the results may be different\n",
      "compared to previous GROMACS versions.\n",
      "\n",
      "++++ PLEASE READ AND CITE THE FOLLOWING REFERENCE ++++\n",
      "A. Bondi\n",
      "van der Waals Volumes and Radii\n",
      "J. Phys. Chem. 68 (1964) pp. 441-451\n",
      "-------- -------- --- Thank You --- -------- --------\n",
      "\n",
      "Generating solvent configuration\n",
      "Will generate new solvent configuration of 2x2x3 boxes\n",
      "Solvent box contains 3896 atoms in 974 residues\n",
      "Removed 968 solvent atoms due to solvent-solvent overlap\n",
      "Removed 1032 solvent atoms due to solute-solvent overlap\n",
      "Sorting configuration\n",
      "Found 1 molecule type:\n",
      "    SOL (   4 atoms):   474 residues\n",
      "Generated solvent containing 1896 atoms in 474 residues\n",
      "Writing generated configuration to solvated.gro\n",
      "\n",
      "Back Off! I just backed up solvated.gro to ./#solvated.gro.4#\n",
      "\n",
      "Output configuration contains 2600 atoms in 475 residues\n",
      "Volume                 :     21.3926 (nm^3)\n",
      "Density                :     1319.17 (g/l)\n",
      "Number of solvent molecules:    474   \n",
      "\n",
      "Processing topology\n",
      "Adding line for 474 solvent molecules with resname (SOL) to topology file (solvated-fullfix.top)\n",
      "\n",
      "Back Off! I just backed up solvated-fullfix.top to ./#solvated-fullfix.top.3#\n",
      "\n",
      "GROMACS reminds you: \"Success is going from one failure to another without loss of enthusiasm\" (Winston Churchill)\n",
      "\n"
     ]
    }
   ],
   "source": [
    "! cp diamond_1.itp graphene.itp\n",
    "! cp diamond_1.gro graphene.gro\n",
    "! gmx solvate -cs tip4p -cp graphene.gro -o solvated.gro -p solvated-fullfix.top \n"
   ]
  },
  {
   "cell_type": "markdown",
   "metadata": {},
   "source": [
    "## 2. 炭素原子をゆるく固定する。\n",
    "\n",
    "(手順は`HMTA/`からもってきた。)\n",
    "\n",
    "炭素を定位置に固定(restraint)する外場は`graphene-restraints.itp`ファイルに書く。こんな感じの拘束条件を原子の個数だけ書きならべる。\n",
    "\n",
    "```shell\n",
    "[ position_restraints ]\n",
    "; 炭素を固定する。\n",
    ";  i funct       fcx        fcy        fcz\n",
    "   1    1       100000       100000       100000\n",
    "```\n",
    "\n",
    "原子の個数だけバネが必要なので長大なデータになる。自動生成させるのが良い。\n",
    "以下のコードで、position_restraints を自動生成する。\n"
   ]
  },
  {
   "cell_type": "code",
   "execution_count": null,
   "metadata": {},
   "outputs": [],
   "source": [
    "from graphenestudio.gromacs import read_gro\n",
    "\n",
    "# 原子数を読みとるだけのためにgraphene.groを読みこんでいる。\n",
    "with open(\"graphene.gro\") as f:\n",
    "    for frame in read_gro(f):\n",
    "        Natom = frame.residue_id.shape[0]\n",
    "        break\n",
    "\n",
    "# 原子の個数だけバネをつける。\n",
    "with open(\"graphene-restraints.itp\", \"w\") as f:\n",
    "    print(\"\"\"[ position_restraints ]\n",
    "; 炭素を固定する。\n",
    ";  i funct       fcx        fcy        fcz\"\"\", file=f)\n",
    "    for i in range(Natom):\n",
    "        print(f\"{i+1} 1 10000 10000 10000\", file=f)\n",
    "\n"
   ]
  },
  {
   "cell_type": "markdown",
   "metadata": {},
   "source": [
    "あるいはコマンドラインで\n"
   ]
  },
  {
   "cell_type": "code",
   "execution_count": 2,
   "metadata": {},
   "outputs": [],
   "source": [
    "! python restrain.py < graphene.gro > graphene-restraints.itp"
   ]
  },
  {
   "cell_type": "markdown",
   "metadata": {},
   "source": [
    "## 3. MD の準備\n",
    "\n",
    "- `-r`オプションで固定先の座標を指定する。錨をおろす位置は継続計算でも変更してはいけない。\n",
    "- シミュレーションの条件は`initial-solvated-fullfix.mdp`に書かれている。ここでは、圧力制御を`berendsen`とし、`semiisotropic`な変形を許す。\n",
    "- `solvated-fullfix.top`の中で、上で作った`graphene-restraints.itp`が読みこまれることで、どの原子を固定するかが指示されている。\n",
    "- 原子数があわないというエラーが出る場合は、`solvated-fullfix.top`ファイルに書きこまれた水和水分子数が正しいかどうかを確認する。\n",
    "- 水分子モデルを変更する場合にも`solvated-fullfix.top`を編集する。\n"
   ]
  },
  {
   "cell_type": "code",
   "execution_count": 4,
   "metadata": {},
   "outputs": [
    {
     "name": "stdout",
     "output_type": "stream",
     "text": [
      "                 :-) GROMACS - gmx grompp, 2024.2-Homebrew (-:\n",
      "\n",
      "Executable:   /opt/homebrew/bin/../Cellar/gromacs/2024.2/bin/gmx\n",
      "Data prefix:  /opt/homebrew/bin/../Cellar/gromacs/2024.2\n",
      "Working dir:  /Users/matto/Unison/github/graphene-studio\n",
      "Command line:\n",
      "  gmx grompp -maxwarn 2 -f initial-solvated-fullfix.mdp -p solvated-fullfix.top -o 00001.tpr -c solvated.gro -r solvated.gro\n",
      "\n",
      "Ignoring obsolete mdp entry 'title'\n",
      "Ignoring obsolete mdp entry 'cpp'\n",
      "Ignoring obsolete mdp entry 'ns_type'\n",
      "Replacing old mdp entry 'nstxtcout' by 'nstxout-compressed'\n",
      "\n",
      "WARNING 1 [file initial-solvated-fullfix.mdp]:\n",
      "  The Berendsen barostat does not generate any strictly correct ensemble,\n",
      "  and should not be used for new production simulations (in our opinion).\n",
      "  We recommend using the C-rescale barostat instead.\n",
      "\n",
      "Setting the LD random seed to -118327617\n",
      "\n",
      "Generated 332520 of the 332520 non-bonded parameter combinations\n",
      "Generating 1-4 interactions: fudge = 1\n",
      "\n",
      "Generated 332520 of the 332520 1-4 parameter combinations\n",
      "\n",
      "Excluding 3 bonded neighbours molecule type 'GRPH'\n",
      "\n",
      "Excluding 2 bonded neighbours molecule type 'SOL'\n",
      "\n",
      "Setting gen_seed to -136458332\n",
      "\n",
      "Velocities were taken from a Maxwell distribution at 300 K\n",
      "\n",
      "Cleaning up constraints and constant bonded interactions with virtual sites\n",
      "Analysing residue names:\n",
      "There are:     1      Other residues\n",
      "There are:   474      Water residues\n",
      "Analysing residues not classified as Protein/DNA/RNA/Water and splitting into groups...\n",
      "Number of degrees of freedom in T-Coupling group System is 4953.00\n",
      "\n",
      "The largest distance between excluded atoms is 0.427 nm between atom 507 and 620\n",
      "\n",
      "Determining Verlet buffer for a tolerance of 0.002 kJ/mol/ps at 300 K\n",
      "\n",
      "Calculated rlist for 1x1 atom pair-list as 0.901 nm, buffer size 0.001 nm\n",
      "\n",
      "Set rlist, assuming 4x4 atom pair-list, to 0.900 nm, buffer size 0.000 nm\n",
      "\n",
      "Note that mdrun will redetermine rlist based on the actual pair-list setup\n",
      "\n",
      "NOTE 1 [file initial-solvated-fullfix.mdp]:\n",
      "  Removing center of mass motion in the presence of position restraints\n",
      "  might cause artifacts. When you are using position restraints to\n",
      "  equilibrate a macro-molecule, the artifacts are usually negligible.\n",
      "\n",
      "\n",
      "WARNING 2 [file initial-solvated-fullfix.mdp]:\n",
      "  You are using pressure coupling with absolute position restraints, this\n",
      "  will give artifacts. Use the refcoord_scaling option.\n",
      "\n",
      "Calculating fourier grid dimensions for X Y Z\n",
      "Using a fourier grid of 20x20x40, spacing 0.110 0.110 0.110\n",
      "\n",
      "Estimate for the relative computational load of the PME mesh part: 0.18\n",
      "\n",
      "This run will generate roughly 4 Mb of data\n",
      "\n",
      "There was 1 NOTE\n",
      "\n",
      "There were 2 WARNINGs\n",
      "\n",
      "Back Off! I just backed up 00001.tpr to ./#00001.tpr.10#\n",
      "\n",
      "GROMACS reminds you: \"I wanted to make a clever chemistry joke, but the best ones Argon.\" (39.948)\n",
      "\n"
     ]
    }
   ],
   "source": [
    "! gmx grompp -maxwarn 2 -f initial-solvated-fullfix.mdp -p solvated-fullfix.top -o 00001.tpr -c solvated.gro -r solvated.gro"
   ]
  },
  {
   "cell_type": "markdown",
   "metadata": {},
   "source": [
    "## 4. 初回の MD 実行\n"
   ]
  },
  {
   "cell_type": "code",
   "execution_count": 63,
   "metadata": {},
   "outputs": [
    {
     "name": "stdout",
     "output_type": "stream",
     "text": [
      "                  :-) GROMACS - gmx mdrun, 2024.2-Homebrew (-:\n",
      "\n",
      "Executable:   /opt/homebrew/bin/../Cellar/gromacs/2024.2/bin/gmx\n",
      "Data prefix:  /opt/homebrew/bin/../Cellar/gromacs/2024.2\n",
      "Working dir:  /Users/matto/Unison/github/graphene-studio\n",
      "Command line:\n",
      "  gmx mdrun -notunepme -nt 8 -deffnm 00001 -c 00001-last.gro\n",
      "\n",
      "\n",
      "Back Off! I just backed up 00001.log to ./#00001.log.9#\n",
      "Reading file 00001.tpr, VERSION 2024.2-Homebrew (single precision)\n",
      "Changing nstlist from 10 to 100, rlist from 0.9 to 0.904\n",
      "\n",
      "NOTE: Periodic molecules are present in this system. Because of this, the domain decomposition algorithm cannot easily determine the minimum cell size that it requires for treating bonded interactions. Instead, domain decomposition will assume that half the non-bonded cut-off will be a suitable lower bound.\n",
      "Using 1 MPI thread\n",
      "Using 8 OpenMP threads \n",
      "\n",
      "\n",
      "Back Off! I just backed up 00001.trr to ./#00001.trr.9#\n",
      "\n",
      "Back Off! I just backed up 00001.edr to ./#00001.edr.9#\n",
      "starting mdrun 'solvated graphene in water'\n",
      "50000 steps,      5.0 ps.\n",
      "\n",
      "Writing final coordinates.\n",
      "\n",
      "Back Off! I just backed up 00001-last.gro to ./#00001-last.gro.7#\n",
      "\n",
      "               Core t (s)   Wall t (s)        (%)\n",
      "       Time:     1082.133      135.267      800.0\n",
      "                 (ns/day)    (hour/ns)\n",
      "Performance:        3.194        7.515\n",
      "\n",
      "GROMACS reminds you: \"Science and everyday life cannot and should not be separated.\" (Rosalind Franklin)\n",
      "\n"
     ]
    }
   ],
   "source": [
    "! gmx mdrun -notunepme  -nt 8 -deffnm 00001 -c 00001-last.gro"
   ]
  },
  {
   "cell_type": "code",
   "execution_count": null,
   "metadata": {},
   "outputs": [
    {
     "name": "stdout",
     "output_type": "stream",
     "text": [
      "make: `00001-0.gro' is up to date.\n"
     ]
    }
   ],
   "source": [
    "! make 00001-0.gro"
   ]
  },
  {
   "cell_type": "markdown",
   "metadata": {},
   "source": [
    "## 5. 継続計算\n",
    "\n",
    "継続する場合も、炭素原子固定位置を指示する部分はそのまま使う。\n",
    "\n",
    "- `continue-solvated-fullfix.mdp`での変更点は\n",
    "  1. 温度を 270 K に。\n",
    "  2. extended_simulation に関する設定\n",
    "     - `gen_vel                  = no`\n",
    "     - `continuation             = yes`\n",
    "  3. dt をまともな数字(0.001 ps)に。\n",
    "  4. 圧力を 1 気圧に設定。\n",
    "\n",
    "`Nose-Hoover`では異常に分子運動が抑えられてしまうので、やむをえず`v-rescale`を継続使用している。\n"
   ]
  },
  {
   "cell_type": "markdown",
   "metadata": {},
   "source": [
    "`diff`コマンドで設定の違いを比較する。\n"
   ]
  },
  {
   "cell_type": "code",
   "execution_count": 79,
   "metadata": {},
   "outputs": [
    {
     "name": "stdout",
     "output_type": "stream",
     "text": [
      "8c8\n",
      "< dt                       = 0.0001     ; MD計算のΔt (ps)。\n",
      "---\n",
      "> dt                       = 0.001     ; MD計算のΔt (ps)。\n",
      "42c42\n",
      "< ref_t                    = 300.0       ; 系の温度。単位はK。\n",
      "---\n",
      "> ref_t                    = 270.0       ; 系の温度。単位はK。\n",
      "49c49\n",
      "< ref_p                    = 1    1000     ; 系の圧力。単位はbar。Pcoupl = no の場合は無効。\n",
      "---\n",
      "> ref_p                    = 1    1    ; 系の圧力。単位はbar。Pcoupl = no の場合は無効。\n",
      "52,53c52,53\n",
      "< gen_vel                  = yes\n",
      "< continuation             = no\n",
      "---\n",
      "> gen_vel                  = no\n",
      "> continuation             = yes\n"
     ]
    }
   ],
   "source": [
    "! diff initial-solvated-fullfix.mdp continue-solvated-fullfix.mdp"
   ]
  },
  {
   "cell_type": "code",
   "execution_count": 77,
   "metadata": {},
   "outputs": [
    {
     "name": "stdout",
     "output_type": "stream",
     "text": [
      "                 :-) GROMACS - gmx grompp, 2024.2-Homebrew (-:\n",
      "\n",
      "Executable:   /opt/homebrew/bin/../Cellar/gromacs/2024.2/bin/gmx\n",
      "Data prefix:  /opt/homebrew/bin/../Cellar/gromacs/2024.2\n",
      "Working dir:  /Users/matto/Unison/github/graphene-studio\n",
      "Command line:\n",
      "  gmx grompp -maxwarn 2 -f continue-solvated-fullfix.mdp -p solvated-fullfix.top -o 00002.tpr -c 00001-last.gro -r solvated.gro\n",
      "\n",
      "Ignoring obsolete mdp entry 'title'\n",
      "Ignoring obsolete mdp entry 'cpp'\n",
      "Ignoring obsolete mdp entry 'ns_type'\n",
      "Replacing old mdp entry 'nstxtcout' by 'nstxout-compressed'\n",
      "\n",
      "WARNING 1 [file continue-solvated-fullfix.mdp]:\n",
      "  The Berendsen barostat does not generate any strictly correct ensemble,\n",
      "  and should not be used for new production simulations (in our opinion).\n",
      "  We recommend using the C-rescale barostat instead.\n",
      "\n",
      "Setting the LD random seed to -281020425\n",
      "\n",
      "Generated 332520 of the 332520 non-bonded parameter combinations\n",
      "Generating 1-4 interactions: fudge = 1\n",
      "\n",
      "Generated 332520 of the 332520 1-4 parameter combinations\n",
      "\n",
      "Excluding 3 bonded neighbours molecule type 'GRPH'\n",
      "\n",
      "Excluding 2 bonded neighbours molecule type 'SOL'\n",
      "\n",
      "Cleaning up constraints and constant bonded interactions with virtual sites\n",
      "Analysing residue names:\n",
      "There are:     1      Other residues\n",
      "There are:   474      Water residues\n",
      "Analysing residues not classified as Protein/DNA/RNA/Water and splitting into groups...\n",
      "Number of degrees of freedom in T-Coupling group System is 4953.00\n",
      "\n",
      "The largest distance between excluded atoms is 0.419 nm between atom 180 and 298\n",
      "\n",
      "Determining Verlet buffer for a tolerance of 0.002 kJ/mol/ps at 270 K\n",
      "\n",
      "Calculated rlist for 1x1 atom pair-list as 0.913 nm, buffer size 0.013 nm\n",
      "\n",
      "Set rlist, assuming 4x4 atom pair-list, to 0.901 nm, buffer size 0.001 nm\n",
      "\n",
      "Note that mdrun will redetermine rlist based on the actual pair-list setup\n",
      "\n",
      "NOTE 1 [file continue-solvated-fullfix.mdp]:\n",
      "  Removing center of mass motion in the presence of position restraints\n",
      "  might cause artifacts. When you are using position restraints to\n",
      "  equilibrate a macro-molecule, the artifacts are usually negligible.\n",
      "\n",
      "\n",
      "WARNING 2 [file continue-solvated-fullfix.mdp]:\n",
      "  You are using pressure coupling with absolute position restraints, this\n",
      "  will give artifacts. Use the refcoord_scaling option.\n",
      "\n",
      "Calculating fourier grid dimensions for X Y Z\n",
      "Using a fourier grid of 20x20x40, spacing 0.110 0.110 0.120\n",
      "\n",
      "Estimate for the relative computational load of the PME mesh part: 0.19\n",
      "\n",
      "This run will generate roughly 4 Mb of data\n",
      "\n",
      "There was 1 NOTE\n",
      "\n",
      "There were 2 WARNINGs\n",
      "\n",
      "Back Off! I just backed up 00002.tpr to ./#00002.tpr.12#\n",
      "\n",
      "GROMACS reminds you: \"History has expired\" (PubMed Central)\n",
      "\n"
     ]
    }
   ],
   "source": [
    "! gmx grompp -maxwarn 2 -f continue-solvated-fullfix.mdp -p solvated-fullfix.top -o 00002.tpr -c 00001-last.gro -r solvated.gro"
   ]
  },
  {
   "cell_type": "code",
   "execution_count": 78,
   "metadata": {},
   "outputs": [
    {
     "name": "stdout",
     "output_type": "stream",
     "text": [
      "                  :-) GROMACS - gmx mdrun, 2024.2-Homebrew (-:\n",
      "\n",
      "Executable:   /opt/homebrew/bin/../Cellar/gromacs/2024.2/bin/gmx\n",
      "Data prefix:  /opt/homebrew/bin/../Cellar/gromacs/2024.2\n",
      "Working dir:  /Users/matto/Unison/github/graphene-studio\n",
      "Command line:\n",
      "  gmx mdrun -notunepme -nt 8 -deffnm 00002 -c 00002-last.gro\n",
      "\n",
      "\n",
      "Back Off! I just backed up 00002.log to ./#00002.log.11#\n",
      "Reading file 00002.tpr, VERSION 2024.2-Homebrew (single precision)\n",
      "Changing nstlist from 10 to 80, rlist from 0.901 to 1.007\n",
      "\n",
      "NOTE: Periodic molecules are present in this system. Because of this, the domain decomposition algorithm cannot easily determine the minimum cell size that it requires for treating bonded interactions. Instead, domain decomposition will assume that half the non-bonded cut-off will be a suitable lower bound.\n",
      "Using 1 MPI thread\n",
      "Using 8 OpenMP threads \n",
      "\n",
      "\n",
      "Back Off! I just backed up 00002.trr to ./#00002.trr.11#\n",
      "\n",
      "Back Off! I just backed up 00002.edr to ./#00002.edr.11#\n",
      "starting mdrun 'solvated graphene in water'\n",
      "50000 steps,     50.0 ps.\n",
      "\n",
      "Writing final coordinates.\n",
      "\n",
      "Back Off! I just backed up 00002-last.gro to ./#00002-last.gro.8#\n",
      "\n",
      "               Core t (s)   Wall t (s)        (%)\n",
      "       Time:      821.582      102.698      800.0\n",
      "                 (ns/day)    (hour/ns)\n",
      "Performance:       42.066        0.571\n",
      "\n",
      "GROMACS reminds you: \"Screw a Lightbulb in your Head\" (Gogol Bordello)\n",
      "\n"
     ]
    }
   ],
   "source": [
    "! gmx mdrun -notunepme  -nt 8 -deffnm 00002 -c 00002-last.gro"
   ]
  }
 ],
 "metadata": {
  "kernelspec": {
   "display_name": "graphene-studio-LdnOtBEG-py3.11",
   "language": "python",
   "name": "python3"
  },
  "language_info": {
   "codemirror_mode": {
    "name": "ipython",
    "version": 3
   },
   "file_extension": ".py",
   "mimetype": "text/x-python",
   "name": "python",
   "nbconvert_exporter": "python",
   "pygments_lexer": "ipython3",
   "version": "3.11.4"
  }
 },
 "nbformat": 4,
 "nbformat_minor": 2
}
