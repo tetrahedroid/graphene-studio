{
 "cells": [
  {
   "cell_type": "markdown",
   "metadata": {},
   "source": [
    "# グラフェンの変形をできるだけおこさなくする。\n",
    "\n",
    "(2024-11-05)\n",
    "\n",
    "graphene-studio で生成した炭素配置をできるだけ維持するように、分子内の拘束条件(constraint)を減らすかわりに、原子を正しい位置に束縛(restraint)する。\n",
    "\n",
    "## 注意\n",
    "\n",
    "水分子モデルが TIP4P になっている。\n"
   ]
  },
  {
   "cell_type": "markdown",
   "metadata": {},
   "source": [
    "## 1. 水和させる\n",
    "\n",
    "graphene-studio で生成した構造の 1 つを選び、ファイル`graphene.gro`にコピーする。\n",
    "\n",
    "その構造を水和させる。あらかじめ、セルの大きさは z 方向に 2 倍になっている。\n"
   ]
  },
  {
   "cell_type": "code",
   "execution_count": null,
   "metadata": {},
   "outputs": [],
   "source": [
    "! cp diamond_95.itp graphene.itp\n",
    "! cp diamond_95.gro graphene.gro\n",
    "! gmx solvate -cs tip4p -cp graphene.gro -o solvated.gro -p solvated-fullfix.top \n"
   ]
  },
  {
   "cell_type": "markdown",
   "metadata": {},
   "source": [
    "## 2. 炭素原子をゆるく固定する。\n",
    "\n",
    "(手順は`HMTA/`からもってきた。)\n",
    "\n",
    "炭素を定位置に固定(restraint)する外場は`graphene-restraints.itp`ファイルに書く。こんな感じの拘束条件を原子の個数だけ書きならべる。\n",
    "\n",
    "```shell\n",
    "[ position_restraints ]\n",
    "; 炭素を固定する。\n",
    ";  i funct       fcx        fcy        fcz\n",
    "   1    1       10000       10000       10000\n",
    "   2    1       10000       10000       10000\n",
    "...\n",
    "```\n",
    "\n",
    "原子の個数だけバネが必要なので長大なデータになる。自動生成させるのが良い。\n",
    "以下のコードで、position_restraints を自動生成する。\n"
   ]
  },
  {
   "cell_type": "code",
   "execution_count": null,
   "metadata": {},
   "outputs": [],
   "source": [
    "from graphenestudio.gromacs import read_gro\n",
    "\n",
    "# 原子数を読みとるだけのためにgraphene.groを読みこんでいる。\n",
    "with open(\"graphene.gro\") as f:\n",
    "    for frame in read_gro(f):\n",
    "        Natom = frame.residue_id.shape[0]\n",
    "        break\n",
    "\n",
    "# 原子の個数だけバネをつける。\n",
    "with open(\"graphene-restraints.itp\", \"w\") as f:\n",
    "    print(\n",
    "        \"\"\"[ position_restraints ]\n",
    "; 炭素を固定する。\n",
    ";  i funct       fcx        fcy        fcz\"\"\",\n",
    "        file=f,\n",
    "    )\n",
    "    for i in range(Natom):\n",
    "        print(f\"{i+1} 1 10000 10000 10000\", file=f)"
   ]
  },
  {
   "cell_type": "markdown",
   "metadata": {},
   "source": [
    "あるいはコマンドラインで\n"
   ]
  },
  {
   "cell_type": "code",
   "execution_count": null,
   "metadata": {},
   "outputs": [],
   "source": [
    "! python restrain.py < graphene.gro > graphene-restraints.itp"
   ]
  },
  {
   "cell_type": "markdown",
   "metadata": {},
   "source": [
    "## 3. MD の準備\n",
    "\n",
    "- `-r`オプションで固定先の座標を指定する。錨をおろす位置は継続計算でも変更してはいけない。\n",
    "- シミュレーションの条件は`initial-solvated-fullfix.mdp`に書かれている。ここでは、圧力制御を`berendsen`とし、`semiisotropic`な変形を許す。\n",
    "- `solvated-fullfix.top`の中で、上で作った`graphene-restraints.itp`が読みこまれることで、どの原子を固定するかが指示されている。\n",
    "- 原子数があわないというエラーが出る場合は、`solvated-fullfix.top`ファイルに書きこまれた水和水分子数が正しいかどうかを確認する。\n",
    "- 水分子モデルを変更する場合にも`solvated-fullfix.top`を編集する。\n"
   ]
  },
  {
   "cell_type": "code",
   "execution_count": null,
   "metadata": {},
   "outputs": [],
   "source": [
    "! gmx grompp -maxwarn 2 -f initial-solvated-fullfix.mdp -p solvated-fullfix.top -o 00001.tpr -c solvated.gro -r solvated.gro"
   ]
  },
  {
   "cell_type": "markdown",
   "metadata": {},
   "source": [
    "## 4. 初回の MD 実行\n"
   ]
  },
  {
   "cell_type": "code",
   "execution_count": null,
   "metadata": {},
   "outputs": [],
   "source": [
    "! gmx mdrun -notunepme  -nt 8 -deffnm 00001 -c 00001-last.gro"
   ]
  },
  {
   "cell_type": "code",
   "execution_count": null,
   "metadata": {},
   "outputs": [],
   "source": [
    "! make 00001-0.gro"
   ]
  },
  {
   "cell_type": "markdown",
   "metadata": {},
   "source": [
    "## 5. 継続計算\n",
    "\n",
    "継続する場合も、炭素原子固定位置を指示する部分はそのまま使う。\n",
    "\n",
    "- `continue-solvated-fullfix.mdp`での変更点は\n",
    "  1. 温度を 270 K に。\n",
    "  2. extended_simulation に関する設定\n",
    "     - `gen_vel                  = no`\n",
    "     - `continuation             = yes`\n",
    "  3. dt をまともな数字(0.001 ps)に。\n",
    "  4. 圧力を 1 気圧に設定。\n",
    "\n",
    "`Nose-Hoover`では異常に分子運動が抑えられてしまうので、やむをえず`v-rescale`を継続使用している。\n"
   ]
  },
  {
   "cell_type": "markdown",
   "metadata": {},
   "source": [
    "`diff`コマンドで設定の違いを比較する。\n"
   ]
  },
  {
   "cell_type": "code",
   "execution_count": null,
   "metadata": {},
   "outputs": [],
   "source": [
    "! diff initial-solvated-fullfix.mdp continue-solvated-fullfix.mdp"
   ]
  },
  {
   "cell_type": "code",
   "execution_count": null,
   "metadata": {},
   "outputs": [],
   "source": [
    "! gmx grompp -maxwarn 2 -f continue-solvated-fullfix.mdp -p solvated-fullfix.top -o 00002.tpr -c 00001-last.gro -r solvated.gro"
   ]
  },
  {
   "cell_type": "code",
   "execution_count": null,
   "metadata": {},
   "outputs": [],
   "source": [
    "! gmx mdrun -notunepme  -nt 8 -deffnm 00002 -c 00002-last.gro"
   ]
  },
  {
   "cell_type": "code",
   "execution_count": null,
   "metadata": {},
   "outputs": [],
   "source": [
    "! make 00002-0.gro"
   ]
  },
  {
   "cell_type": "markdown",
   "metadata": {},
   "source": [
    "## リングの可視化\n",
    "\n",
    "analice2 を使う。\n"
   ]
  },
  {
   "cell_type": "code",
   "execution_count": null,
   "metadata": {},
   "outputs": [],
   "source": [
    "! make 00002-0.yap"
   ]
  },
  {
   "cell_type": "code",
   "execution_count": null,
   "metadata": {},
   "outputs": [],
   "source": [
    "# または直接入力\n",
    "! analice2 00002-0.gro -O OW -H HW[12] -f rings[yaplot] > 00002-0.yap"
   ]
  },
  {
   "cell_type": "code",
   "execution_count": null,
   "metadata": {},
   "outputs": [],
   "source": []
  }
 ],
 "metadata": {
  "kernelspec": {
   "display_name": ".venv",
   "language": "python",
   "name": "python3"
  },
  "language_info": {
   "codemirror_mode": {
    "name": "ipython",
    "version": 3
   },
   "file_extension": ".py",
   "mimetype": "text/x-python",
   "name": "python",
   "nbconvert_exporter": "python",
   "pygments_lexer": "ipython3",
   "version": "3.11.4"
  }
 },
 "nbformat": 4,
 "nbformat_minor": 2
}
