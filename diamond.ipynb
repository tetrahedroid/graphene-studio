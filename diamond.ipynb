{
 "cells": [
  {
   "cell_type": "markdown",
   "metadata": {},
   "source": [
    "偏心diamond極小曲面のための関数の準備\n",
    "\n",
    "通常のdiamond面は次の陰関数で表される.\n",
    "$$ G(x,y,z) = \n",
    "\\sin x \\sin y \\sin z+\n",
    "\\cos x \\cos y \\sin z+\n",
    "\\sin x \\cos y \\cos z+\n",
    "\\cos x \\sin y \\cos z = 0$$\n",
    "ただし、$x,y,z$の定義域は$[0,2\\pi]$ である。\n",
    "\n",
    "これに対し、偏心p-surfaceは次の式となる。\n",
    "$$ G(x,y,z) = \n",
    "\\sin x \\sin y \\sin z+\n",
    "\\cos x \\cos y \\sin z+\n",
    "\\sin x \\cos y \\cos z+\n",
    "\\cos x \\sin y \\cos z+A = 0$$\n",
    "\n",
    "`surface`関数はこれをそのまま実装する。"
   ]
  },
  {
   "cell_type": "markdown",
   "metadata": {},
   "source": [
    "これを$x,y,z$でそれぞれ微分してみる。"
   ]
  },
  {
   "cell_type": "code",
   "execution_count": 2,
   "metadata": {},
   "outputs": [
    {
     "data": {
      "text/latex": [
       "$\\displaystyle - \\frac{2 \\pi \\sin{\\left(\\frac{2 \\pi x}{L} \\right)} \\sin{\\left(\\frac{2 \\pi y}{L} \\right)} \\cos{\\left(\\frac{2 \\pi z}{L} \\right)}}{L} - \\frac{2 \\pi \\sin{\\left(\\frac{2 \\pi x}{L} \\right)} \\sin{\\left(\\frac{2 \\pi z}{L} \\right)} \\cos{\\left(\\frac{2 \\pi y}{L} \\right)}}{L} + \\frac{2 \\pi \\sin{\\left(\\frac{2 \\pi y}{L} \\right)} \\sin{\\left(\\frac{2 \\pi z}{L} \\right)} \\cos{\\left(\\frac{2 \\pi x}{L} \\right)}}{L} + \\frac{2 \\pi \\cos{\\left(\\frac{2 \\pi x}{L} \\right)} \\cos{\\left(\\frac{2 \\pi y}{L} \\right)} \\cos{\\left(\\frac{2 \\pi z}{L} \\right)}}{L}$"
      ],
      "text/plain": [
       "-2*pi*sin(2*pi*x/L)*sin(2*pi*y/L)*cos(2*pi*z/L)/L - 2*pi*sin(2*pi*x/L)*sin(2*pi*z/L)*cos(2*pi*y/L)/L + 2*pi*sin(2*pi*y/L)*sin(2*pi*z/L)*cos(2*pi*x/L)/L + 2*pi*cos(2*pi*x/L)*cos(2*pi*y/L)*cos(2*pi*z/L)/L"
      ]
     },
     "execution_count": 2,
     "metadata": {},
     "output_type": "execute_result"
    }
   ],
   "source": [
    "from sympy import sin, cos, diff\n",
    "from sympy.abc import x, y, z, A, L, D, pi\n",
    "\n",
    "rx = 2 * pi * x / L\n",
    "ry = 2 * pi * y / L\n",
    "rz = 2 * pi * z / L\n",
    "\n",
    "G = (\n",
    "    sin(rx) * sin(ry) * sin(rz)\n",
    "    + cos(rx) * cos(ry) * sin(rz)\n",
    "    + cos(rx) * sin(ry) * cos(rz)\n",
    "    + sin(rx) * cos(ry) * cos(rz)\n",
    "    + A\n",
    ")\n",
    "\n",
    "diff(G, x)"
   ]
  },
  {
   "cell_type": "markdown",
   "metadata": {},
   "source": [
    "これを`gradient`関数と呼ぶ。"
   ]
  },
  {
   "cell_type": "code",
   "execution_count": null,
   "metadata": {},
   "outputs": [],
   "source": [
    "def gradient(x, cell):\n",
    "    Lx, Ly, Lz = cell[0, 0], cell[1, 1], cell[2, 2]\n",
    "    assert Lx == Ly and Lx == Lz, \"Should be a cubic cell.\"\n",
    "    assert (\n",
    "        np.count_nonzero(cell - np.diag(np.diagonal(cell))) == 0\n",
    "    ), \"Should be an orthogonal cell.\"\n",
    "\n",
    "    rx, ry, rz = (2 * np.pi * x / L).T\n",
    "    return (\n",
    "        (\n",
    "            -np.sin(rx) * np.sin(ry) * np.cos(rz)\n",
    "            - np.sin(rx) * np.cos(ry) * np.sin(rz)\n",
    "            + np.cos(rx) * np.sin(ry) * np.sin(rz)\n",
    "            + np.cos(rx) * np.cos(ry) * np.cos(rz)\n",
    "        )\n",
    "        * 2\n",
    "        * np.pi\n",
    "        / L,\n",
    "        (\n",
    "            np.sin(rx) * np.cos(ry) * np.sin(rz)\n",
    "            - np.cos(rx) * np.sin(ry) * np.sin(rz)\n",
    "            + np.cos(rx) * np.cos(ry) * np.cos(rz)\n",
    "            - np.sin(rx) * np.sin(ry) * np.cos(rz)\n",
    "        )\n",
    "        * 2\n",
    "        * np.pi\n",
    "        / L,\n",
    "        (\n",
    "            np.sin(rx) * np.sin(ry) * np.cos(rz)\n",
    "            + np.cos(rx) * np.cos(ry) * np.cos(rz)\n",
    "            - np.cos(rx) * np.sin(ry) * np.sin(rz)\n",
    "            - np.sin(rx) * np.cos(ry) * np.sin(rz)\n",
    "        )\n",
    "        * 2\n",
    "        * np.pi\n",
    "        / L,\n",
    "    )"
   ]
  },
  {
   "cell_type": "markdown",
   "metadata": {},
   "source": [
    "コスト関数は、$D G^2$とする。これを最小にする$x,y,z$は$G$上にある。\n",
    "\n",
    "構造最適化のためには、このコスト関数の勾配が必要。"
   ]
  },
  {
   "cell_type": "code",
   "execution_count": 3,
   "metadata": {},
   "outputs": [
    {
     "data": {
      "text/latex": [
       "$\\displaystyle - \\frac{4 \\pi \\left(A + \\cos{\\left(\\frac{2 \\pi x}{L} \\right)} + \\cos{\\left(\\frac{2 \\pi y}{L} \\right)} + \\cos{\\left(\\frac{2 \\pi z}{L} \\right)}\\right) \\sin{\\left(\\frac{2 \\pi x}{L} \\right)}}{L}$"
      ],
      "text/plain": [
       "-4*pi*(A + cos(2*pi*x/L) + cos(2*pi*y/L) + cos(2*pi*z/L))*sin(2*pi*x/L)/L"
      ]
     },
     "execution_count": 3,
     "metadata": {},
     "output_type": "execute_result"
    }
   ],
   "source": [
    "diff(G**2, x)"
   ]
  }
 ],
 "metadata": {
  "kernelspec": {
   "display_name": "gyroid-cqmDCkE1",
   "language": "python",
   "name": "python3"
  },
  "language_info": {
   "codemirror_mode": {
    "name": "ipython",
    "version": 3
   },
   "file_extension": ".py",
   "mimetype": "text/x-python",
   "name": "python",
   "nbconvert_exporter": "python",
   "pygments_lexer": "ipython3",
   "version": "3.11.4"
  }
 },
 "nbformat": 4,
 "nbformat_minor": 2
}
