{
 "cells": [
  {
   "cell_type": "markdown",
   "metadata": {},
   "source": [
    "## 0. 前準備\n",
    "\n",
    "Poetry (python の仮想環境)をインストール\n",
    "\n",
    "```\n",
    "brew install poetry\n",
    "```\n",
    "\n",
    "### 0.1 graphene-studio のフォルダー内で、仮想環境を生成\n",
    "\n",
    "```\n",
    "poetry install\n",
    "```\n",
    "\n",
    "### 0.2 VSCode で、test.ipynb を開き、2 で生成した python kernel を指定して実行\n"
   ]
  },
  {
   "cell_type": "markdown",
   "metadata": {},
   "source": [
    "## 1. 外場なしの配置\n",
    "\n",
    "外場は与えず、原子間斥力のみ与えて Quench して原子配置を均一化する。\n"
   ]
  },
  {
   "cell_type": "code",
   "execution_count": 13,
   "metadata": {},
   "outputs": [
    {
     "name": "stdout",
     "output_type": "stream",
     "text": [
      "         Current function value: 4681.351339\n",
      "         Iterations: 4\n",
      "         Function evaluations: 145\n",
      "         Gradient evaluations: 134\n"
     ]
    },
    {
     "name": "stderr",
     "output_type": "stream",
     "text": [
      "/Users/matto/Library/Caches/pypoetry/virtualenvs/graphene-studio-LdnOtBEG-py3.11/lib/python3.11/site-packages/scipy/optimize/_optimize.py:1658: OptimizeWarning:\n",
      "\n",
      "Desired error not necessarily achieved due to precision loss.\n",
      "\n"
     ]
    }
   ],
   "source": [
    "from logging import getLogger\n",
    "\n",
    "import numpy as np\n",
    "\n",
    "from graphenestudio.quench import quench_particles\n",
    "from graphenestudio.pack import random_box\n",
    "from graphenestudio.interaction import repulsive_potential, repulsive_force\n",
    "\n",
    "logger = getLogger()\n",
    "\n",
    "# 斥力で配置を調整する原子の個数。最終的に配置する炭素の数ではない。\n",
    "Natom = 192\n",
    "# 立方体セル\n",
    "cell = np.diag(np.array([5.0, 5.0, 5.0]))\n",
    "\n",
    "# 初期配置。セル相対。\n",
    "r = random_box(Natom)\n",
    "\n",
    "# ポテンシャルエネルギーは粒子位置の関数。\n",
    "pot = lambda r, cell: repulsive_potential(r, cell, repul=4, rc=2.0)\n",
    "# その勾配。\n",
    "dpot = lambda r, cell: -repulsive_force(r, cell, repul=4, rc=2.0)\n",
    "\n",
    "r_quenched = quench_particles(r, cell, pot, dpot)\n",
    "x_quenched = r_quenched @ cell"
   ]
  },
  {
   "cell_type": "markdown",
   "metadata": {},
   "source": [
    "Quench 前とあとを比較。\n"
   ]
  },
  {
   "cell_type": "code",
   "execution_count": null,
   "metadata": {},
   "outputs": [],
   "source": [
    "# -*- coding: utf-8 -*-\n",
    "import plotly.graph_objects as go\n",
    "from itertools import starmap\n",
    "\n",
    "x = r @ cell\n",
    "\n",
    "# mode='makers'を指定しないと点の間に線が引かれる\n",
    "fig = go.Figure(\n",
    "    data=[\n",
    "        go.Scatter3d(\n",
    "            x=x[:, 0],\n",
    "            y=x[:, 1],\n",
    "            z=x[:, 2],\n",
    "            mode=\"markers\",\n",
    "            marker=dict(\n",
    "                size=5,\n",
    "                # color=point_sum,\n",
    "                colorscale=\"Viridis\",\n",
    "                # symbol=result_symbol\n",
    "            ),\n",
    "        ),\n",
    "        go.Scatter3d(\n",
    "            x=x_quenched[:, 0],\n",
    "            y=x_quenched[:, 1],\n",
    "            z=x_quenched[:, 2],\n",
    "            mode=\"markers\",\n",
    "            marker=dict(\n",
    "                size=5,\n",
    "                # color=point_sum,\n",
    "                colorscale=\"Viridis\",\n",
    "                # symbol=result_symbol\n",
    "            ),\n",
    "        ),\n",
    "    ]\n",
    ")\n",
    "fig.show()"
   ]
  },
  {
   "cell_type": "markdown",
   "metadata": {},
   "source": [
    "## 2. graphene の本格的生成\n",
    "\n",
    "外場を加えたエネルギー関数とその傾きの関数を準備する。\n"
   ]
  },
  {
   "cell_type": "code",
   "execution_count": 1,
   "metadata": {},
   "outputs": [],
   "source": [
    "# The gyroid surface and its gradient\n",
    "from logging import getLogger, basicConfig, INFO\n",
    "\n",
    "import numpy as np\n",
    "\n",
    "from graphenestudio.pack import random_box\n",
    "from graphenestudio.interaction import repulsive_potential, repulsive_force\n",
    "\n",
    "from graphenestudio.surface import Gyroid, Sphere, Diamond, PSurface\n",
    "\n",
    "# from graphenestudio.surface.psurface import PSurface\n",
    "\n",
    "\n",
    "basicConfig(level=INFO)\n",
    "logger = getLogger()\n",
    "\n",
    "# 斥力粒子の個数\n",
    "Natom = 130\n",
    "# 外場の強度。小さいと、ぎゅうぎゅうづめになった時に面外に粒子がこぼれる可能性がある。\n",
    "cost = 100000\n",
    "# 立方体セル\n",
    "cell = np.diag(np.array([5.0, 5.0, 5.0]))\n",
    "\n",
    "# 曲面関数\n",
    "# surf = Gyroid(eccentricity=0.0)\n",
    "# surf = Sphere(radius=0.45)\n",
    "# surf = Diamond(eccentricity=0.0)\n",
    "surf = PSurface(eccentricity=0.0)\n",
    "\n",
    "# 斥力粒子の座標(セル相対)\n",
    "r = random_box(Natom)\n",
    "\n",
    "# 斥力粒子のポテンシャルエネルギー関数\n",
    "pot = lambda r, cell: repulsive_potential(\n",
    "    r, cell, repul=4, rc=1.0\n",
    ") + cost * surf.exfield_potential(r)\n",
    "# その勾配\n",
    "dpot = lambda r, cell: -repulsive_force(\n",
    "    r, cell, repul=4, rc=1.0\n",
    ") + cost * surf.exfield_gradient(r)"
   ]
  },
  {
   "cell_type": "markdown",
   "metadata": {},
   "source": [
    "### 2.1 Quench し、表示する。\n"
   ]
  },
  {
   "cell_type": "code",
   "execution_count": 2,
   "metadata": {},
   "outputs": [
    {
     "name": "stderr",
     "output_type": "stream",
     "text": [
      "/Users/matto/Library/Caches/pypoetry/virtualenvs/graphene-studio-LdnOtBEG-py3.11/lib/python3.11/site-packages/scipy/optimize/_optimize.py:1658: OptimizeWarning: Desired error not necessarily achieved due to precision loss.\n",
      "  res = _minimize_cg(f, x0, args, fprime, callback=callback, c1=c1, c2=c2,\n"
     ]
    },
    {
     "name": "stdout",
     "output_type": "stream",
     "text": [
      "         Current function value: 3273202.857883\n",
      "         Iterations: 3\n",
      "         Function evaluations: 54\n",
      "         Gradient evaluations: 43\n"
     ]
    },
    {
     "data": {
      "application/vnd.plotly.v1+json": {
       "config": {
        "plotlyServerURL": "https://plot.ly"
       },
       "data": [
        {
         "marker": {
          "colorscale": [
           [
            0,
            "#440154"
           ],
           [
            0.1111111111111111,
            "#482878"
           ],
           [
            0.2222222222222222,
            "#3e4989"
           ],
           [
            0.3333333333333333,
            "#31688e"
           ],
           [
            0.4444444444444444,
            "#26828e"
           ],
           [
            0.5555555555555556,
            "#1f9e89"
           ],
           [
            0.6666666666666666,
            "#35b779"
           ],
           [
            0.7777777777777778,
            "#6ece58"
           ],
           [
            0.8888888888888888,
            "#b5de2b"
           ],
           [
            1,
            "#fde725"
           ]
          ],
          "size": 5
         },
         "mode": "markers",
         "type": "scatter3d",
         "x": [
          -1.1307136483669913,
          1.349037011381634,
          -1.2191853606172258,
          0.9790161787238304,
          -2.480443951544054,
          1.038242370442338,
          -1.7465035507339675,
          -1.1741564394410455,
          1.5192341670138434,
          -1.1186811191679764,
          -0.6415326571959239,
          1.3112533429555229,
          1.520675697423556,
          -2.4511595205756813,
          2.360272315759301,
          -2.3906242437119527,
          -2.4856473681703943,
          -2.4663402643678816,
          -1.6778957223759376,
          -2.4773860631023847,
          0.02740089852722838,
          1.2514925942718456,
          0.04240469517407478,
          0.8622752854040499,
          -1.3026676040366065,
          -1.8148878039081766,
          1.8516105439810695,
          0.2208572773387475,
          0.19582568237628128,
          -2.410621704778006,
          -1.1786205271104406,
          1.470662716959469,
          -1.523229694150242,
          0.00387084649970003,
          1.3276593640814967,
          -0.7940542015511141,
          -2.4807578203477916,
          -2.400453450439579,
          -2.4137461168000294,
          0.002328043727684374,
          1.5316711773202083,
          0.08805586134798801,
          1.6698565383812733,
          -2.427746978634697,
          -2.426088134763103,
          0.08761599935898458,
          -1.6449947224918433,
          1.3074611642717775,
          -1.471258781761221,
          0.06906559938916214,
          0.019332888585648397,
          -2.444479948228115,
          -1.319727787775138,
          -1.489183115589316,
          -0.9903018599116433,
          -2.036538803944506,
          -1.3239585809380705,
          -0.4024420481851594,
          -1.475878246887547,
          -1.4901787726471944,
          1.6733121380110356,
          1.5348414017261103,
          -2.4913857280650813,
          -0.9724774271222948,
          -0.4338374861449121,
          1.8058773156200574,
          0.012911459483394897,
          -1.4839509628613532,
          -1.2758112639532868,
          -0.13152168225322325,
          -2.487905134327292,
          -1.6060089269805573,
          0.13822629434435402,
          1.2194341753157603,
          0.11422021269086668,
          0.7237009986215577,
          -2.4518539267439294,
          1.0466248074810132,
          -2.4390221797189673,
          -1.4827722261154297,
          -1.6467244678493782,
          -2.1217125430149584,
          1.8472548304785499,
          1.1406786488243457,
          0.05120738567723833,
          -2.087022796230068,
          -0.9671725069501353,
          0.8454013614155143,
          -2.0738623747426908,
          0.7211094476019038,
          1.5085881247290045,
          -0.9923209317195869,
          1.0499142971686952,
          1.8475620703888396,
          -2.4550198175593025,
          -2.3475425618310024,
          -2.4941434155078532,
          1.3690374472608888,
          -1.136301733653506,
          1.1807255097796923,
          1.3662714618092653,
          0.419181502918614,
          1.5358800411098672,
          1.0177685075161933,
          -2.491456424943175,
          2.0939225670615804,
          -2.361937525604787,
          -0.6856850146946398,
          -2.466859636584761,
          -0.9643428614200545,
          1.3769146045148473,
          1.3188731711020487,
          1.0269564517124339,
          1.196626074731131,
          -0.6618763908048173,
          0.938604864144621,
          -1.701035585245907,
          -0.2201881973276535,
          -2.499513943099553,
          0.8358435109121942,
          2.088748021277692,
          0.056709979303106735,
          -1.799492262162109,
          0.012072628047837687,
          1.8346187244374335,
          1.0989861849901548,
          0.03797889343328705,
          1.8728601037204191,
          0.46878196367805935,
          1.2661648020483487
         ],
         "y": [
          1.3162847472601817,
          -1.206589744734491,
          -1.1922105604166422,
          1.001439129802569,
          0.014248919900785969,
          1.8273527961983445,
          -1.721772241012911,
          -1.231610733761546,
          -1.4706664698224867,
          -2.4828861317869246,
          1.5167187448826196,
          0.035970568234374084,
          -1.503501751378924,
          -0.2165664546596272,
          0.1210509430703726,
          -2.411977414626957,
          -0.7613196334193146,
          -2.4827909494364846,
          0.15189030596225697,
          -0.1336047901026023,
          0.06870986157412526,
          -1.1980894258849122,
          -2.4827784201790903,
          -2.34620447714609,
          -2.0685346015890156,
          -0.9966236560240969,
          -0.9311791272367538,
          -2.325768419015843,
          0.14379418430778743,
          1.198870236784725,
          -2.463028779543915,
          0.002491102859176679,
          -0.6752405571665593,
          -2.497787260246718,
          -2.0416313357029106,
          -2.389256516281071,
          -1.0642721164073552,
          0.0004284445140951399,
          0.4736777429689195,
          -2.4724025702191534,
          0.6767703137089531,
          -2.3568300652176837,
          0.04434849291581677,
          0.22550023532597965,
          -1.1933262524682886,
          2.2805709846450015,
          1.6894309332175999,
          1.3292040601405724,
          -1.5108376657197256,
          -1.3049760888987665,
          -2.486244035156604,
          0.14087508667071288,
          1.265837479531998,
          1.537173922754553,
          -1.8017822724025798,
          0.06600555871897938,
          -1.2865275891086816,
          1.2192320567267803,
          1.5236918601714986,
          -1.5180746931602285,
          -1.6590789990958286,
          -0.6488132117715201,
          -0.43523691563403255,
          -1.0080549378191208,
          -1.188335834174399,
          0.9860744243195623,
          -1.679914129693013,
          0.7106243273422184,
          2.1022008912918393,
          -2.45368774334871,
          0.038185761290082866,
          -1.6384313140635225,
          0.0071119259999066885,
          -0.4023255793738481,
          1.7284041422128713,
          -1.4692852851497107,
          0.8702363801035731,
          -0.9489612487693337,
          1.3710431297622727,
          -0.6605575951246989,
          0.02272346506858194,
          -2.2766614908090266,
          1.8500376085282793,
          -2.4726976022417055,
          1.7113525031273618,
          0.027782296891788807,
          -1.8209897421102066,
          2.476567914362182,
          -1.3007820019718643,
          0.6773710474850602,
          1.4971382681083383,
          1.8301188083149076,
          -1.8066791997873524,
          0.9873556213298386,
          0.8147801690867724,
          -2.3807116284935583,
          -2.425203379399887,
          1.3048123864210823,
          0.032043151874138365,
          -2.4606599234902076,
          0.02753524240687238,
          -2.4404232027310058,
          1.474275356794609,
          -1.7911709705891232,
          -1.1632635233266575,
          0.011490747418799218,
          -2.4319615199172575,
          -1.5019691588607857,
          0.4195955840211818,
          1.8130759726471166,
          -2.4843486583104384,
          2.058890374865457,
          -0.935676850962768,
          1.2248921876536594,
          -1.4896651827552803,
          0.9474373812824949,
          -0.02611024102130633,
          -2.4239272697846195,
          -0.5466055440163292,
          -2.461308146332551,
          -1.2856018237213664,
          1.3183858942744502,
          1.036372436335151,
          -2.4929603667247267,
          -0.9908400697687376,
          1.1873192312719927,
          1.320704866556073,
          0.06654313205271178,
          -2.447742649364134,
          -1.2300710823566376
         ],
         "z": [
          -1.2193149181527265,
          -1.3212206558286566,
          1.2948560765091717,
          1.8186612226007626,
          -1.121123422989209,
          -0.9391842329829645,
          -0.03572158497319073,
          -1.2685907160574046,
          0.7120656816161873,
          0.005783107160294156,
          1.5232745356111852,
          2.066967850296476,
          -0.6697204806873611,
          -2.3545694350366198,
          0.11069147177723294,
          -0.1328336310546439,
          0.8610400072521653,
          0.0037163301230635796,
          -1.6628737678812753,
          -2.44532473776768,
          -2.364585777364408,
          1.242608364767393,
          1.1456596239216275,
          -0.8201353562243017,
          0.07572951539344469,
          -0.9949042051674322,
          1.0274832753053125,
          -2.423358833504142,
          -2.2740141133247835,
          0.43190667771571994,
          0.4494209675960726,
          1.5122725115066082,
          -1.4998138028439403,
          1.3827628283410451,
          0.06976054661814511,
          0.8361137895616433,
          -1.0750396931577701,
          -2.457352031688274,
          -1.1593354133329439,
          -1.133020820644948,
          -1.485534298629048,
          0.006512306393635498,
          -1.6620617591325861,
          -2.289296239478797,
          -0.42947043286055786,
          0.13295791202809126,
          0.012842689485877785,
          -1.2799395149021708,
          0.7233408926094216,
          -2.0652984218304122,
          -1.3521583422922228,
          -2.4967546266437917,
          -1.2524892495902182,
          -0.6656103054588576,
          -1.0112168239324177,
          1.332714587603724,
          -1.2414264039051854,
          -2.450129081192825,
          0.6967175310998217,
          -0.6926610723176254,
          0.03453457918353963,
          -1.5055424781490636,
          -1.189145428610987,
          -1.8285208781711688,
          -2.4406065988091457,
          1.007098851323762,
          -1.7053194701988224,
          -1.5076505960633657,
          0.041999320669509704,
          -2.3890210913744876,
          0.09992713602804104,
          0.1846295590024482,
          2.285443125347705,
          -2.4770420060075984,
          -1.645622817945343,
          1.5122255841093382,
          -0.7972107045650803,
          -1.8054106726566468,
          0.009919266427753926,
          1.5502606181918066,
          1.6883342723666876,
          -2.2545570239998374,
          -0.07293076049855926,
          0.02068822797571947,
          1.65960639311462,
          -1.287641419007486,
          1.0180415842834112,
          -0.7622443185008687,
          0.0026527799040289733,
          2.4371070064668614,
          0.6859755574449299,
          -0.9855212740428564,
          -0.944748787344677,
          -0.9750464783904533,
          0.8548793366158715,
          -0.22180724843757926,
          0.1401901803180022,
          1.268276862660231,
          -2.4834486502930173,
          0.44841456127208945,
          -2.455221632377664,
          1.207974175010019,
          0.11181055884683129,
          0.9864923950248614,
          0.46489854643644796,
          -1.2856446749139936,
          0.22617163875884802,
          -1.5132306189612028,
          1.2066324653760998,
          1.0230989501135093,
          0.014874200100497455,
          0.016738188935601896,
          1.845352188276177,
          -1.137242320637056,
          1.5375156387309639,
          -2.321577841358941,
          -1.673151577220728,
          -2.4651263722201384,
          -0.6043954382766523,
          0.8327929439915183,
          0.06320183872020896,
          2.0575735424535937,
          -0.9640464977714586,
          0.10368933125571092,
          -0.9843852200858645,
          1.2381519843728186,
          -2.052714443937597,
          1.8522565587542703,
          -1.1609008339492475,
          -1.1389469414533642
         ]
        }
       ],
       "layout": {
        "template": {
         "data": {
          "bar": [
           {
            "error_x": {
             "color": "#2a3f5f"
            },
            "error_y": {
             "color": "#2a3f5f"
            },
            "marker": {
             "line": {
              "color": "#E5ECF6",
              "width": 0.5
             },
             "pattern": {
              "fillmode": "overlay",
              "size": 10,
              "solidity": 0.2
             }
            },
            "type": "bar"
           }
          ],
          "barpolar": [
           {
            "marker": {
             "line": {
              "color": "#E5ECF6",
              "width": 0.5
             },
             "pattern": {
              "fillmode": "overlay",
              "size": 10,
              "solidity": 0.2
             }
            },
            "type": "barpolar"
           }
          ],
          "carpet": [
           {
            "aaxis": {
             "endlinecolor": "#2a3f5f",
             "gridcolor": "white",
             "linecolor": "white",
             "minorgridcolor": "white",
             "startlinecolor": "#2a3f5f"
            },
            "baxis": {
             "endlinecolor": "#2a3f5f",
             "gridcolor": "white",
             "linecolor": "white",
             "minorgridcolor": "white",
             "startlinecolor": "#2a3f5f"
            },
            "type": "carpet"
           }
          ],
          "choropleth": [
           {
            "colorbar": {
             "outlinewidth": 0,
             "ticks": ""
            },
            "type": "choropleth"
           }
          ],
          "contour": [
           {
            "colorbar": {
             "outlinewidth": 0,
             "ticks": ""
            },
            "colorscale": [
             [
              0,
              "#0d0887"
             ],
             [
              0.1111111111111111,
              "#46039f"
             ],
             [
              0.2222222222222222,
              "#7201a8"
             ],
             [
              0.3333333333333333,
              "#9c179e"
             ],
             [
              0.4444444444444444,
              "#bd3786"
             ],
             [
              0.5555555555555556,
              "#d8576b"
             ],
             [
              0.6666666666666666,
              "#ed7953"
             ],
             [
              0.7777777777777778,
              "#fb9f3a"
             ],
             [
              0.8888888888888888,
              "#fdca26"
             ],
             [
              1,
              "#f0f921"
             ]
            ],
            "type": "contour"
           }
          ],
          "contourcarpet": [
           {
            "colorbar": {
             "outlinewidth": 0,
             "ticks": ""
            },
            "type": "contourcarpet"
           }
          ],
          "heatmap": [
           {
            "colorbar": {
             "outlinewidth": 0,
             "ticks": ""
            },
            "colorscale": [
             [
              0,
              "#0d0887"
             ],
             [
              0.1111111111111111,
              "#46039f"
             ],
             [
              0.2222222222222222,
              "#7201a8"
             ],
             [
              0.3333333333333333,
              "#9c179e"
             ],
             [
              0.4444444444444444,
              "#bd3786"
             ],
             [
              0.5555555555555556,
              "#d8576b"
             ],
             [
              0.6666666666666666,
              "#ed7953"
             ],
             [
              0.7777777777777778,
              "#fb9f3a"
             ],
             [
              0.8888888888888888,
              "#fdca26"
             ],
             [
              1,
              "#f0f921"
             ]
            ],
            "type": "heatmap"
           }
          ],
          "heatmapgl": [
           {
            "colorbar": {
             "outlinewidth": 0,
             "ticks": ""
            },
            "colorscale": [
             [
              0,
              "#0d0887"
             ],
             [
              0.1111111111111111,
              "#46039f"
             ],
             [
              0.2222222222222222,
              "#7201a8"
             ],
             [
              0.3333333333333333,
              "#9c179e"
             ],
             [
              0.4444444444444444,
              "#bd3786"
             ],
             [
              0.5555555555555556,
              "#d8576b"
             ],
             [
              0.6666666666666666,
              "#ed7953"
             ],
             [
              0.7777777777777778,
              "#fb9f3a"
             ],
             [
              0.8888888888888888,
              "#fdca26"
             ],
             [
              1,
              "#f0f921"
             ]
            ],
            "type": "heatmapgl"
           }
          ],
          "histogram": [
           {
            "marker": {
             "pattern": {
              "fillmode": "overlay",
              "size": 10,
              "solidity": 0.2
             }
            },
            "type": "histogram"
           }
          ],
          "histogram2d": [
           {
            "colorbar": {
             "outlinewidth": 0,
             "ticks": ""
            },
            "colorscale": [
             [
              0,
              "#0d0887"
             ],
             [
              0.1111111111111111,
              "#46039f"
             ],
             [
              0.2222222222222222,
              "#7201a8"
             ],
             [
              0.3333333333333333,
              "#9c179e"
             ],
             [
              0.4444444444444444,
              "#bd3786"
             ],
             [
              0.5555555555555556,
              "#d8576b"
             ],
             [
              0.6666666666666666,
              "#ed7953"
             ],
             [
              0.7777777777777778,
              "#fb9f3a"
             ],
             [
              0.8888888888888888,
              "#fdca26"
             ],
             [
              1,
              "#f0f921"
             ]
            ],
            "type": "histogram2d"
           }
          ],
          "histogram2dcontour": [
           {
            "colorbar": {
             "outlinewidth": 0,
             "ticks": ""
            },
            "colorscale": [
             [
              0,
              "#0d0887"
             ],
             [
              0.1111111111111111,
              "#46039f"
             ],
             [
              0.2222222222222222,
              "#7201a8"
             ],
             [
              0.3333333333333333,
              "#9c179e"
             ],
             [
              0.4444444444444444,
              "#bd3786"
             ],
             [
              0.5555555555555556,
              "#d8576b"
             ],
             [
              0.6666666666666666,
              "#ed7953"
             ],
             [
              0.7777777777777778,
              "#fb9f3a"
             ],
             [
              0.8888888888888888,
              "#fdca26"
             ],
             [
              1,
              "#f0f921"
             ]
            ],
            "type": "histogram2dcontour"
           }
          ],
          "mesh3d": [
           {
            "colorbar": {
             "outlinewidth": 0,
             "ticks": ""
            },
            "type": "mesh3d"
           }
          ],
          "parcoords": [
           {
            "line": {
             "colorbar": {
              "outlinewidth": 0,
              "ticks": ""
             }
            },
            "type": "parcoords"
           }
          ],
          "pie": [
           {
            "automargin": true,
            "type": "pie"
           }
          ],
          "scatter": [
           {
            "fillpattern": {
             "fillmode": "overlay",
             "size": 10,
             "solidity": 0.2
            },
            "type": "scatter"
           }
          ],
          "scatter3d": [
           {
            "line": {
             "colorbar": {
              "outlinewidth": 0,
              "ticks": ""
             }
            },
            "marker": {
             "colorbar": {
              "outlinewidth": 0,
              "ticks": ""
             }
            },
            "type": "scatter3d"
           }
          ],
          "scattercarpet": [
           {
            "marker": {
             "colorbar": {
              "outlinewidth": 0,
              "ticks": ""
             }
            },
            "type": "scattercarpet"
           }
          ],
          "scattergeo": [
           {
            "marker": {
             "colorbar": {
              "outlinewidth": 0,
              "ticks": ""
             }
            },
            "type": "scattergeo"
           }
          ],
          "scattergl": [
           {
            "marker": {
             "colorbar": {
              "outlinewidth": 0,
              "ticks": ""
             }
            },
            "type": "scattergl"
           }
          ],
          "scattermapbox": [
           {
            "marker": {
             "colorbar": {
              "outlinewidth": 0,
              "ticks": ""
             }
            },
            "type": "scattermapbox"
           }
          ],
          "scatterpolar": [
           {
            "marker": {
             "colorbar": {
              "outlinewidth": 0,
              "ticks": ""
             }
            },
            "type": "scatterpolar"
           }
          ],
          "scatterpolargl": [
           {
            "marker": {
             "colorbar": {
              "outlinewidth": 0,
              "ticks": ""
             }
            },
            "type": "scatterpolargl"
           }
          ],
          "scatterternary": [
           {
            "marker": {
             "colorbar": {
              "outlinewidth": 0,
              "ticks": ""
             }
            },
            "type": "scatterternary"
           }
          ],
          "surface": [
           {
            "colorbar": {
             "outlinewidth": 0,
             "ticks": ""
            },
            "colorscale": [
             [
              0,
              "#0d0887"
             ],
             [
              0.1111111111111111,
              "#46039f"
             ],
             [
              0.2222222222222222,
              "#7201a8"
             ],
             [
              0.3333333333333333,
              "#9c179e"
             ],
             [
              0.4444444444444444,
              "#bd3786"
             ],
             [
              0.5555555555555556,
              "#d8576b"
             ],
             [
              0.6666666666666666,
              "#ed7953"
             ],
             [
              0.7777777777777778,
              "#fb9f3a"
             ],
             [
              0.8888888888888888,
              "#fdca26"
             ],
             [
              1,
              "#f0f921"
             ]
            ],
            "type": "surface"
           }
          ],
          "table": [
           {
            "cells": {
             "fill": {
              "color": "#EBF0F8"
             },
             "line": {
              "color": "white"
             }
            },
            "header": {
             "fill": {
              "color": "#C8D4E3"
             },
             "line": {
              "color": "white"
             }
            },
            "type": "table"
           }
          ]
         },
         "layout": {
          "annotationdefaults": {
           "arrowcolor": "#2a3f5f",
           "arrowhead": 0,
           "arrowwidth": 1
          },
          "autotypenumbers": "strict",
          "coloraxis": {
           "colorbar": {
            "outlinewidth": 0,
            "ticks": ""
           }
          },
          "colorscale": {
           "diverging": [
            [
             0,
             "#8e0152"
            ],
            [
             0.1,
             "#c51b7d"
            ],
            [
             0.2,
             "#de77ae"
            ],
            [
             0.3,
             "#f1b6da"
            ],
            [
             0.4,
             "#fde0ef"
            ],
            [
             0.5,
             "#f7f7f7"
            ],
            [
             0.6,
             "#e6f5d0"
            ],
            [
             0.7,
             "#b8e186"
            ],
            [
             0.8,
             "#7fbc41"
            ],
            [
             0.9,
             "#4d9221"
            ],
            [
             1,
             "#276419"
            ]
           ],
           "sequential": [
            [
             0,
             "#0d0887"
            ],
            [
             0.1111111111111111,
             "#46039f"
            ],
            [
             0.2222222222222222,
             "#7201a8"
            ],
            [
             0.3333333333333333,
             "#9c179e"
            ],
            [
             0.4444444444444444,
             "#bd3786"
            ],
            [
             0.5555555555555556,
             "#d8576b"
            ],
            [
             0.6666666666666666,
             "#ed7953"
            ],
            [
             0.7777777777777778,
             "#fb9f3a"
            ],
            [
             0.8888888888888888,
             "#fdca26"
            ],
            [
             1,
             "#f0f921"
            ]
           ],
           "sequentialminus": [
            [
             0,
             "#0d0887"
            ],
            [
             0.1111111111111111,
             "#46039f"
            ],
            [
             0.2222222222222222,
             "#7201a8"
            ],
            [
             0.3333333333333333,
             "#9c179e"
            ],
            [
             0.4444444444444444,
             "#bd3786"
            ],
            [
             0.5555555555555556,
             "#d8576b"
            ],
            [
             0.6666666666666666,
             "#ed7953"
            ],
            [
             0.7777777777777778,
             "#fb9f3a"
            ],
            [
             0.8888888888888888,
             "#fdca26"
            ],
            [
             1,
             "#f0f921"
            ]
           ]
          },
          "colorway": [
           "#636efa",
           "#EF553B",
           "#00cc96",
           "#ab63fa",
           "#FFA15A",
           "#19d3f3",
           "#FF6692",
           "#B6E880",
           "#FF97FF",
           "#FECB52"
          ],
          "font": {
           "color": "#2a3f5f"
          },
          "geo": {
           "bgcolor": "white",
           "lakecolor": "white",
           "landcolor": "#E5ECF6",
           "showlakes": true,
           "showland": true,
           "subunitcolor": "white"
          },
          "hoverlabel": {
           "align": "left"
          },
          "hovermode": "closest",
          "mapbox": {
           "style": "light"
          },
          "paper_bgcolor": "white",
          "plot_bgcolor": "#E5ECF6",
          "polar": {
           "angularaxis": {
            "gridcolor": "white",
            "linecolor": "white",
            "ticks": ""
           },
           "bgcolor": "#E5ECF6",
           "radialaxis": {
            "gridcolor": "white",
            "linecolor": "white",
            "ticks": ""
           }
          },
          "scene": {
           "xaxis": {
            "backgroundcolor": "#E5ECF6",
            "gridcolor": "white",
            "gridwidth": 2,
            "linecolor": "white",
            "showbackground": true,
            "ticks": "",
            "zerolinecolor": "white"
           },
           "yaxis": {
            "backgroundcolor": "#E5ECF6",
            "gridcolor": "white",
            "gridwidth": 2,
            "linecolor": "white",
            "showbackground": true,
            "ticks": "",
            "zerolinecolor": "white"
           },
           "zaxis": {
            "backgroundcolor": "#E5ECF6",
            "gridcolor": "white",
            "gridwidth": 2,
            "linecolor": "white",
            "showbackground": true,
            "ticks": "",
            "zerolinecolor": "white"
           }
          },
          "shapedefaults": {
           "line": {
            "color": "#2a3f5f"
           }
          },
          "ternary": {
           "aaxis": {
            "gridcolor": "white",
            "linecolor": "white",
            "ticks": ""
           },
           "baxis": {
            "gridcolor": "white",
            "linecolor": "white",
            "ticks": ""
           },
           "bgcolor": "#E5ECF6",
           "caxis": {
            "gridcolor": "white",
            "linecolor": "white",
            "ticks": ""
           }
          },
          "title": {
           "x": 0.05
          },
          "xaxis": {
           "automargin": true,
           "gridcolor": "white",
           "linecolor": "white",
           "ticks": "",
           "title": {
            "standoff": 15
           },
           "zerolinecolor": "white",
           "zerolinewidth": 2
          },
          "yaxis": {
           "automargin": true,
           "gridcolor": "white",
           "linecolor": "white",
           "ticks": "",
           "title": {
            "standoff": 15
           },
           "zerolinecolor": "white",
           "zerolinewidth": 2
          }
         }
        }
       }
      }
     },
     "metadata": {},
     "output_type": "display_data"
    }
   ],
   "source": [
    "from graphenestudio.quench import quench_particles\n",
    "import plotly.graph_objects as go\n",
    "\n",
    "r_quenched = quench_particles(r, cell, pot, dpot)\n",
    "x_quenched = r_quenched @ cell\n",
    "\n",
    "\n",
    "# mode='makers'を指定しないと点の間に線が引かれる\n",
    "fig = go.Figure(\n",
    "    data=[\n",
    "        # go.Scatter3d(\n",
    "        #     x=x[:, 0],\n",
    "        #     y=x[:, 1],\n",
    "        #     z=x[:, 2],\n",
    "        #     mode=\"markers\",\n",
    "        #     marker=dict(\n",
    "        #         size=6,\n",
    "        #         # color=point_sum,\n",
    "        #         colorscale=\"Viridis\",\n",
    "        #         # symbol=result_symbol\n",
    "        #     ),\n",
    "        # ),\n",
    "        go.Scatter3d(\n",
    "            x=x_quenched[:, 0],\n",
    "            y=x_quenched[:, 1],\n",
    "            z=x_quenched[:, 2],\n",
    "            mode=\"markers\",\n",
    "            marker=dict(\n",
    "                size=5,\n",
    "                # color=point_sum,\n",
    "                colorscale=\"Viridis\",\n",
    "                # symbol=result_symbol\n",
    "            ),\n",
    "        ),\n",
    "    ]\n",
    ")\n",
    "fig.show()"
   ]
  },
  {
   "cell_type": "markdown",
   "metadata": {},
   "source": [
    "### 2.2\n",
    "\n",
    "Quench した構造に有限温度を与えてすこし原子が動けるようにし、100 ステップの疑似分子動力学法を実施する。これにより、より歪みが少ない形状にたどりつけるはず。\n",
    "\n",
    "斥力粒子を均質に配置して三角格子をつくったら、三角格子の重心同士を連結して、双対グラフを生成する。これがグラフェンの構造となる。一連の処理は graphenate 関数の内部で行われる。\n",
    "\n",
    "できた構造を x, y, z 方向に 2 倍して 2x2x2 の構造を作り、さらにセルを z 方向に 2 倍する。\n",
    "\n",
    "結果を以下のファイルに書きだす。\n",
    "\n",
    "1. `.gro` 原子の位置\n",
    "2. `.top` 結合\n",
    "3. `.yap` 構造の preview\n"
   ]
  },
  {
   "cell_type": "code",
   "execution_count": 3,
   "metadata": {},
   "outputs": [
    {
     "name": "stderr",
     "output_type": "stream",
     "text": [
      "/Users/matto/Library/Caches/pypoetry/virtualenvs/graphene-studio-LdnOtBEG-py3.11/lib/python3.11/site-packages/scipy/optimize/_optimize.py:1658: OptimizeWarning:\n",
      "\n",
      "Desired error not necessarily achieved due to precision loss.\n",
      "\n",
      "INFO:root:[136, 24, 13, 5] 3-6 cycles in the packing\n",
      "INFO:root:Tempering\n"
     ]
    },
    {
     "name": "stdout",
     "output_type": "stream",
     "text": [
      "         Current function value: 7050.255032\n",
      "         Iterations: 120\n",
      "         Function evaluations: 317\n",
      "         Gradient evaluations: 306\n"
     ]
    },
    {
     "name": "stderr",
     "output_type": "stream",
     "text": [
      "INFO:root:[137, 25, 12, 5] 3-6 cycles in the packing\n",
      "INFO:root:[142, 25, 12, 5] 3-6 cycles in the packing\n",
      "INFO:root:[146, 26, 10, 5] 3-6 cycles in the packing\n",
      "INFO:root:[147, 26, 10, 6] 3-6 cycles in the packing\n",
      "INFO:root:[151, 26, 10, 5] 3-6 cycles in the packing\n",
      "INFO:root:[156, 25, 9, 5] 3-6 cycles in the packing\n",
      "INFO:root:[158, 24, 9, 5] 3-6 cycles in the packing\n",
      "INFO:root:[161, 24, 11, 4] 3-6 cycles in the packing\n",
      "INFO:root:[161, 26, 11, 3] 3-6 cycles in the packing\n",
      "INFO:root:[159, 27, 11, 3] 3-6 cycles in the packing\n",
      "INFO:root:[166, 24, 12, 2] 3-6 cycles in the packing\n",
      "INFO:root:[166, 24, 12, 2] 3-6 cycles in the packing\n",
      "INFO:root:[166, 24, 12, 2] 3-6 cycles in the packing\n",
      "INFO:root:[164, 25, 12, 2] 3-6 cycles in the packing\n",
      "INFO:root:[162, 26, 12, 2] 3-6 cycles in the packing\n",
      "INFO:root:[162, 26, 12, 2] 3-6 cycles in the packing\n",
      "INFO:root:[164, 27, 12, 1] 3-6 cycles in the packing\n",
      "INFO:root:[164, 27, 12, 1] 3-6 cycles in the packing\n",
      "INFO:root:[166, 26, 12, 1] 3-6 cycles in the packing\n",
      "INFO:root:[170, 27, 10, 1] 3-6 cycles in the packing\n",
      "INFO:root:[171, 29, 10, 1] 3-6 cycles in the packing\n",
      "INFO:root:[173, 28, 10, 1] 3-6 cycles in the packing\n",
      "INFO:root:[179, 26, 12, 1] 3-6 cycles in the packing\n",
      "INFO:root:[179, 26, 12, 1] 3-6 cycles in the packing\n",
      "INFO:root:[182, 26, 10, 1] 3-6 cycles in the packing\n",
      "INFO:root:[184, 28, 8, 1] 3-6 cycles in the packing\n",
      "INFO:root:[185, 26, 9, 1] 3-6 cycles in the packing\n",
      "INFO:root:[187, 25, 9, 1] 3-6 cycles in the packing\n",
      "INFO:root:[191, 23, 9, 1] 3-6 cycles in the packing\n",
      "INFO:root:[195, 21, 9, 1] 3-6 cycles in the packing\n",
      "INFO:root:[197, 20, 9, 1] 3-6 cycles in the packing\n",
      "INFO:root:[199, 19, 9, 1] 3-6 cycles in the packing\n",
      "INFO:root:[202, 19, 8, 1] 3-6 cycles in the packing\n",
      "INFO:root:[204, 18, 8, 1] 3-6 cycles in the packing\n",
      "INFO:root:[209, 17, 7, 1] 3-6 cycles in the packing\n",
      "INFO:root:[213, 15, 7, 1] 3-6 cycles in the packing\n",
      "INFO:root:[217, 13, 7, 1] 3-6 cycles in the packing\n",
      "INFO:root:[119, 36, 20, 3] 3-6 cycles in the packing\n",
      "INFO:root:[122, 35, 21, 2] 3-6 cycles in the packing\n",
      "INFO:root:[125, 35, 20, 2] 3-6 cycles in the packing\n",
      "INFO:root:[125, 35, 20, 2] 3-6 cycles in the packing\n",
      "INFO:root:[125, 35, 20, 2] 3-6 cycles in the packing\n",
      "INFO:root:[128, 34, 21, 1] 3-6 cycles in the packing\n",
      "INFO:root:[131, 37, 18, 1] 3-6 cycles in the packing\n",
      "INFO:root:[132, 38, 17, 1] 3-6 cycles in the packing\n",
      "INFO:root:[134, 37, 17, 1] 3-6 cycles in the packing\n",
      "INFO:root:[136, 36, 17, 1] 3-6 cycles in the packing\n",
      "INFO:root:[139, 35, 17, 2] 3-6 cycles in the packing\n",
      "INFO:root:[139, 35, 17, 2] 3-6 cycles in the packing\n",
      "INFO:root:[142, 35, 16, 2] 3-6 cycles in the packing\n",
      "INFO:root:[144, 37, 14, 2] 3-6 cycles in the packing\n",
      "INFO:root:[150, 37, 12, 2] 3-6 cycles in the packing\n",
      "INFO:root:[151, 38, 11, 2] 3-6 cycles in the packing\n",
      "INFO:root:[151, 38, 11, 2] 3-6 cycles in the packing\n",
      "INFO:root:[153, 37, 11, 2] 3-6 cycles in the packing\n",
      "INFO:root:[156, 36, 12, 1] 3-6 cycles in the packing\n",
      "INFO:root:[157, 37, 11, 1] 3-6 cycles in the packing\n",
      "INFO:root:[158, 38, 10, 1] 3-6 cycles in the packing\n",
      "INFO:root:[157, 40, 9, 1] 3-6 cycles in the packing\n",
      "INFO:root:[158, 38, 10, 1] 3-6 cycles in the packing\n",
      "INFO:root:[155, 38, 11, 1] 3-6 cycles in the packing\n",
      "INFO:root:[155, 38, 11, 1] 3-6 cycles in the packing\n",
      "INFO:root:[155, 38, 11, 1] 3-6 cycles in the packing\n",
      "INFO:root:[154, 40, 10, 1] 3-6 cycles in the packing\n",
      "INFO:root:[154, 40, 10, 1] 3-6 cycles in the packing\n",
      "INFO:root:[155, 41, 9, 1] 3-6 cycles in the packing\n",
      "INFO:root:[155, 41, 9, 1] 3-6 cycles in the packing\n",
      "INFO:root:[157, 40, 9, 1] 3-6 cycles in the packing\n",
      "INFO:root:[158, 41, 8, 1] 3-6 cycles in the packing\n",
      "INFO:root:[158, 41, 8, 1] 3-6 cycles in the packing\n",
      "INFO:root:[158, 41, 8, 1] 3-6 cycles in the packing\n",
      "INFO:root:[159, 42, 7, 1] 3-6 cycles in the packing\n",
      "INFO:root:[161, 41, 7, 1] 3-6 cycles in the packing\n",
      "INFO:root:[163, 40, 7, 1] 3-6 cycles in the packing\n",
      "INFO:root:[162, 39, 8, 1] 3-6 cycles in the packing\n",
      "INFO:root:[164, 38, 8, 1] 3-6 cycles in the packing\n",
      "INFO:root:[163, 39, 9, 0] 3-6 cycles in the packing\n",
      "INFO:root:[165, 38, 9, 0] 3-6 cycles in the packing\n",
      "INFO:root:[163, 39, 9, 0] 3-6 cycles in the packing\n",
      "INFO:root:[163, 39, 9, 0] 3-6 cycles in the packing\n",
      "INFO:root:[163, 39, 9, 0] 3-6 cycles in the packing\n",
      "INFO:root:[165, 41, 7, 0] 3-6 cycles in the packing\n",
      "INFO:root:[167, 40, 7, 0] 3-6 cycles in the packing\n",
      "INFO:root:[170, 40, 6, 0] 3-6 cycles in the packing\n",
      "INFO:root:[169, 40, 5, 1] 3-6 cycles in the packing\n",
      "INFO:root:[168, 42, 4, 1] 3-6 cycles in the packing\n",
      "INFO:root:[172, 40, 4, 1] 3-6 cycles in the packing\n",
      "INFO:root:[175, 40, 3, 1] 3-6 cycles in the packing\n",
      "INFO:root:[175, 40, 3, 1] 3-6 cycles in the packing\n",
      "INFO:root:[175, 40, 3, 1] 3-6 cycles in the packing\n",
      "INFO:root:[176, 41, 2, 1] 3-6 cycles in the packing\n",
      "INFO:root:[176, 41, 2, 1] 3-6 cycles in the packing\n",
      "INFO:root:[176, 41, 2, 1] 3-6 cycles in the packing\n",
      "INFO:root:[176, 41, 2, 1] 3-6 cycles in the packing\n",
      "INFO:root:[180, 39, 2, 1] 3-6 cycles in the packing\n",
      "INFO:root:[184, 37, 2, 1] 3-6 cycles in the packing\n",
      "INFO:root:[188, 35, 2, 1] 3-6 cycles in the packing\n",
      "INFO:root:[186, 36, 2, 1] 3-6 cycles in the packing\n",
      "INFO:root:[184, 37, 2, 1] 3-6 cycles in the packing\n",
      "INFO:root:[184, 37, 2, 1] 3-6 cycles in the packing\n",
      "INFO:root:[184, 37, 2, 1] 3-6 cycles in the packing\n",
      "INFO:root:[182, 38, 2, 1] 3-6 cycles in the packing\n",
      "INFO:root:[182, 38, 2, 1] 3-6 cycles in the packing\n",
      "INFO:root:[182, 38, 2, 1] 3-6 cycles in the packing\n",
      "INFO:root:[182, 38, 2, 1] 3-6 cycles in the packing\n",
      "INFO:root:[179, 40, 3, 0] 3-6 cycles in the packing\n",
      "INFO:root:[181, 39, 3, 0] 3-6 cycles in the packing\n",
      "INFO:root:[181, 39, 3, 0] 3-6 cycles in the packing\n",
      "INFO:root:[181, 39, 3, 0] 3-6 cycles in the packing\n",
      "INFO:root:[185, 37, 3, 0] 3-6 cycles in the packing\n",
      "INFO:root:[183, 38, 3, 0] 3-6 cycles in the packing\n",
      "INFO:root:[181, 39, 3, 0] 3-6 cycles in the packing\n",
      "INFO:root:[183, 38, 3, 0] 3-6 cycles in the packing\n",
      "INFO:root:[183, 38, 3, 0] 3-6 cycles in the packing\n",
      "INFO:root:[185, 37, 3, 0] 3-6 cycles in the packing\n",
      "INFO:root:[187, 36, 3, 0] 3-6 cycles in the packing\n",
      "INFO:root:[187, 36, 3, 0] 3-6 cycles in the packing\n",
      "INFO:root:[187, 36, 3, 0] 3-6 cycles in the packing\n",
      "INFO:root:[185, 37, 3, 0] 3-6 cycles in the packing\n",
      "INFO:root:[181, 39, 3, 0] 3-6 cycles in the packing\n",
      "INFO:root:[181, 39, 3, 0] 3-6 cycles in the packing\n",
      "INFO:root:[181, 39, 3, 0] 3-6 cycles in the packing\n",
      "INFO:root:[183, 38, 3, 0] 3-6 cycles in the packing\n",
      "INFO:root:[183, 38, 3, 0] 3-6 cycles in the packing\n",
      "INFO:root:[185, 37, 3, 0] 3-6 cycles in the packing\n",
      "INFO:root:[187, 36, 3, 0] 3-6 cycles in the packing\n",
      "INFO:root:[185, 37, 3, 0] 3-6 cycles in the packing\n",
      "INFO:root:[183, 38, 3, 0] 3-6 cycles in the packing\n",
      "INFO:root:[185, 37, 3, 0] 3-6 cycles in the packing\n",
      "INFO:root:[185, 37, 3, 0] 3-6 cycles in the packing\n",
      "INFO:root:[185, 37, 3, 0] 3-6 cycles in the packing\n",
      "INFO:root:[183, 38, 3, 0] 3-6 cycles in the packing\n",
      "INFO:root:[186, 38, 2, 0] 3-6 cycles in the packing\n",
      "INFO:root:[186, 38, 2, 0] 3-6 cycles in the packing\n",
      "INFO:root:[190, 36, 2, 0] 3-6 cycles in the packing\n",
      "INFO:root:[194, 34, 2, 0] 3-6 cycles in the packing\n",
      "INFO:root:[196, 33, 2, 0] 3-6 cycles in the packing\n",
      "INFO:root:[202, 30, 2, 0] 3-6 cycles in the packing\n",
      "INFO:root:[200, 31, 2, 0] 3-6 cycles in the packing\n",
      "INFO:root:[200, 31, 2, 0] 3-6 cycles in the packing\n",
      "INFO:root:[200, 31, 2, 0] 3-6 cycles in the packing\n",
      "INFO:root:[198, 32, 2, 0] 3-6 cycles in the packing\n",
      "INFO:root:[196, 33, 2, 0] 3-6 cycles in the packing\n",
      "INFO:root:[196, 33, 2, 0] 3-6 cycles in the packing\n",
      "INFO:root:[196, 33, 2, 0] 3-6 cycles in the packing\n",
      "INFO:root:[196, 33, 2, 0] 3-6 cycles in the packing\n",
      "INFO:root:[198, 32, 2, 0] 3-6 cycles in the packing\n",
      "INFO:root:[194, 34, 2, 0] 3-6 cycles in the packing\n",
      "INFO:root:[192, 35, 2, 0] 3-6 cycles in the packing\n",
      "INFO:root:[194, 34, 2, 0] 3-6 cycles in the packing\n",
      "INFO:root:[196, 33, 2, 0] 3-6 cycles in the packing\n",
      "INFO:root:[192, 35, 2, 0] 3-6 cycles in the packing\n",
      "INFO:root:[194, 34, 2, 0] 3-6 cycles in the packing\n",
      "INFO:root:[194, 34, 2, 0] 3-6 cycles in the packing\n",
      "INFO:root:[196, 33, 2, 0] 3-6 cycles in the packing\n",
      "INFO:root:[198, 32, 2, 0] 3-6 cycles in the packing\n",
      "INFO:root:[200, 31, 2, 0] 3-6 cycles in the packing\n",
      "INFO:root:[202, 30, 2, 0] 3-6 cycles in the packing\n",
      "INFO:root:[204, 29, 2, 0] 3-6 cycles in the packing\n",
      "INFO:root:[206, 28, 2, 0] 3-6 cycles in the packing\n",
      "INFO:root:[206, 28, 2, 0] 3-6 cycles in the packing\n",
      "INFO:root:[206, 28, 2, 0] 3-6 cycles in the packing\n",
      "INFO:root:[206, 28, 2, 0] 3-6 cycles in the packing\n",
      "INFO:root:[208, 27, 2, 0] 3-6 cycles in the packing\n",
      "INFO:root:[212, 25, 2, 0] 3-6 cycles in the packing\n",
      "INFO:root:[212, 25, 2, 0] 3-6 cycles in the packing\n",
      "INFO:root:[216, 23, 2, 0] 3-6 cycles in the packing\n",
      "INFO:root:[216, 23, 2, 0] 3-6 cycles in the packing\n",
      "INFO:root:[220, 21, 2, 0] 3-6 cycles in the packing\n",
      "INFO:root:[220, 21, 2, 0] 3-6 cycles in the packing\n",
      "INFO:root:[220, 21, 2, 0] 3-6 cycles in the packing\n",
      "INFO:root:[220, 21, 2, 0] 3-6 cycles in the packing\n",
      "INFO:root:[220, 21, 2, 0] 3-6 cycles in the packing\n",
      "INFO:root:[222, 20, 2, 0] 3-6 cycles in the packing\n",
      "INFO:root:[216, 23, 2, 0] 3-6 cycles in the packing\n",
      "INFO:root:[216, 23, 2, 0] 3-6 cycles in the packing\n",
      "INFO:root:[214, 24, 2, 0] 3-6 cycles in the packing\n",
      "INFO:root:[214, 24, 2, 0] 3-6 cycles in the packing\n",
      "INFO:root:[216, 23, 2, 0] 3-6 cycles in the packing\n",
      "INFO:root:[216, 23, 2, 0] 3-6 cycles in the packing\n",
      "INFO:root:[216, 23, 2, 0] 3-6 cycles in the packing\n",
      "INFO:root:[218, 22, 2, 0] 3-6 cycles in the packing\n",
      "INFO:root:[218, 22, 2, 0] 3-6 cycles in the packing\n",
      "INFO:root:[219, 23, 1, 0] 3-6 cycles in the packing\n",
      "INFO:root:[221, 22, 1, 0] 3-6 cycles in the packing\n",
      "INFO:root:[221, 22, 1, 0] 3-6 cycles in the packing\n",
      "INFO:root:[223, 21, 1, 0] 3-6 cycles in the packing\n",
      "INFO:root:[223, 21, 1, 0] 3-6 cycles in the packing\n",
      "INFO:root:[223, 21, 1, 0] 3-6 cycles in the packing\n",
      "INFO:root:[221, 22, 1, 0] 3-6 cycles in the packing\n",
      "INFO:root:[217, 24, 1, 0] 3-6 cycles in the packing\n",
      "INFO:root:[217, 24, 1, 0] 3-6 cycles in the packing\n",
      "INFO:root:[217, 24, 1, 0] 3-6 cycles in the packing\n",
      "INFO:root:[215, 25, 1, 0] 3-6 cycles in the packing\n",
      "INFO:root:[215, 25, 1, 0] 3-6 cycles in the packing\n",
      "INFO:root:[213, 26, 1, 0] 3-6 cycles in the packing\n",
      "INFO:root:[213, 26, 1, 0] 3-6 cycles in the packing\n",
      "INFO:root:[213, 26, 1, 0] 3-6 cycles in the packing\n",
      "INFO:root:[213, 26, 1, 0] 3-6 cycles in the packing\n",
      "INFO:root:[213, 26, 1, 0] 3-6 cycles in the packing\n",
      "INFO:root:[213, 26, 1, 0] 3-6 cycles in the packing\n",
      "INFO:root:[213, 26, 1, 0] 3-6 cycles in the packing\n",
      "INFO:root:[219, 23, 1, 0] 3-6 cycles in the packing\n",
      "INFO:root:[219, 23, 1, 0] 3-6 cycles in the packing\n",
      "INFO:root:[219, 23, 1, 0] 3-6 cycles in the packing\n",
      "INFO:root:[221, 22, 1, 0] 3-6 cycles in the packing\n",
      "INFO:root:[221, 22, 1, 0] 3-6 cycles in the packing\n",
      "INFO:root:[221, 22, 1, 0] 3-6 cycles in the packing\n",
      "INFO:root:[221, 22, 1, 0] 3-6 cycles in the packing\n",
      "INFO:root:[219, 23, 1, 0] 3-6 cycles in the packing\n",
      "INFO:root:[219, 23, 1, 0] 3-6 cycles in the packing\n",
      "INFO:root:[219, 23, 1, 0] 3-6 cycles in the packing\n",
      "INFO:root:[217, 24, 1, 0] 3-6 cycles in the packing\n",
      "INFO:root:[217, 24, 1, 0] 3-6 cycles in the packing\n",
      "INFO:root:[218, 25, 0, 0] 3-6 cycles in the packing\n"
     ]
    },
    {
     "name": "stdout",
     "output_type": "stream",
     "text": [
      "100\n"
     ]
    },
    {
     "name": "stderr",
     "output_type": "stream",
     "text": [
      "INFO:root:[0, 0, 72, 680, 240, 0] 3-8 cycles in the graph\n",
      "INFO:root:[218, 25, 0, 0] 3-6 cycles in the packing\n"
     ]
    },
    {
     "name": "stdout",
     "output_type": "stream",
     "text": [
      "99\n"
     ]
    },
    {
     "name": "stderr",
     "output_type": "stream",
     "text": [
      "INFO:root:[0, 0, 72, 680, 240, 0] 3-8 cycles in the graph\n",
      "INFO:root:[218, 25, 0, 0] 3-6 cycles in the packing\n"
     ]
    },
    {
     "name": "stdout",
     "output_type": "stream",
     "text": [
      "98\n"
     ]
    },
    {
     "name": "stderr",
     "output_type": "stream",
     "text": [
      "INFO:root:[0, 0, 72, 680, 240, 0] 3-8 cycles in the graph\n",
      "INFO:root:[218, 25, 0, 0] 3-6 cycles in the packing\n"
     ]
    },
    {
     "name": "stdout",
     "output_type": "stream",
     "text": [
      "97\n"
     ]
    },
    {
     "name": "stderr",
     "output_type": "stream",
     "text": [
      "INFO:root:[0, 0, 72, 680, 240, 0] 3-8 cycles in the graph\n",
      "INFO:root:[220, 24, 0, 0] 3-6 cycles in the packing\n"
     ]
    },
    {
     "name": "stdout",
     "output_type": "stream",
     "text": [
      "96\n"
     ]
    },
    {
     "name": "stderr",
     "output_type": "stream",
     "text": [
      "INFO:root:[0, 0, 72, 680, 240, 0] 3-8 cycles in the graph\n",
      "INFO:root:[220, 24, 0, 0] 3-6 cycles in the packing\n"
     ]
    },
    {
     "name": "stdout",
     "output_type": "stream",
     "text": [
      "95\n"
     ]
    },
    {
     "name": "stderr",
     "output_type": "stream",
     "text": [
      "INFO:root:[0, 0, 72, 680, 240, 0] 3-8 cycles in the graph\n",
      "INFO:root:[220, 24, 0, 0] 3-6 cycles in the packing\n"
     ]
    },
    {
     "name": "stdout",
     "output_type": "stream",
     "text": [
      "94\n"
     ]
    },
    {
     "name": "stderr",
     "output_type": "stream",
     "text": [
      "INFO:root:[0, 0, 72, 680, 240, 0] 3-8 cycles in the graph\n",
      "INFO:root:[222, 23, 0, 0] 3-6 cycles in the packing\n"
     ]
    },
    {
     "name": "stdout",
     "output_type": "stream",
     "text": [
      "93\n"
     ]
    },
    {
     "name": "stderr",
     "output_type": "stream",
     "text": [
      "INFO:root:[0, 0, 80, 664, 248, 0] 3-8 cycles in the graph\n",
      "INFO:root:[222, 23, 0, 0] 3-6 cycles in the packing\n"
     ]
    },
    {
     "name": "stdout",
     "output_type": "stream",
     "text": [
      "92\n"
     ]
    },
    {
     "name": "stderr",
     "output_type": "stream",
     "text": [
      "INFO:root:[0, 0, 88, 648, 256, 0] 3-8 cycles in the graph\n",
      "INFO:root:[222, 23, 0, 0] 3-6 cycles in the packing\n"
     ]
    },
    {
     "name": "stdout",
     "output_type": "stream",
     "text": [
      "91\n"
     ]
    },
    {
     "name": "stderr",
     "output_type": "stream",
     "text": [
      "INFO:root:[0, 0, 88, 648, 256, 0] 3-8 cycles in the graph\n",
      "INFO:root:[222, 23, 0, 0] 3-6 cycles in the packing\n"
     ]
    },
    {
     "name": "stdout",
     "output_type": "stream",
     "text": [
      "90\n"
     ]
    },
    {
     "name": "stderr",
     "output_type": "stream",
     "text": [
      "INFO:root:[0, 0, 88, 648, 256, 0] 3-8 cycles in the graph\n",
      "INFO:root:[220, 24, 0, 0] 3-6 cycles in the packing\n"
     ]
    },
    {
     "name": "stdout",
     "output_type": "stream",
     "text": [
      "89\n"
     ]
    },
    {
     "name": "stderr",
     "output_type": "stream",
     "text": [
      "INFO:root:[0, 0, 72, 680, 240, 0] 3-8 cycles in the graph\n",
      "INFO:root:[218, 25, 0, 0] 3-6 cycles in the packing\n"
     ]
    },
    {
     "name": "stdout",
     "output_type": "stream",
     "text": [
      "88\n"
     ]
    },
    {
     "name": "stderr",
     "output_type": "stream",
     "text": [
      "INFO:root:[0, 0, 88, 648, 256, 0] 3-8 cycles in the graph\n",
      "INFO:root:[216, 26, 0, 0] 3-6 cycles in the packing\n"
     ]
    },
    {
     "name": "stdout",
     "output_type": "stream",
     "text": [
      "87\n"
     ]
    },
    {
     "name": "stderr",
     "output_type": "stream",
     "text": [
      "INFO:root:[0, 0, 88, 648, 256, 0] 3-8 cycles in the graph\n",
      "INFO:root:[216, 26, 0, 0] 3-6 cycles in the packing\n"
     ]
    },
    {
     "name": "stdout",
     "output_type": "stream",
     "text": [
      "86\n"
     ]
    },
    {
     "name": "stderr",
     "output_type": "stream",
     "text": [
      "INFO:root:[0, 0, 88, 648, 256, 0] 3-8 cycles in the graph\n",
      "INFO:root:[216, 26, 0, 0] 3-6 cycles in the packing\n"
     ]
    },
    {
     "name": "stdout",
     "output_type": "stream",
     "text": [
      "85\n"
     ]
    },
    {
     "name": "stderr",
     "output_type": "stream",
     "text": [
      "INFO:root:[0, 0, 88, 648, 256, 0] 3-8 cycles in the graph\n",
      "INFO:root:[214, 27, 0, 0] 3-6 cycles in the packing\n"
     ]
    },
    {
     "name": "stdout",
     "output_type": "stream",
     "text": [
      "84\n"
     ]
    },
    {
     "name": "stderr",
     "output_type": "stream",
     "text": [
      "INFO:root:[0, 0, 88, 648, 256, 0] 3-8 cycles in the graph\n",
      "INFO:root:[214, 27, 0, 0] 3-6 cycles in the packing\n"
     ]
    },
    {
     "name": "stdout",
     "output_type": "stream",
     "text": [
      "83\n"
     ]
    },
    {
     "name": "stderr",
     "output_type": "stream",
     "text": [
      "INFO:root:[0, 0, 88, 648, 256, 0] 3-8 cycles in the graph\n",
      "INFO:root:[216, 26, 0, 0] 3-6 cycles in the packing\n"
     ]
    },
    {
     "name": "stdout",
     "output_type": "stream",
     "text": [
      "82\n"
     ]
    },
    {
     "name": "stderr",
     "output_type": "stream",
     "text": [
      "INFO:root:[0, 0, 88, 648, 256, 0] 3-8 cycles in the graph\n",
      "INFO:root:[216, 26, 0, 0] 3-6 cycles in the packing\n"
     ]
    },
    {
     "name": "stdout",
     "output_type": "stream",
     "text": [
      "81\n"
     ]
    },
    {
     "name": "stderr",
     "output_type": "stream",
     "text": [
      "INFO:root:[0, 0, 88, 648, 256, 0] 3-8 cycles in the graph\n",
      "INFO:root:[216, 26, 0, 0] 3-6 cycles in the packing\n"
     ]
    },
    {
     "name": "stdout",
     "output_type": "stream",
     "text": [
      "80\n"
     ]
    },
    {
     "name": "stderr",
     "output_type": "stream",
     "text": [
      "INFO:root:[0, 0, 88, 648, 256, 0] 3-8 cycles in the graph\n",
      "INFO:root:[222, 23, 0, 0] 3-6 cycles in the packing\n"
     ]
    },
    {
     "name": "stdout",
     "output_type": "stream",
     "text": [
      "79\n"
     ]
    },
    {
     "name": "stderr",
     "output_type": "stream",
     "text": [
      "INFO:root:[0, 0, 88, 648, 256, 0] 3-8 cycles in the graph\n",
      "INFO:root:[222, 23, 0, 0] 3-6 cycles in the packing\n"
     ]
    },
    {
     "name": "stdout",
     "output_type": "stream",
     "text": [
      "78\n"
     ]
    },
    {
     "name": "stderr",
     "output_type": "stream",
     "text": [
      "INFO:root:[0, 0, 88, 648, 256, 0] 3-8 cycles in the graph\n",
      "INFO:root:[222, 23, 0, 0] 3-6 cycles in the packing\n"
     ]
    },
    {
     "name": "stdout",
     "output_type": "stream",
     "text": [
      "77\n"
     ]
    },
    {
     "name": "stderr",
     "output_type": "stream",
     "text": [
      "INFO:root:[0, 0, 80, 664, 248, 0] 3-8 cycles in the graph\n",
      "INFO:root:[222, 23, 0, 0] 3-6 cycles in the packing\n"
     ]
    },
    {
     "name": "stdout",
     "output_type": "stream",
     "text": [
      "76\n"
     ]
    },
    {
     "name": "stderr",
     "output_type": "stream",
     "text": [
      "INFO:root:[0, 0, 80, 664, 248, 0] 3-8 cycles in the graph\n",
      "INFO:root:[222, 23, 0, 0] 3-6 cycles in the packing\n"
     ]
    },
    {
     "name": "stdout",
     "output_type": "stream",
     "text": [
      "75\n"
     ]
    },
    {
     "name": "stderr",
     "output_type": "stream",
     "text": [
      "INFO:root:[0, 0, 80, 664, 248, 0] 3-8 cycles in the graph\n",
      "INFO:root:[224, 22, 0, 0] 3-6 cycles in the packing\n"
     ]
    },
    {
     "name": "stdout",
     "output_type": "stream",
     "text": [
      "74\n"
     ]
    },
    {
     "name": "stderr",
     "output_type": "stream",
     "text": [
      "INFO:root:[0, 0, 80, 664, 248, 0] 3-8 cycles in the graph\n",
      "INFO:root:[228, 20, 0, 0] 3-6 cycles in the packing\n"
     ]
    },
    {
     "name": "stdout",
     "output_type": "stream",
     "text": [
      "73\n"
     ]
    },
    {
     "name": "stderr",
     "output_type": "stream",
     "text": [
      "INFO:root:[0, 0, 80, 664, 248, 0] 3-8 cycles in the graph\n",
      "INFO:root:[224, 22, 0, 0] 3-6 cycles in the packing\n"
     ]
    },
    {
     "name": "stdout",
     "output_type": "stream",
     "text": [
      "72\n"
     ]
    },
    {
     "name": "stderr",
     "output_type": "stream",
     "text": [
      "INFO:root:[0, 0, 80, 664, 248, 0] 3-8 cycles in the graph\n"
     ]
    }
   ],
   "source": [
    "from graphenestudio import (\n",
    "    draw_yaplot,\n",
    "    graphenate,\n",
    "    dump_gro,\n",
    "    generate_top,\n",
    "    replicate_x,\n",
    "    replicate_y,\n",
    "    replicate_z,\n",
    "    extend_z,\n",
    ")\n",
    "\n",
    "# import importlib\n",
    "\n",
    "# graphenestudio = importlib.import_module(\"graphenestudio\")\n",
    "\n",
    "base = \"psurface\"\n",
    "with open(f\"{base}.yap\", \"w\") as file:\n",
    "    count = 100\n",
    "    for x, cell, g in graphenate(\n",
    "        Natom,\n",
    "        cell,\n",
    "        pot,\n",
    "        dpot,\n",
    "        dt=0.0005,  # 0.005\n",
    "        T=0.1,\n",
    "    ):\n",
    "\n",
    "        x, cell, g = replicate_x(x, cell, g)\n",
    "        x, cell, g = replicate_y(x, cell, g)\n",
    "        x, cell, g = replicate_z(x, cell, g)\n",
    "        x, cell, g = extend_z(x, cell, g)\n",
    "\n",
    "        print(count)\n",
    "        file.write(draw_yaplot(x, cell, g))\n",
    "        with open(f\"{base}_{count}.itp\", \"w\") as ft:\n",
    "            ft.write(generate_top(x, cell, g))\n",
    "        with open(f\"{base}_{count}.gro\", \"w\") as fg:\n",
    "            dump_gro(x, cell, g, fg)\n",
    "\n",
    "        count -= 1\n",
    "        if count == 0:\n",
    "            break"
   ]
  },
  {
   "cell_type": "markdown",
   "metadata": {},
   "source": [
    "## 3. Graphene のみで MD の試行\n",
    "\n",
    "Graphene のみの MD を実行し、構造を緩和させ、崩壊しないこと、大穴があいていないことを確認する。\n"
   ]
  },
  {
   "cell_type": "code",
   "execution_count": null,
   "metadata": {},
   "outputs": [],
   "source": [
    "! cp psurface_100.gro graphene.gro\n",
    "! cp psurface_100.itp graphene.itp\n",
    "! python3 ./run.py graphene initial-graphene.mdp\n",
    "!"
   ]
  },
  {
   "cell_type": "markdown",
   "metadata": {},
   "source": [
    "## 4. 水和させて MD\n",
    "\n",
    "1. 使用する Graphene のトポロジーファイルを graphene.itp にコピー\n",
    "2. tip4p で水和させ、分子数情報を solvated.top に書きくわえるとともに、原子座標を solvated.gro に書きだす。\n"
   ]
  },
  {
   "cell_type": "code",
   "execution_count": 6,
   "metadata": {},
   "outputs": [
    {
     "name": "stdout",
     "output_type": "stream",
     "text": [
      "                 :-) GROMACS - gmx solvate, 2024.2-Homebrew (-:\n",
      "\n",
      "Executable:   /opt/homebrew/bin/../Cellar/gromacs/2024.2/bin/gmx\n",
      "Data prefix:  /opt/homebrew/bin/../Cellar/gromacs/2024.2\n",
      "Working dir:  /Users/matto/Unison/github/graphene-studio\n",
      "Command line:\n",
      "  gmx solvate -cs tip4p -cp psurface_100.gro -o solvated.gro -p solvated.top\n",
      "\n",
      "Reading solute configuration\n",
      "Reading solvent configuration\n",
      "\n",
      "Initialising inter-atomic distances...\n",
      "\n",
      "WARNING: Masses and atomic (Van der Waals) radii will be guessed\n",
      "         based on residue and atom names, since they could not be\n",
      "         definitively assigned from the information in your input\n",
      "         files. These guessed numbers might deviate from the mass\n",
      "         and radius of the atom type. Please check the output\n",
      "         files if necessary. Note, that this functionality may\n",
      "         be removed in a future GROMACS version. Please, consider\n",
      "         using another file format for your input.\n",
      "\n",
      "NOTE: From version 5.0 gmx solvate uses the Van der Waals radii\n",
      "from the source below. This means the results may be different\n",
      "compared to previous GROMACS versions.\n",
      "\n",
      "++++ PLEASE READ AND CITE THE FOLLOWING REFERENCE ++++\n",
      "A. Bondi\n",
      "van der Waals Volumes and Radii\n",
      "J. Phys. Chem. 68 (1964) pp. 441-451\n",
      "-------- -------- --- Thank You --- -------- --------\n",
      "\n",
      "Generating solvent configuration\n",
      "Will generate new solvent configuration of 2x2x4 boxes\n",
      "Solvent box contains 13360 atoms in 3340 residues\n",
      "Removed 2420 solvent atoms due to solvent-solvent overlap\n",
      "Removed 2940 solvent atoms due to solute-solvent overlap\n",
      "Sorting configuration\n",
      "Found 1 molecule type:\n",
      "    SOL (   4 atoms):  2000 residues\n",
      "Generated solvent containing 8000 atoms in 2000 residues\n",
      "Writing generated configuration to solvated.gro\n",
      "\n",
      "Back Off! I just backed up solvated.gro to ./#solvated.gro.3#\n",
      "\n",
      "Output configuration contains 10144 atoms in 2001 residues\n",
      "Volume                 :     83.0478 (nm^3)\n",
      "Density                :     1235.32 (g/l)\n",
      "Number of solvent molecules:   2000   \n",
      "\n",
      "Processing topology\n",
      "Adding line for 2000 solvent molecules with resname (SOL) to topology file (solvated.top)\n",
      "\n",
      "Back Off! I just backed up solvated.top to ./#solvated.top.4#\n",
      "\n",
      "GROMACS reminds you: \"Disturb the Peace of a John Q Citizen\" (Urban Dance Squad)\n",
      "\n",
      "INFO:root:Invoke external command: gmx grompp -maxwarn 1 -f initial.mdp -p solvated.top -o 00001.tpr -c solvated.gro  > 00001.grompp.log 2>&1\n",
      "INFO:root:Return code: 256\n",
      "ERROR:root:Terminated by an error 256.\n"
     ]
    }
   ],
   "source": [
    "! cp psurface_100.itp graphene.itp\n",
    "! gmx solvate -cs tip4p -cp psurface_100.gro -o solvated.gro -p solvated.top \n"
   ]
  },
  {
   "cell_type": "markdown",
   "metadata": {},
   "source": [
    "1 番原子だけ固定したいので、まず ndx ファイルを生成する。\n"
   ]
  },
  {
   "cell_type": "code",
   "execution_count": 9,
   "metadata": {},
   "outputs": [
    {
     "name": "stdout",
     "output_type": "stream",
     "text": [
      "                :-) GROMACS - gmx make_ndx, 2024.2-Homebrew (-:\n",
      "\n",
      "Executable:   /opt/homebrew/bin/../Cellar/gromacs/2024.2/bin/gmx\n",
      "Data prefix:  /opt/homebrew/bin/../Cellar/gromacs/2024.2\n",
      "Working dir:  /Users/matto/Unison/github/graphene-studio\n",
      "Command line:\n",
      "  gmx make_ndx -f solvated.gro -o solvated.ndx\n",
      "\n",
      "\n",
      "Reading structure file\n",
      "Going to read 0 old index file(s)\n",
      "Analysing residue names:\n",
      "There are:     1      Other residues\n",
      "There are:  2000      Water residues\n",
      "Analysing residues not classified as Protein/DNA/RNA/Water and splitting into groups...\n",
      "\n",
      "  0 System              : 10144 atoms\n",
      "  1 Other               :  2144 atoms\n",
      "  2 GRPH                :  2144 atoms\n",
      "  3 Water               :  8000 atoms\n",
      "  4 SOL                 :  8000 atoms\n",
      "  5 non-Water           :  2144 atoms\n",
      "\n",
      " nr : group      '!': not  'name' nr name   'splitch' nr    Enter: list groups\n",
      " 'a': atom       '&': and  'del' nr         'splitres' nr   'l': list residues\n",
      " 't': atom type  '|': or   'keep' nr        'splitat' nr    'h': help\n",
      " 'r': residue              'res' nr         'chain' char\n",
      " \"name\": group             'case': case sensitive           'q': save and quit\n",
      " 'ri': residue index\n",
      "\n",
      "> \n",
      "\n",
      "GROMACS reminds you: \"I Don't Want to Catch Anybody Not Drinking.\" (Monty Python)\n",
      "\n"
     ]
    }
   ],
   "source": [
    "! echo q | gmx make_ndx -f solvated.gro -o solvated.ndx"
   ]
  },
  {
   "cell_type": "markdown",
   "metadata": {},
   "source": [
    "`.ndx`の末尾に以下の 2 行を追加する。\n",
    "\n",
    "```shell\n",
    "[ FIX ]\n",
    "1\n",
    "```\n"
   ]
  },
  {
   "cell_type": "markdown",
   "metadata": {},
   "source": [
    "1 原子を固定した MD を実行する。\n"
   ]
  },
  {
   "cell_type": "code",
   "execution_count": 16,
   "metadata": {},
   "outputs": [
    {
     "name": "stdout",
     "output_type": "stream",
     "text": [
      "INFO:root:Invoke external command: gmx grompp -maxwarn 1 -f initial-solvated.mdp -p solvated.top -o 00001.tpr -c solvated.gro -n solvated.ndx  > 00001.grompp.log 2>&1\n",
      "INFO:root:Return code: 0\n",
      "INFO:root:Invoke external command: gmx mdrun -notunepme  -nt 8 -deffnm 00001 -c 00001-last.gro > 00001.mdrun.log 2>&1\n"
     ]
    }
   ],
   "source": [
    "! python3 ./run.py -n solvated.ndx solvated initial-solvated.mdp\n"
   ]
  },
  {
   "cell_type": "markdown",
   "metadata": {},
   "source": [
    "トラジェクトリを確認する。\n"
   ]
  },
  {
   "cell_type": "code",
   "execution_count": null,
   "metadata": {},
   "outputs": [],
   "source": [
    "! make 00001-0.gro"
   ]
  },
  {
   "cell_type": "markdown",
   "metadata": {},
   "source": [
    "以下、rindo 研究には使わない。\n",
    "\n",
    "## 拡張版\n",
    "\n",
    "曲面を解析的な式ではなく、グリッド上の数値配列として与える。\n",
    "\n",
    "`cube`や`sphere`は 3 次元グリッドで定義される$w=f(x,y,z)$型の空間関数で、これが$f(x,y,z)=0$を横切る isosurface で、graphene の形状を指定する。\n"
   ]
  },
  {
   "cell_type": "code",
   "execution_count": 13,
   "metadata": {},
   "outputs": [],
   "source": [
    "from logging import INFO, basicConfig, getLogger, DEBUG\n",
    "\n",
    "import numpy as np\n",
    "\n",
    "from graphenestudio.quench import quench_particles\n",
    "from graphenestudio.pack import random_box\n",
    "from graphenestudio.interaction import repulsive_potential, repulsive_force\n",
    "from graphenestudio.surface import Grid, Ticks, GridSurfaceFunc\n",
    "\n",
    "\n",
    "basicConfig(level=INFO)\n",
    "logger = getLogger()\n",
    "\n",
    "Natom = 192\n",
    "cost = 10000\n",
    "cell = np.diag(np.array([5.0, 5.0, 5.0]))\n",
    "\n",
    "r = 0.4  # \"radius\" of the cube, i.e., half length of an edge\n",
    "\n",
    "XYZ = np.mgrid[-0.5:0.5:11j, -0.5:0.5:11j, -0.5:0.5:11j]\n",
    "xticks = Ticks(min=-0.5, binw=0.1)\n",
    "yticks = Ticks(min=-0.5, binw=0.1)\n",
    "zticks = Ticks(min=-0.5, binw=0.1)\n",
    "\n",
    "# グリッドタイプの関数定義法\n",
    "cube = Grid(\n",
    "    values=np.max(np.abs(XYZ), axis=0) - r, xticks=xticks, yticks=yticks, zticks=zticks\n",
    ")\n",
    "\n",
    "sphere = Grid(\n",
    "    values=np.sum(XYZ**2, axis=0) - r * r,\n",
    "    xticks=xticks,\n",
    "    yticks=yticks,\n",
    "    zticks=zticks,\n",
    ")\n",
    "\n",
    "surf = GridSurfaceFunc(sphere)"
   ]
  },
  {
   "cell_type": "code",
   "execution_count": null,
   "metadata": {},
   "outputs": [],
   "source": [
    "r = random_box(Natom)\n",
    "# x = r @ cell\n",
    "pot = lambda r, cell: repulsive_potential(\n",
    "    r, cell, repul=4, rc=1.0\n",
    ") + cost * surf.exfield_potential(r)\n",
    "dpot = lambda r, cell: -repulsive_force(\n",
    "    r, cell, repul=4, rc=1.0\n",
    ") + cost * surf.exfield_gradient(r)\n",
    "\n",
    "r_quenched = quench_particles(r, cell, pot, dpot)\n",
    "x_quenched = r_quenched @ cell"
   ]
  },
  {
   "cell_type": "code",
   "execution_count": null,
   "metadata": {},
   "outputs": [],
   "source": [
    "# -*- coding: utf-8 -*-\n",
    "import plotly.graph_objects as go\n",
    "\n",
    "\n",
    "# mode='makers'を指定しないと点の間に線が引かれる\n",
    "fig = go.Figure(\n",
    "    data=[\n",
    "        # go.Scatter3d(\n",
    "        #     x=x[:, 0],\n",
    "        #     y=x[:, 1],\n",
    "        #     z=x[:, 2],\n",
    "        #     mode=\"markers\",\n",
    "        #     marker=dict(\n",
    "        #         size=6,\n",
    "        #         # color=point_sum,\n",
    "        #         colorscale=\"Viridis\",\n",
    "        #         # symbol=result_symbol\n",
    "        #     ),\n",
    "        # ),\n",
    "        go.Scatter3d(\n",
    "            x=x_quenched[:, 0],\n",
    "            y=x_quenched[:, 1],\n",
    "            z=x_quenched[:, 2],\n",
    "            mode=\"markers\",\n",
    "            marker=dict(\n",
    "                size=5,\n",
    "                # color=point_sum,\n",
    "                colorscale=\"Viridis\",\n",
    "                # symbol=result_symbol\n",
    "            ),\n",
    "        ),\n",
    "    ]\n",
    ")\n",
    "fig.show()"
   ]
  },
  {
   "cell_type": "markdown",
   "metadata": {},
   "source": [
    "x2top が生成した top ファイルの中身を確認する。\n"
   ]
  },
  {
   "cell_type": "code",
   "execution_count": 12,
   "metadata": {},
   "outputs": [
    {
     "name": "stdout",
     "output_type": "stream",
     "text": [
      "[(1, 2), (370, 3), (388, 3), (2, 2), (3, 3), (400, 3), (4, 3), (5, 3), (16, 3), (132, 3), (6, 3), (9, 2), (7, 3), (17, 3), (8, 3), (13, 3), (27, 3), (173, 3), (392, 3), (10, 2), (11, 3), (12, 3), (52, 2), (60, 2), (166, 3), (167, 3), (14, 3), (15, 3), (20, 3), (32, 3), (18, 3), (38, 3), (19, 3), (26, 3), (22, 3), (25, 3), (21, 3), (24, 3), (135, 3), (131, 3), (23, 3), (144, 3), (147, 3), (140, 3), (28, 3), (31, 3), (29, 3), (39, 3), (30, 3), (67, 3), (201, 3), (193, 3), (34, 3), (138, 3), (33, 3), (35, 3), (139, 3), (143, 3), (41, 3), (36, 3), (37, 3), (312, 3), (42, 3), (321, 3), (40, 3), (43, 3), (66, 3), (342, 3), (44, 3), (45, 2), (319, 3), (332, 3), (390, 3), (46, 2), (53, 3), (55, 3), (47, 3), (50, 2), (51, 3), (54, 3), (48, 3), (49, 2), (93, 3), (331, 3), (389, 3), (56, 3), (94, 3), (59, 1), (84, 3), (57, 3), (58, 3), (99, 3), (83, 3), (104, 3), (160, 3), (61, 2), (62, 3), (182, 1), (161, 3), (186, 3), (63, 3), (64, 3), (65, 3), (73, 3), (398, 3), (78, 3), (177, 3), (176, 3), (68, 3), (69, 3), (74, 3), (70, 2), (75, 3), (365, 3), (71, 2), (72, 2), (362, 2), (87, 3), (88, 3), (354, 3), (76, 2), (77, 3), (178, 3), (79, 3), (81, 3), (80, 3), (82, 3), (111, 3), (89, 3), (92, 3), (85, 3), (86, 2), (106, 3), (90, 3), (91, 3), (108, 3), (109, 3), (95, 2), (97, 3), (274, 2), (96, 2), (98, 3), (336, 2), (116, 3), (100, 3), (102, 3), (117, 3), (101, 3), (103, 3), (115, 3), (127, 3), (105, 3), (110, 3), (121, 3), (133, 3), (355, 3), (377, 3), (107, 3), (142, 3), (216, 3), (112, 3), (215, 3), (125, 3), (113, 3), (114, 3), (214, 3), (126, 3), (220, 3), (120, 3), (118, 3), (119, 3), (394, 2), (363, 3), (369, 3), (122, 2), (123, 3), (124, 3), (285, 2), (289, 3), (128, 2), (130, 3), (399, 3), (129, 2), (134, 3), (136, 3), (209, 3), (206, 2), (210, 3), (137, 3), (141, 2), (380, 3), (313, 3), (379, 3), (145, 3), (146, 3), (218, 3), (148, 3), (225, 2), (211, 3), (222, 3), (149, 3), (150, 3), (153, 3), (152, 3), (165, 3), (151, 3), (154, 3), (168, 3), (169, 3), (155, 3), (157, 3), (156, 3), (159, 3), (163, 3), (158, 3), (217, 3), (226, 2), (162, 3), (187, 3), (231, 3), (164, 3), (174, 3), (175, 3), (170, 2), (219, 3), (171, 2), (172, 3), (296, 3), (308, 3), (246, 3), (192, 3), (241, 3), (242, 3), (179, 3), (181, 3), (180, 3), (202, 3), (185, 3), (183, 2), (184, 2), (188, 3), (189, 3), (237, 3), (238, 3), (257, 3), (203, 3), (278, 3), (190, 3), (191, 3), (194, 3), (264, 3), (243, 3), (195, 3), (200, 3), (196, 3), (197, 2), (198, 3), (199, 3), (208, 3), (204, 2), (205, 3), (207, 3), (280, 3), (213, 3), (212, 3), (223, 3), (292, 3), (221, 3), (286, 3), (293, 3), (232, 3), (298, 3), (224, 1), (227, 3), (228, 3), (229, 2), (309, 3), (233, 2), (240, 3), (230, 2), (234, 2), (310, 3), (235, 3), (236, 3), (317, 3), (239, 2), (318, 3), (316, 3), (326, 3), (248, 3), (244, 2), (255, 3), (245, 2), (249, 3), (256, 3), (250, 3), (305, 3), (247, 2), (251, 3), (320, 2), (254, 1), (252, 3), (253, 1), (302, 3), (273, 3), (322, 3), (334, 3), (259, 2), (277, 3), (258, 2), (260, 3), (261, 3), (330, 3), (263, 3), (327, 2), (262, 2), (284, 3), (333, 3), (265, 3), (266, 3), (270, 2), (267, 2), (271, 3), (268, 3), (269, 3), (287, 3), (276, 2), (272, 2), (275, 2), (335, 3), (281, 3), (279, 3), (282, 3), (283, 3), (291, 3), (343, 2), (344, 3), (288, 3), (297, 3), (290, 3), (299, 3), (366, 3), (294, 3), (295, 3), (352, 3), (357, 3), (304, 3), (351, 3), (303, 3), (300, 2), (301, 3), (307, 3), (306, 2), (371, 3), (358, 3), (372, 3), (311, 1), (315, 3), (314, 3), (387, 2), (323, 3), (324, 1), (339, 3), (325, 1), (328, 3), (329, 3), (349, 3), (338, 2), (337, 2), (341, 3), (340, 3), (395, 3), (345, 3), (346, 3), (348, 3), (350, 3), (347, 2), (353, 3), (356, 3), (378, 3), (386, 3), (359, 3), (360, 2), (364, 3), (361, 2), (396, 3), (368, 3), (367, 2), (373, 3), (374, 3), (385, 3), (375, 2), (376, 2), (384, 2), (383, 2), (381, 3), (382, 2), (393, 2), (391, 2), (397, 2)]\n",
      "558\n",
      "1647\n"
     ]
    },
    {
     "ename": "NameError",
     "evalue": "name 'pl' is not defined",
     "output_type": "error",
     "traceback": [
      "\u001b[0;31m---------------------------------------------------------------------------\u001b[0m",
      "\u001b[0;31mNameError\u001b[0m                                 Traceback (most recent call last)",
      "Cell \u001b[0;32mIn[12], line 37\u001b[0m\n\u001b[1;32m     32\u001b[0m \u001b[38;5;28;01mfor\u001b[39;00m i, frame \u001b[38;5;129;01min\u001b[39;00m \u001b[38;5;28menumerate\u001b[39m(gromacs\u001b[38;5;241m.\u001b[39mread_gro(fr)):\n\u001b[1;32m     33\u001b[0m     \u001b[38;5;28;01mbreak\u001b[39;00m\n\u001b[1;32m     34\u001b[0m g \u001b[38;5;241m=\u001b[39m nx\u001b[38;5;241m.\u001b[39mGraph(\n\u001b[1;32m     35\u001b[0m     [\n\u001b[1;32m     36\u001b[0m         (i, j)\n\u001b[0;32m---> 37\u001b[0m         \u001b[38;5;28;01mfor\u001b[39;00m i, j \u001b[38;5;129;01min\u001b[39;00m \u001b[43mpl\u001b[49m\u001b[38;5;241m.\u001b[39mpairs_iter(\n\u001b[1;32m     38\u001b[0m             frame[\u001b[38;5;124m\"\u001b[39m\u001b[38;5;124mposition\u001b[39m\u001b[38;5;124m\"\u001b[39m],\n\u001b[1;32m     39\u001b[0m             \u001b[38;5;241m0.18\u001b[39m,\n\u001b[1;32m     40\u001b[0m             frame[\u001b[38;5;124m\"\u001b[39m\u001b[38;5;124mcell\u001b[39m\u001b[38;5;124m\"\u001b[39m],\n\u001b[1;32m     41\u001b[0m             fractional\u001b[38;5;241m=\u001b[39m\u001b[38;5;28;01mFalse\u001b[39;00m,\n\u001b[1;32m     42\u001b[0m             distance\u001b[38;5;241m=\u001b[39m\u001b[38;5;28;01mFalse\u001b[39;00m,\n\u001b[1;32m     43\u001b[0m         )\n\u001b[1;32m     44\u001b[0m     ]\n\u001b[1;32m     45\u001b[0m )\n",
      "\u001b[0;31mNameError\u001b[0m: name 'pl' is not defined"
     ]
    }
   ],
   "source": [
    "import networkx as nx\n",
    "\n",
    "sections = dict()\n",
    "name = None\n",
    "with open(\"gyroid.top\") as f:\n",
    "    for line in f:\n",
    "        line = line.strip()\n",
    "        if len(line) > 0 and line[0] == \"[\":\n",
    "            name = line\n",
    "            sections[name] = []\n",
    "            continue\n",
    "        if name is not None:\n",
    "            sections[name].append(line)\n",
    "\n",
    "# make a graph based on bonds\n",
    "g0 = nx.Graph()\n",
    "for line in sections[\"[ bonds ]\"]:\n",
    "    if len(line) > 0 and line[0] != \";\":\n",
    "        cols = line.split()\n",
    "        g0.add_edge(int(cols[0]), int(cols[1]))\n",
    "\n",
    "print(g0.degree)\n",
    "\n",
    "\n",
    "print(len(sections[\"[ bonds ]\"]))\n",
    "print(len(sections[\"[ pairs ]\"]))\n",
    "# split a multiframed gro file into gro files.\n",
    "\n",
    "import gromacs\n",
    "\n",
    "with open(\"gyroid99.gro\") as fr:\n",
    "    for i, frame in enumerate(gromacs.read_gro(fr)):\n",
    "        break\n",
    "    g = nx.Graph(\n",
    "        [\n",
    "            (i, j)\n",
    "            for i, j in pl.pairs_iter(\n",
    "                frame[\"position\"],\n",
    "                0.18,\n",
    "                frame[\"cell\"],\n",
    "                fractional=False,\n",
    "                distance=False,\n",
    "            )\n",
    "        ]\n",
    "    )"
   ]
  },
  {
   "cell_type": "code",
   "execution_count": null,
   "metadata": {},
   "outputs": [],
   "source": []
  }
 ],
 "metadata": {
  "kernelspec": {
   "display_name": "gyroid-cqmDCkE1",
   "language": "python",
   "name": "python3"
  },
  "language_info": {
   "codemirror_mode": {
    "name": "ipython",
    "version": 3
   },
   "file_extension": ".py",
   "mimetype": "text/x-python",
   "name": "python",
   "nbconvert_exporter": "python",
   "pygments_lexer": "ipython3",
   "version": "3.11.4"
  }
 },
 "nbformat": 4,
 "nbformat_minor": 2
}
