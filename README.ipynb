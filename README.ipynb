{
 "cells": [
  {
   "cell_type": "markdown",
   "metadata": {},
   "source": [
    "## 0. 前準備\n",
    "\n",
    "Poetry (python の仮想環境)をインストール\n",
    "\n",
    "```\n",
    "brew install poetry\n",
    "```\n",
    "\n",
    "### 0.1 graphene-studio のフォルダー内で、仮想環境を生成\n",
    "\n",
    "```\n",
    "poetry install\n",
    "```\n",
    "\n",
    "### 0.2 VSCode で、test.ipynb を開き、2 で生成した python kernel を指定して実行\n"
   ]
  },
  {
   "cell_type": "markdown",
   "metadata": {},
   "source": [
    "## 1. 外場なしの配置\n",
    "\n",
    "外場は与えず、原子間斥力のみ与えて Quench して原子配置を均一化する。\n"
   ]
  },
  {
   "cell_type": "code",
   "execution_count": 13,
   "metadata": {},
   "outputs": [
    {
     "name": "stdout",
     "output_type": "stream",
     "text": [
      "         Current function value: 4681.351339\n",
      "         Iterations: 4\n",
      "         Function evaluations: 145\n",
      "         Gradient evaluations: 134\n"
     ]
    },
    {
     "name": "stderr",
     "output_type": "stream",
     "text": [
      "/Users/matto/Library/Caches/pypoetry/virtualenvs/graphene-studio-LdnOtBEG-py3.11/lib/python3.11/site-packages/scipy/optimize/_optimize.py:1658: OptimizeWarning:\n",
      "\n",
      "Desired error not necessarily achieved due to precision loss.\n",
      "\n"
     ]
    }
   ],
   "source": [
    "from logging import getLogger\n",
    "\n",
    "import numpy as np\n",
    "\n",
    "from graphenestudio.quench import quench_particles\n",
    "from graphenestudio.pack import random_box\n",
    "from graphenestudio.interaction import repulsive_potential, repulsive_force\n",
    "\n",
    "logger = getLogger()\n",
    "\n",
    "# 斥力で配置を調整する原子の個数。最終的に配置する炭素の数ではない。\n",
    "Natom = 192\n",
    "# 立方体セル\n",
    "cell = np.diag(np.array([5.0, 5.0, 5.0]))\n",
    "\n",
    "# 初期配置。セル相対。\n",
    "r = random_box(Natom)\n",
    "\n",
    "# ポテンシャルエネルギーは粒子位置の関数。\n",
    "pot = lambda r, cell: repulsive_potential(r, cell, repul=4, rc=2.0)\n",
    "# その勾配。\n",
    "dpot = lambda r, cell: -repulsive_force(r, cell, repul=4, rc=2.0)\n",
    "\n",
    "r_quenched = quench_particles(r, cell, pot, dpot)\n",
    "x_quenched = r_quenched @ cell"
   ]
  },
  {
   "cell_type": "markdown",
   "metadata": {},
   "source": [
    "Quench 前とあとを比較。\n"
   ]
  },
  {
   "cell_type": "code",
   "execution_count": null,
   "metadata": {},
   "outputs": [],
   "source": [
    "# -*- coding: utf-8 -*-\n",
    "import plotly.graph_objects as go\n",
    "from itertools import starmap\n",
    "\n",
    "x = r @ cell\n",
    "\n",
    "# mode='makers'を指定しないと点の間に線が引かれる\n",
    "fig = go.Figure(\n",
    "    data=[\n",
    "        go.Scatter3d(\n",
    "            x=x[:, 0],\n",
    "            y=x[:, 1],\n",
    "            z=x[:, 2],\n",
    "            mode=\"markers\",\n",
    "            marker=dict(\n",
    "                size=5,\n",
    "                # color=point_sum,\n",
    "                colorscale=\"Viridis\",\n",
    "                # symbol=result_symbol\n",
    "            ),\n",
    "        ),\n",
    "        go.Scatter3d(\n",
    "            x=x_quenched[:, 0],\n",
    "            y=x_quenched[:, 1],\n",
    "            z=x_quenched[:, 2],\n",
    "            mode=\"markers\",\n",
    "            marker=dict(\n",
    "                size=5,\n",
    "                # color=point_sum,\n",
    "                colorscale=\"Viridis\",\n",
    "                # symbol=result_symbol\n",
    "            ),\n",
    "        ),\n",
    "    ]\n",
    ")\n",
    "fig.show()"
   ]
  },
  {
   "cell_type": "markdown",
   "metadata": {},
   "source": [
    "## 2. graphene の本格的生成\n",
    "\n",
    "外場を加えたエネルギー関数とその傾きの関数を準備する。\n"
   ]
  },
  {
   "cell_type": "code",
   "execution_count": 1,
   "metadata": {},
   "outputs": [],
   "source": [
    "# The gyroid surface and its gradient\n",
    "from logging import getLogger, basicConfig, INFO\n",
    "\n",
    "import numpy as np\n",
    "\n",
    "from graphenestudio.pack import random_box\n",
    "from graphenestudio.interaction import repulsive_potential, repulsive_force\n",
    "\n",
    "from graphenestudio.surface import Gyroid, Sphere, Diamond, PSurface\n",
    "\n",
    "# from graphenestudio.surface.psurface import PSurface\n",
    "\n",
    "\n",
    "basicConfig(level=INFO)\n",
    "logger = getLogger()\n",
    "\n",
    "# 斥力粒子の個数\n",
    "Natom = 130\n",
    "# 外場の強度。小さいと、ぎゅうぎゅうづめになった時に面外に粒子がこぼれる可能性がある。\n",
    "cost = 100000\n",
    "# 立方体セル\n",
    "cell = np.diag(np.array([5.0, 5.0, 5.0]))\n",
    "\n",
    "# 曲面関数\n",
    "# surf = Gyroid(eccentricity=0.0)\n",
    "# surf = Sphere(radius=0.45)\n",
    "# surf = Diamond(eccentricity=0.0)\n",
    "surf = PSurface(eccentricity=0.0)\n",
    "\n",
    "# 斥力粒子の座標(セル相対)\n",
    "r = random_box(Natom)\n",
    "\n",
    "# 斥力粒子のポテンシャルエネルギー関数\n",
    "pot = lambda r, cell: repulsive_potential(\n",
    "    r, cell, repul=4, rc=1.0\n",
    ") + cost * surf.exfield_potential(r)\n",
    "# その勾配\n",
    "dpot = lambda r, cell: -repulsive_force(\n",
    "    r, cell, repul=4, rc=1.0\n",
    ") + cost * surf.exfield_gradient(r)"
   ]
  },
  {
   "cell_type": "markdown",
   "metadata": {},
   "source": [
    "### 2.1 Quench し、表示する。\n"
   ]
  },
  {
   "cell_type": "code",
   "execution_count": 2,
   "metadata": {},
   "outputs": [
    {
     "name": "stdout",
     "output_type": "stream",
     "text": [
      "         Current function value: 6832.989982\n",
      "         Iterations: 156\n",
      "         Function evaluations: 466\n",
      "         Gradient evaluations: 456\n"
     ]
    },
    {
     "name": "stderr",
     "output_type": "stream",
     "text": [
      "/Users/matto/Library/Caches/pypoetry/virtualenvs/graphene-studio-LdnOtBEG-py3.11/lib/python3.11/site-packages/scipy/optimize/_optimize.py:1658: OptimizeWarning: Desired error not necessarily achieved due to precision loss.\n",
      "  res = _minimize_cg(f, x0, args, fprime, callback=callback, c1=c1, c2=c2,\n"
     ]
    },
    {
     "data": {
      "application/vnd.plotly.v1+json": {
       "config": {
        "plotlyServerURL": "https://plot.ly"
       },
       "data": [
        {
         "marker": {
          "colorscale": [
           [
            0,
            "#440154"
           ],
           [
            0.1111111111111111,
            "#482878"
           ],
           [
            0.2222222222222222,
            "#3e4989"
           ],
           [
            0.3333333333333333,
            "#31688e"
           ],
           [
            0.4444444444444444,
            "#26828e"
           ],
           [
            0.5555555555555556,
            "#1f9e89"
           ],
           [
            0.6666666666666666,
            "#35b779"
           ],
           [
            0.7777777777777778,
            "#6ece58"
           ],
           [
            0.8888888888888888,
            "#b5de2b"
           ],
           [
            1,
            "#fde725"
           ]
          ],
          "size": 5
         },
         "mode": "markers",
         "type": "scatter3d",
         "x": [
          0.7935868833551691,
          0.3738206981358646,
          0.11612113051750457,
          0.8863184935044972,
          2.486316661994729,
          0.6893696100249604,
          -1.3714262610536663,
          -1.97381415158587,
          -1.0652232445281078,
          -2.1313578311332297,
          -1.0026387376291876,
          2.221317527247835,
          -2.401531314311078,
          2.442303861874213,
          2.4981743352416075,
          -2.084562842998994,
          -1.4986966097113759,
          -0.66808517155936,
          -0.3293402294445697,
          0.9720707175724502,
          0.31723868098985364,
          -1.478366645814527,
          -0.14139876285493738,
          -0.6788071721532957,
          -1.6526048706927707,
          1.1716252889944516,
          -1.8129305199773929,
          -1.4488249081090387,
          -2.3908243629033024,
          -2.4380272546021686,
          1.4740465088382844,
          1.9077898223484426,
          -1.2790384352276705,
          0.9039492368698548,
          -1.505080330012189,
          -1.2663602225782085,
          -2.4088331716018887,
          -0.6980068579227959,
          -1.272456812576891,
          2.081706585636107,
          -0.7341804416765938,
          -1.797560533073448,
          1.9787203907745796,
          -0.5705877753853102,
          -0.7386486711770786,
          1.3915286530227522,
          -0.942832247300499,
          1.2285428350772927,
          -1.9685112416174886,
          2.1410906273528374,
          -1.2816875624875839,
          1.240943258598838,
          0.3893156852525837,
          -0.9760640725780265,
          -1.1873447787104892,
          -0.907270503018706,
          -0.458658017670602,
          1.2752264790675567,
          1.7780429639319293,
          0.7527943220328032,
          -0.9858592608992349,
          1.9737962670444822,
          0.8572054620303071,
          0.05640093323881563,
          -0.4812870781576024,
          -2.4525019206950303,
          1.1667460832365146,
          -1.1078552076854509,
          -1.2164373859873787,
          -0.9397304922678267,
          -0.13574062539672072,
          0.06428748882172898,
          1.9274989992244844,
          -1.6357064786435878,
          1.7010818279634488,
          -2.047663354311742,
          1.1912019590598575,
          -1.64716088821144,
          -2.2412700530626752,
          0.5144064609479627,
          -0.30655512316688793,
          -1.2298062337223457,
          0.788344327697787,
          -1.169394738310035,
          -1.6100321925659538,
          -1.3328421054419959,
          -1.701621784517082,
          -2.009850216418136,
          -1.250294825069619,
          1.4823659116901575,
          0.8501704881830248,
          0.589549768058283,
          1.9134153826574467,
          1.4220573472676565,
          1.2588596715715497,
          -0.6750845276488621,
          2.0563996638319844,
          -1.7782175441932702,
          1.8025245313974878,
          -1.3328303442541845,
          1.1837231220818343,
          1.8328466378123243,
          1.4799155091743623,
          -0.7656065239901704,
          1.1668096799160725,
          1.2898531767219619,
          1.5099121026537703,
          0.8535601604934246,
          1.4921360045906495,
          -1.8646743515730138,
          1.5003991335782167,
          1.4341954641131975,
          -1.558199153742959,
          0.20400611960007992,
          0.9752501223766109,
          0.4422723406734372,
          0.379242657249539,
          1.162475449354838,
          -1.7404135894989707,
          -0.4332471338786706,
          -1.1640322879781615,
          -1.3886222683004008,
          0.07674778442691138,
          1.19990890237659,
          1.2154117882803692,
          2.2028644174681626,
          1.0228125310809697,
          -0.15109536338615015,
          -0.1760898151769663,
          1.641087637902026
         ],
         "y": [
          -0.8839242828722628,
          -2.4858814247745467,
          1.987492669869538,
          1.2768147921792332,
          -1.2240778109709685,
          -1.7814829712175306,
          -1.5321610378627983,
          -1.3002073629545219,
          1.3299106625021027,
          1.232993371671278,
          2.301659493211863,
          1.2577210419370324,
          1.024431689614932,
          -0.934413911700934,
          0.6214222918513622,
          -0.7207014162943158,
          -1.4466892397260556,
          -1.6499836163040158,
          -2.276568909829959,
          0.8869067733083462,
          -1.1884646002327115,
          1.4244200366082782,
          -1.4462351598175485,
          1.9427732364849215,
          -0.5571083248620721,
          -1.8028161609760882,
          0.54009980996346,
          1.5121006865572264,
          0.8253250597102264,
          0.23310060586978043,
          1.4117954773627173,
          -1.4420906581541784,
          -2.048774906035973,
          1.72230245393706,
          -1.0766319579131305,
          0.727870208753954,
          -0.5253637759229682,
          -1.129607013448652,
          0.10663773101868088,
          1.1582640763917311,
          1.3404584984817405,
          0.9978563086851767,
          0.2744751242004176,
          -1.6346103875312896,
          1.062175848396005,
          0.9449379764646204,
          0.722951020371055,
          2.053723125401245,
          -1.3343305849703548,
          0.27411898240098886,
          0.8162059673273064,
          1.5336631056794139,
          1.6342452994860075,
          -2.3957784474694552,
          -0.6400920674001943,
          -1.9997365380505752,
          -2.358561512030541,
          -0.3705563359260151,
          -1.1356209721661865,
          -1.5383412391680293,
          -1.190806074294776,
          -0.3675917824228652,
          2.372192601679351,
          2.1444914115732727,
          1.5623897162926292,
          -0.9658605469869235,
          -1.312522937130839,
          -0.520657006781183,
          2.0558630091349293,
          -1.8269967752433824,
          -1.4132967692570122,
          -2.1536690630393074,
          1.0522250351911573,
          1.68178551422037,
          -0.2425139631641553,
          1.3459510255301443,
          1.9625967004012073,
          -1.6817431168142525,
          0.02099233865691406,
          -1.3687002120340779,
          -1.193472194165196,
          -0.7961068473032816,
          1.3643047666222192,
          -1.261020770448823,
          -0.5967725185168636,
          0.17422163978647998,
          -0.013013721349385311,
          -0.14135036438505572,
          2.460811333929801,
          -0.7551349792682835,
          2.3785634747089253,
          -2.2300857977328743,
          0.8451656356999855,
          1.9664175709293106,
          -2.164279778389497,
          2.068679634870303,
          -1.264953253720982,
          -0.9798667436168828,
          1.5272272435647427,
          -1.8968294553707075,
          0.7098195545695771,
          -1.0294634608842337,
          -0.1622097923384816,
          -0.9402759418241656,
          -2.2539597486471386,
          -1.319938251292227,
          -0.803463399114004,
          0.8197866612648576,
          -1.842171206527765,
          0.519078897674987,
          0.9468966821355012,
          0.36082896054592145,
          -0.056956274767742954,
          -1.69251330815524,
          -1.0207705781651595,
          1.2108607162809062,
          1.260115973004836,
          -0.41403686605743106,
          1.0186005146905044,
          1.18458256712531,
          1.302692260947226,
          1.8418995809498928,
          -1.8752537675235559,
          -1.733231258833949,
          0.23556182739562073,
          -0.487274319450023,
          -0.9214431456228872,
          1.321083432158773,
          1.5946039857791754,
          0.38627175638904304
         ],
         "z": [
          -2.369508757352924,
          1.1637557130666005,
          1.401813759785509,
          -1.583747264664275,
          0.2056322462129866,
          1.272519844663187,
          -0.8338640641791949,
          -0.4381265869666041,
          -1.3542893131138545,
          0.4050479399342267,
          -0.673102244296046,
          -0.2553842014761133,
          -0.6188960551448819,
          0.7272834837769864,
          -1.016332890733502,
          1.0499491899979743,
          0.7842272109336544,
          -1.3987217701810533,
          1.2139620117938894,
          1.9654724256250558,
          -2.4684726274152085,
          -0.8333724113808416,
          1.913167890607133,
          -1.16468175276633,
          -1.4760107518935097,
          -0.7947318532300354,
          -1.3523226392116696,
          0.766640390172103,
          0.8498173360323907,
          1.2183604156731855,
          0.8517358631385662,
          0.17878406168114513,
          -0.3936220215933899,
          1.1395719603622487,
          1.1710893640142344,
          1.752363633961539,
          -1.0872667021808777,
          -1.9750191039702205,
          2.282912397020258,
          0.5752723565445831,
          1.6579251054538846,
          -0.9877508935983113,
          1.3688957965259176,
          1.4835539640331783,
          -2.0335661896602435,
          1.4073306239217056,
          2.393798747117819,
          0.48599606886628277,
          0.37546813709232885,
          -1.2824759572933808,
          -1.6469189171074095,
          -0.9759743741390758,
          -1.593528371162949,
          0.6830405581950648,
          1.9541109126261063,
          -0.929942288914374,
          -1.1336860448818789,
          2.0775342187215475,
          0.8581931663441069,
          -1.434955958951275,
          1.577336374656873,
          -1.3345124205587646,
          -0.8210726332091596,
          -1.326467146477458,
          -1.6125317442498066,
          -0.6882511289424043,
          1.2706173728576606,
          -2.3074769043422854,
          0.5033430901927815,
          1.0215694823183987,
          -1.9640017140081725,
          -1.3217000288736043,
          -0.8280750405080023,
          0.14703384467835778,
          1.5922812696194841,
          -0.21659788712960826,
          -0.6248772638348552,
          -0.08092815999847443,
          -1.291352046718064,
          1.8127571555485327,
          2.446203144885199,
          -1.7279963740487334,
          1.581775314326659,
          -1.319552693858057,
          1.487953663689055,
          -2.0928973159621673,
          -1.6325127990633206,
          1.384543117601885,
          -0.039869447570481255,
          -1.4880068965913305,
          0.8271702175391256,
          -1.085516500192272,
          1.0462410475881943,
          -0.04912817224157649,
          -0.3142235440166152,
          1.093435712998469,
          -0.41372085057476055,
          -1.021122680765951,
          0.15393704402888236,
          0.46979474019839157,
          -1.8789134099784652,
          -0.9277274025411898,
          -1.8604970912601866,
          2.2503150021336076,
          0.44409516662199366,
          -1.1400057624847668,
          1.4193918295920689,
          -2.403012901679068,
          0.17284077473705292,
          1.3268151848424636,
          -1.2994062307446064,
          1.8334780872752616,
          1.7819663439132474,
          -1.6120855942718861,
          -1.7846859610645365,
          -2.1392969761400273,
          2.0990922423515617,
          -2.3293986437060883,
          1.0136288015654429,
          2.2170572831987814,
          1.283179912507696,
          -0.4411965138160885,
          1.4825220077478014,
          0.8256305970775308,
          -2.489162602782249,
          1.1599443207659268,
          1.8481488081010693,
          -2.1292154027663224,
          1.7187965607731472,
          -1.5883135081595021
         ]
        }
       ],
       "layout": {
        "template": {
         "data": {
          "bar": [
           {
            "error_x": {
             "color": "#2a3f5f"
            },
            "error_y": {
             "color": "#2a3f5f"
            },
            "marker": {
             "line": {
              "color": "#E5ECF6",
              "width": 0.5
             },
             "pattern": {
              "fillmode": "overlay",
              "size": 10,
              "solidity": 0.2
             }
            },
            "type": "bar"
           }
          ],
          "barpolar": [
           {
            "marker": {
             "line": {
              "color": "#E5ECF6",
              "width": 0.5
             },
             "pattern": {
              "fillmode": "overlay",
              "size": 10,
              "solidity": 0.2
             }
            },
            "type": "barpolar"
           }
          ],
          "carpet": [
           {
            "aaxis": {
             "endlinecolor": "#2a3f5f",
             "gridcolor": "white",
             "linecolor": "white",
             "minorgridcolor": "white",
             "startlinecolor": "#2a3f5f"
            },
            "baxis": {
             "endlinecolor": "#2a3f5f",
             "gridcolor": "white",
             "linecolor": "white",
             "minorgridcolor": "white",
             "startlinecolor": "#2a3f5f"
            },
            "type": "carpet"
           }
          ],
          "choropleth": [
           {
            "colorbar": {
             "outlinewidth": 0,
             "ticks": ""
            },
            "type": "choropleth"
           }
          ],
          "contour": [
           {
            "colorbar": {
             "outlinewidth": 0,
             "ticks": ""
            },
            "colorscale": [
             [
              0,
              "#0d0887"
             ],
             [
              0.1111111111111111,
              "#46039f"
             ],
             [
              0.2222222222222222,
              "#7201a8"
             ],
             [
              0.3333333333333333,
              "#9c179e"
             ],
             [
              0.4444444444444444,
              "#bd3786"
             ],
             [
              0.5555555555555556,
              "#d8576b"
             ],
             [
              0.6666666666666666,
              "#ed7953"
             ],
             [
              0.7777777777777778,
              "#fb9f3a"
             ],
             [
              0.8888888888888888,
              "#fdca26"
             ],
             [
              1,
              "#f0f921"
             ]
            ],
            "type": "contour"
           }
          ],
          "contourcarpet": [
           {
            "colorbar": {
             "outlinewidth": 0,
             "ticks": ""
            },
            "type": "contourcarpet"
           }
          ],
          "heatmap": [
           {
            "colorbar": {
             "outlinewidth": 0,
             "ticks": ""
            },
            "colorscale": [
             [
              0,
              "#0d0887"
             ],
             [
              0.1111111111111111,
              "#46039f"
             ],
             [
              0.2222222222222222,
              "#7201a8"
             ],
             [
              0.3333333333333333,
              "#9c179e"
             ],
             [
              0.4444444444444444,
              "#bd3786"
             ],
             [
              0.5555555555555556,
              "#d8576b"
             ],
             [
              0.6666666666666666,
              "#ed7953"
             ],
             [
              0.7777777777777778,
              "#fb9f3a"
             ],
             [
              0.8888888888888888,
              "#fdca26"
             ],
             [
              1,
              "#f0f921"
             ]
            ],
            "type": "heatmap"
           }
          ],
          "heatmapgl": [
           {
            "colorbar": {
             "outlinewidth": 0,
             "ticks": ""
            },
            "colorscale": [
             [
              0,
              "#0d0887"
             ],
             [
              0.1111111111111111,
              "#46039f"
             ],
             [
              0.2222222222222222,
              "#7201a8"
             ],
             [
              0.3333333333333333,
              "#9c179e"
             ],
             [
              0.4444444444444444,
              "#bd3786"
             ],
             [
              0.5555555555555556,
              "#d8576b"
             ],
             [
              0.6666666666666666,
              "#ed7953"
             ],
             [
              0.7777777777777778,
              "#fb9f3a"
             ],
             [
              0.8888888888888888,
              "#fdca26"
             ],
             [
              1,
              "#f0f921"
             ]
            ],
            "type": "heatmapgl"
           }
          ],
          "histogram": [
           {
            "marker": {
             "pattern": {
              "fillmode": "overlay",
              "size": 10,
              "solidity": 0.2
             }
            },
            "type": "histogram"
           }
          ],
          "histogram2d": [
           {
            "colorbar": {
             "outlinewidth": 0,
             "ticks": ""
            },
            "colorscale": [
             [
              0,
              "#0d0887"
             ],
             [
              0.1111111111111111,
              "#46039f"
             ],
             [
              0.2222222222222222,
              "#7201a8"
             ],
             [
              0.3333333333333333,
              "#9c179e"
             ],
             [
              0.4444444444444444,
              "#bd3786"
             ],
             [
              0.5555555555555556,
              "#d8576b"
             ],
             [
              0.6666666666666666,
              "#ed7953"
             ],
             [
              0.7777777777777778,
              "#fb9f3a"
             ],
             [
              0.8888888888888888,
              "#fdca26"
             ],
             [
              1,
              "#f0f921"
             ]
            ],
            "type": "histogram2d"
           }
          ],
          "histogram2dcontour": [
           {
            "colorbar": {
             "outlinewidth": 0,
             "ticks": ""
            },
            "colorscale": [
             [
              0,
              "#0d0887"
             ],
             [
              0.1111111111111111,
              "#46039f"
             ],
             [
              0.2222222222222222,
              "#7201a8"
             ],
             [
              0.3333333333333333,
              "#9c179e"
             ],
             [
              0.4444444444444444,
              "#bd3786"
             ],
             [
              0.5555555555555556,
              "#d8576b"
             ],
             [
              0.6666666666666666,
              "#ed7953"
             ],
             [
              0.7777777777777778,
              "#fb9f3a"
             ],
             [
              0.8888888888888888,
              "#fdca26"
             ],
             [
              1,
              "#f0f921"
             ]
            ],
            "type": "histogram2dcontour"
           }
          ],
          "mesh3d": [
           {
            "colorbar": {
             "outlinewidth": 0,
             "ticks": ""
            },
            "type": "mesh3d"
           }
          ],
          "parcoords": [
           {
            "line": {
             "colorbar": {
              "outlinewidth": 0,
              "ticks": ""
             }
            },
            "type": "parcoords"
           }
          ],
          "pie": [
           {
            "automargin": true,
            "type": "pie"
           }
          ],
          "scatter": [
           {
            "fillpattern": {
             "fillmode": "overlay",
             "size": 10,
             "solidity": 0.2
            },
            "type": "scatter"
           }
          ],
          "scatter3d": [
           {
            "line": {
             "colorbar": {
              "outlinewidth": 0,
              "ticks": ""
             }
            },
            "marker": {
             "colorbar": {
              "outlinewidth": 0,
              "ticks": ""
             }
            },
            "type": "scatter3d"
           }
          ],
          "scattercarpet": [
           {
            "marker": {
             "colorbar": {
              "outlinewidth": 0,
              "ticks": ""
             }
            },
            "type": "scattercarpet"
           }
          ],
          "scattergeo": [
           {
            "marker": {
             "colorbar": {
              "outlinewidth": 0,
              "ticks": ""
             }
            },
            "type": "scattergeo"
           }
          ],
          "scattergl": [
           {
            "marker": {
             "colorbar": {
              "outlinewidth": 0,
              "ticks": ""
             }
            },
            "type": "scattergl"
           }
          ],
          "scattermapbox": [
           {
            "marker": {
             "colorbar": {
              "outlinewidth": 0,
              "ticks": ""
             }
            },
            "type": "scattermapbox"
           }
          ],
          "scatterpolar": [
           {
            "marker": {
             "colorbar": {
              "outlinewidth": 0,
              "ticks": ""
             }
            },
            "type": "scatterpolar"
           }
          ],
          "scatterpolargl": [
           {
            "marker": {
             "colorbar": {
              "outlinewidth": 0,
              "ticks": ""
             }
            },
            "type": "scatterpolargl"
           }
          ],
          "scatterternary": [
           {
            "marker": {
             "colorbar": {
              "outlinewidth": 0,
              "ticks": ""
             }
            },
            "type": "scatterternary"
           }
          ],
          "surface": [
           {
            "colorbar": {
             "outlinewidth": 0,
             "ticks": ""
            },
            "colorscale": [
             [
              0,
              "#0d0887"
             ],
             [
              0.1111111111111111,
              "#46039f"
             ],
             [
              0.2222222222222222,
              "#7201a8"
             ],
             [
              0.3333333333333333,
              "#9c179e"
             ],
             [
              0.4444444444444444,
              "#bd3786"
             ],
             [
              0.5555555555555556,
              "#d8576b"
             ],
             [
              0.6666666666666666,
              "#ed7953"
             ],
             [
              0.7777777777777778,
              "#fb9f3a"
             ],
             [
              0.8888888888888888,
              "#fdca26"
             ],
             [
              1,
              "#f0f921"
             ]
            ],
            "type": "surface"
           }
          ],
          "table": [
           {
            "cells": {
             "fill": {
              "color": "#EBF0F8"
             },
             "line": {
              "color": "white"
             }
            },
            "header": {
             "fill": {
              "color": "#C8D4E3"
             },
             "line": {
              "color": "white"
             }
            },
            "type": "table"
           }
          ]
         },
         "layout": {
          "annotationdefaults": {
           "arrowcolor": "#2a3f5f",
           "arrowhead": 0,
           "arrowwidth": 1
          },
          "autotypenumbers": "strict",
          "coloraxis": {
           "colorbar": {
            "outlinewidth": 0,
            "ticks": ""
           }
          },
          "colorscale": {
           "diverging": [
            [
             0,
             "#8e0152"
            ],
            [
             0.1,
             "#c51b7d"
            ],
            [
             0.2,
             "#de77ae"
            ],
            [
             0.3,
             "#f1b6da"
            ],
            [
             0.4,
             "#fde0ef"
            ],
            [
             0.5,
             "#f7f7f7"
            ],
            [
             0.6,
             "#e6f5d0"
            ],
            [
             0.7,
             "#b8e186"
            ],
            [
             0.8,
             "#7fbc41"
            ],
            [
             0.9,
             "#4d9221"
            ],
            [
             1,
             "#276419"
            ]
           ],
           "sequential": [
            [
             0,
             "#0d0887"
            ],
            [
             0.1111111111111111,
             "#46039f"
            ],
            [
             0.2222222222222222,
             "#7201a8"
            ],
            [
             0.3333333333333333,
             "#9c179e"
            ],
            [
             0.4444444444444444,
             "#bd3786"
            ],
            [
             0.5555555555555556,
             "#d8576b"
            ],
            [
             0.6666666666666666,
             "#ed7953"
            ],
            [
             0.7777777777777778,
             "#fb9f3a"
            ],
            [
             0.8888888888888888,
             "#fdca26"
            ],
            [
             1,
             "#f0f921"
            ]
           ],
           "sequentialminus": [
            [
             0,
             "#0d0887"
            ],
            [
             0.1111111111111111,
             "#46039f"
            ],
            [
             0.2222222222222222,
             "#7201a8"
            ],
            [
             0.3333333333333333,
             "#9c179e"
            ],
            [
             0.4444444444444444,
             "#bd3786"
            ],
            [
             0.5555555555555556,
             "#d8576b"
            ],
            [
             0.6666666666666666,
             "#ed7953"
            ],
            [
             0.7777777777777778,
             "#fb9f3a"
            ],
            [
             0.8888888888888888,
             "#fdca26"
            ],
            [
             1,
             "#f0f921"
            ]
           ]
          },
          "colorway": [
           "#636efa",
           "#EF553B",
           "#00cc96",
           "#ab63fa",
           "#FFA15A",
           "#19d3f3",
           "#FF6692",
           "#B6E880",
           "#FF97FF",
           "#FECB52"
          ],
          "font": {
           "color": "#2a3f5f"
          },
          "geo": {
           "bgcolor": "white",
           "lakecolor": "white",
           "landcolor": "#E5ECF6",
           "showlakes": true,
           "showland": true,
           "subunitcolor": "white"
          },
          "hoverlabel": {
           "align": "left"
          },
          "hovermode": "closest",
          "mapbox": {
           "style": "light"
          },
          "paper_bgcolor": "white",
          "plot_bgcolor": "#E5ECF6",
          "polar": {
           "angularaxis": {
            "gridcolor": "white",
            "linecolor": "white",
            "ticks": ""
           },
           "bgcolor": "#E5ECF6",
           "radialaxis": {
            "gridcolor": "white",
            "linecolor": "white",
            "ticks": ""
           }
          },
          "scene": {
           "xaxis": {
            "backgroundcolor": "#E5ECF6",
            "gridcolor": "white",
            "gridwidth": 2,
            "linecolor": "white",
            "showbackground": true,
            "ticks": "",
            "zerolinecolor": "white"
           },
           "yaxis": {
            "backgroundcolor": "#E5ECF6",
            "gridcolor": "white",
            "gridwidth": 2,
            "linecolor": "white",
            "showbackground": true,
            "ticks": "",
            "zerolinecolor": "white"
           },
           "zaxis": {
            "backgroundcolor": "#E5ECF6",
            "gridcolor": "white",
            "gridwidth": 2,
            "linecolor": "white",
            "showbackground": true,
            "ticks": "",
            "zerolinecolor": "white"
           }
          },
          "shapedefaults": {
           "line": {
            "color": "#2a3f5f"
           }
          },
          "ternary": {
           "aaxis": {
            "gridcolor": "white",
            "linecolor": "white",
            "ticks": ""
           },
           "baxis": {
            "gridcolor": "white",
            "linecolor": "white",
            "ticks": ""
           },
           "bgcolor": "#E5ECF6",
           "caxis": {
            "gridcolor": "white",
            "linecolor": "white",
            "ticks": ""
           }
          },
          "title": {
           "x": 0.05
          },
          "xaxis": {
           "automargin": true,
           "gridcolor": "white",
           "linecolor": "white",
           "ticks": "",
           "title": {
            "standoff": 15
           },
           "zerolinecolor": "white",
           "zerolinewidth": 2
          },
          "yaxis": {
           "automargin": true,
           "gridcolor": "white",
           "linecolor": "white",
           "ticks": "",
           "title": {
            "standoff": 15
           },
           "zerolinecolor": "white",
           "zerolinewidth": 2
          }
         }
        }
       }
      }
     },
     "metadata": {},
     "output_type": "display_data"
    }
   ],
   "source": [
    "from graphenestudio.quench import quench_particles\n",
    "import plotly.graph_objects as go\n",
    "\n",
    "r_quenched = quench_particles(r, cell, pot, dpot)\n",
    "x_quenched = r_quenched @ cell\n",
    "\n",
    "\n",
    "# mode='makers'を指定しないと点の間に線が引かれる\n",
    "fig = go.Figure(\n",
    "    data=[\n",
    "        # go.Scatter3d(\n",
    "        #     x=x[:, 0],\n",
    "        #     y=x[:, 1],\n",
    "        #     z=x[:, 2],\n",
    "        #     mode=\"markers\",\n",
    "        #     marker=dict(\n",
    "        #         size=6,\n",
    "        #         # color=point_sum,\n",
    "        #         colorscale=\"Viridis\",\n",
    "        #         # symbol=result_symbol\n",
    "        #     ),\n",
    "        # ),\n",
    "        go.Scatter3d(\n",
    "            x=x_quenched[:, 0],\n",
    "            y=x_quenched[:, 1],\n",
    "            z=x_quenched[:, 2],\n",
    "            mode=\"markers\",\n",
    "            marker=dict(\n",
    "                size=5,\n",
    "                # color=point_sum,\n",
    "                colorscale=\"Viridis\",\n",
    "                # symbol=result_symbol\n",
    "            ),\n",
    "        ),\n",
    "    ]\n",
    ")\n",
    "fig.show()"
   ]
  },
  {
   "cell_type": "markdown",
   "metadata": {},
   "source": [
    "### 2.2\n",
    "\n",
    "Quench した構造に有限温度を与えてすこし原子が動けるようにし、100 ステップの疑似分子動力学法を実施する。これにより、より歪みが少ない形状にたどりつけるはず。\n",
    "\n",
    "斥力粒子を均質に配置して三角格子をつくったら、三角格子の重心同士を連結して、双対グラフを生成する。これがグラフェンの構造となる。一連の処理は graphenate 関数の内部で行われる。\n",
    "\n",
    "できた構造を x, y, z 方向に 2 倍して 2x2x2 の構造を作り、さらにセルを z 方向に 2 倍する。\n",
    "\n",
    "結果を以下のファイルに書きだす。\n",
    "\n",
    "1. `.gro` 原子の位置\n",
    "2. `.top` 結合\n",
    "3. `.yap` 構造の preview\n"
   ]
  },
  {
   "cell_type": "code",
   "execution_count": 3,
   "metadata": {},
   "outputs": [
    {
     "name": "stderr",
     "output_type": "stream",
     "text": [
      "/Users/matto/Library/Caches/pypoetry/virtualenvs/graphene-studio-LdnOtBEG-py3.11/lib/python3.11/site-packages/scipy/optimize/_optimize.py:1658: OptimizeWarning:\n",
      "\n",
      "Desired error not necessarily achieved due to precision loss.\n",
      "\n",
      "INFO:root:[176, 24, 9, 3] 3-6 cycles in the packing\n",
      "INFO:root:Tempering\n"
     ]
    },
    {
     "name": "stdout",
     "output_type": "stream",
     "text": [
      "         Current function value: 6878.160034\n",
      "         Iterations: 131\n",
      "         Function evaluations: 361\n",
      "         Gradient evaluations: 350\n"
     ]
    },
    {
     "name": "stderr",
     "output_type": "stream",
     "text": [
      "INFO:root:[179, 24, 8, 3] 3-6 cycles in the packing\n",
      "INFO:root:[190, 23, 5, 3] 3-6 cycles in the packing\n",
      "INFO:root:[189, 24, 5, 4] 3-6 cycles in the packing\n",
      "INFO:root:[187, 25, 5, 4] 3-6 cycles in the packing\n",
      "INFO:root:[187, 25, 5, 4] 3-6 cycles in the packing\n",
      "INFO:root:[188, 26, 4, 4] 3-6 cycles in the packing\n",
      "INFO:root:[188, 26, 4, 4] 3-6 cycles in the packing\n",
      "INFO:root:[192, 24, 4, 4] 3-6 cycles in the packing\n",
      "INFO:root:[194, 23, 4, 4] 3-6 cycles in the packing\n",
      "INFO:root:[198, 21, 4, 4] 3-6 cycles in the packing\n",
      "INFO:root:[196, 22, 4, 4] 3-6 cycles in the packing\n",
      "INFO:root:[200, 20, 4, 4] 3-6 cycles in the packing\n",
      "INFO:root:[202, 19, 4, 4] 3-6 cycles in the packing\n",
      "INFO:root:[208, 16, 4, 4] 3-6 cycles in the packing\n",
      "INFO:root:[209, 16, 5, 3] 3-6 cycles in the packing\n",
      "INFO:root:[209, 16, 5, 3] 3-6 cycles in the packing\n",
      "INFO:root:[209, 16, 5, 3] 3-6 cycles in the packing\n",
      "INFO:root:[211, 15, 5, 3] 3-6 cycles in the packing\n",
      "INFO:root:[213, 14, 5, 3] 3-6 cycles in the packing\n",
      "INFO:root:[211, 15, 5, 3] 3-6 cycles in the packing\n",
      "INFO:root:[211, 15, 5, 3] 3-6 cycles in the packing\n",
      "INFO:root:[211, 15, 5, 3] 3-6 cycles in the packing\n",
      "INFO:root:[213, 14, 5, 3] 3-6 cycles in the packing\n",
      "INFO:root:[216, 14, 4, 3] 3-6 cycles in the packing\n",
      "INFO:root:[216, 14, 4, 3] 3-6 cycles in the packing\n",
      "INFO:root:[217, 14, 5, 2] 3-6 cycles in the packing\n",
      "INFO:root:[147, 35, 13, 3] 3-6 cycles in the packing\n",
      "INFO:root:[148, 36, 12, 3] 3-6 cycles in the packing\n",
      "INFO:root:[151, 36, 11, 3] 3-6 cycles in the packing\n",
      "INFO:root:[163, 33, 9, 3] 3-6 cycles in the packing\n",
      "INFO:root:[165, 32, 9, 3] 3-6 cycles in the packing\n",
      "INFO:root:[163, 33, 9, 3] 3-6 cycles in the packing\n",
      "INFO:root:[163, 33, 9, 3] 3-6 cycles in the packing\n",
      "INFO:root:[165, 32, 9, 3] 3-6 cycles in the packing\n",
      "INFO:root:[165, 32, 9, 3] 3-6 cycles in the packing\n",
      "INFO:root:[165, 32, 9, 3] 3-6 cycles in the packing\n",
      "INFO:root:[165, 32, 9, 3] 3-6 cycles in the packing\n",
      "INFO:root:[165, 32, 9, 3] 3-6 cycles in the packing\n",
      "INFO:root:[161, 34, 9, 3] 3-6 cycles in the packing\n",
      "INFO:root:[161, 34, 9, 3] 3-6 cycles in the packing\n",
      "INFO:root:[164, 34, 8, 3] 3-6 cycles in the packing\n",
      "INFO:root:[164, 34, 8, 3] 3-6 cycles in the packing\n",
      "INFO:root:[232, 9, 6, 0] 3-6 cycles in the packing\n",
      "INFO:root:[232, 9, 6, 0] 3-6 cycles in the packing\n",
      "INFO:root:[234, 8, 6, 0] 3-6 cycles in the packing\n",
      "INFO:root:[234, 8, 6, 0] 3-6 cycles in the packing\n",
      "INFO:root:[234, 8, 6, 0] 3-6 cycles in the packing\n",
      "INFO:root:[234, 8, 6, 0] 3-6 cycles in the packing\n",
      "INFO:root:[232, 9, 6, 0] 3-6 cycles in the packing\n",
      "INFO:root:[232, 9, 6, 0] 3-6 cycles in the packing\n",
      "INFO:root:[234, 8, 6, 0] 3-6 cycles in the packing\n",
      "INFO:root:[234, 8, 6, 0] 3-6 cycles in the packing\n",
      "INFO:root:[233, 7, 7, 0] 3-6 cycles in the packing\n",
      "INFO:root:[235, 6, 7, 0] 3-6 cycles in the packing\n",
      "INFO:root:[235, 6, 7, 0] 3-6 cycles in the packing\n",
      "INFO:root:[235, 6, 7, 0] 3-6 cycles in the packing\n",
      "INFO:root:[235, 6, 7, 0] 3-6 cycles in the packing\n",
      "INFO:root:[235, 6, 7, 0] 3-6 cycles in the packing\n",
      "INFO:root:[235, 6, 7, 0] 3-6 cycles in the packing\n",
      "INFO:root:[231, 8, 7, 0] 3-6 cycles in the packing\n",
      "INFO:root:[231, 8, 7, 0] 3-6 cycles in the packing\n",
      "INFO:root:[231, 8, 7, 0] 3-6 cycles in the packing\n",
      "INFO:root:[234, 8, 6, 0] 3-6 cycles in the packing\n",
      "INFO:root:[238, 6, 6, 0] 3-6 cycles in the packing\n",
      "INFO:root:[240, 5, 6, 0] 3-6 cycles in the packing\n",
      "INFO:root:[240, 5, 6, 0] 3-6 cycles in the packing\n",
      "INFO:root:[242, 4, 6, 0] 3-6 cycles in the packing\n",
      "INFO:root:[245, 4, 5, 0] 3-6 cycles in the packing\n",
      "INFO:root:[245, 4, 5, 0] 3-6 cycles in the packing\n",
      "INFO:root:[245, 4, 5, 0] 3-6 cycles in the packing\n",
      "INFO:root:[245, 4, 5, 0] 3-6 cycles in the packing\n",
      "INFO:root:[245, 4, 5, 0] 3-6 cycles in the packing\n",
      "INFO:root:[245, 4, 5, 0] 3-6 cycles in the packing\n",
      "INFO:root:[245, 4, 5, 0] 3-6 cycles in the packing\n",
      "INFO:root:[248, 4, 4, 0] 3-6 cycles in the packing\n",
      "INFO:root:[249, 5, 3, 0] 3-6 cycles in the packing\n",
      "INFO:root:[249, 5, 3, 0] 3-6 cycles in the packing\n",
      "INFO:root:[247, 6, 3, 0] 3-6 cycles in the packing\n",
      "INFO:root:[247, 6, 3, 0] 3-6 cycles in the packing\n",
      "INFO:root:[249, 5, 3, 0] 3-6 cycles in the packing\n",
      "INFO:root:[170, 34, 10, 0] 3-6 cycles in the packing\n",
      "INFO:root:[172, 33, 10, 0] 3-6 cycles in the packing\n",
      "INFO:root:[172, 33, 10, 0] 3-6 cycles in the packing\n",
      "INFO:root:[172, 33, 10, 0] 3-6 cycles in the packing\n",
      "INFO:root:[170, 34, 10, 0] 3-6 cycles in the packing\n",
      "INFO:root:[170, 34, 10, 0] 3-6 cycles in the packing\n",
      "INFO:root:[173, 34, 9, 0] 3-6 cycles in the packing\n",
      "INFO:root:[175, 33, 9, 0] 3-6 cycles in the packing\n",
      "INFO:root:[177, 32, 9, 0] 3-6 cycles in the packing\n",
      "INFO:root:[178, 33, 8, 0] 3-6 cycles in the packing\n",
      "INFO:root:[180, 32, 8, 0] 3-6 cycles in the packing\n",
      "INFO:root:[180, 32, 8, 0] 3-6 cycles in the packing\n",
      "INFO:root:[180, 32, 8, 0] 3-6 cycles in the packing\n",
      "INFO:root:[180, 32, 8, 0] 3-6 cycles in the packing\n",
      "INFO:root:[180, 32, 8, 0] 3-6 cycles in the packing\n",
      "INFO:root:[182, 31, 8, 0] 3-6 cycles in the packing\n",
      "INFO:root:[182, 31, 8, 0] 3-6 cycles in the packing\n",
      "INFO:root:[185, 31, 7, 0] 3-6 cycles in the packing\n",
      "INFO:root:[189, 29, 7, 0] 3-6 cycles in the packing\n",
      "INFO:root:[189, 29, 7, 0] 3-6 cycles in the packing\n",
      "INFO:root:[189, 29, 7, 0] 3-6 cycles in the packing\n",
      "INFO:root:[189, 29, 7, 0] 3-6 cycles in the packing\n",
      "INFO:root:[257, 4, 1, 0] 3-6 cycles in the packing\n",
      "INFO:root:[255, 5, 1, 0] 3-6 cycles in the packing\n",
      "INFO:root:[253, 6, 1, 0] 3-6 cycles in the packing\n",
      "INFO:root:[253, 6, 1, 0] 3-6 cycles in the packing\n",
      "INFO:root:[251, 7, 1, 0] 3-6 cycles in the packing\n",
      "INFO:root:[251, 7, 1, 0] 3-6 cycles in the packing\n",
      "INFO:root:[251, 7, 1, 0] 3-6 cycles in the packing\n",
      "INFO:root:[253, 6, 1, 0] 3-6 cycles in the packing\n",
      "INFO:root:[255, 5, 1, 0] 3-6 cycles in the packing\n",
      "INFO:root:[255, 5, 1, 0] 3-6 cycles in the packing\n",
      "INFO:root:[255, 5, 1, 0] 3-6 cycles in the packing\n",
      "INFO:root:[255, 5, 1, 0] 3-6 cycles in the packing\n",
      "INFO:root:[255, 5, 1, 0] 3-6 cycles in the packing\n",
      "INFO:root:[255, 5, 1, 0] 3-6 cycles in the packing\n",
      "INFO:root:[255, 5, 1, 0] 3-6 cycles in the packing\n",
      "INFO:root:[257, 4, 1, 0] 3-6 cycles in the packing\n",
      "INFO:root:[257, 4, 1, 0] 3-6 cycles in the packing\n",
      "INFO:root:[257, 4, 1, 0] 3-6 cycles in the packing\n",
      "INFO:root:[257, 4, 1, 0] 3-6 cycles in the packing\n",
      "INFO:root:[257, 4, 1, 0] 3-6 cycles in the packing\n",
      "INFO:root:[261, 2, 1, 0] 3-6 cycles in the packing\n",
      "INFO:root:[261, 2, 1, 0] 3-6 cycles in the packing\n",
      "INFO:root:[261, 2, 1, 0] 3-6 cycles in the packing\n",
      "INFO:root:[261, 2, 1, 0] 3-6 cycles in the packing\n",
      "INFO:root:[261, 2, 1, 0] 3-6 cycles in the packing\n",
      "INFO:root:[261, 2, 1, 0] 3-6 cycles in the packing\n",
      "INFO:root:[263, 1, 1, 0] 3-6 cycles in the packing\n",
      "INFO:root:[192, 35, 2, 0] 3-6 cycles in the packing\n",
      "INFO:root:[194, 34, 2, 0] 3-6 cycles in the packing\n",
      "INFO:root:[198, 32, 2, 0] 3-6 cycles in the packing\n",
      "INFO:root:[202, 30, 2, 0] 3-6 cycles in the packing\n",
      "INFO:root:[206, 28, 2, 0] 3-6 cycles in the packing\n",
      "INFO:root:[206, 28, 2, 0] 3-6 cycles in the packing\n",
      "INFO:root:[206, 28, 2, 0] 3-6 cycles in the packing\n",
      "INFO:root:[208, 27, 2, 0] 3-6 cycles in the packing\n",
      "INFO:root:[206, 28, 2, 0] 3-6 cycles in the packing\n",
      "INFO:root:[206, 28, 2, 0] 3-6 cycles in the packing\n",
      "INFO:root:[206, 28, 2, 0] 3-6 cycles in the packing\n",
      "INFO:root:[204, 29, 2, 0] 3-6 cycles in the packing\n",
      "INFO:root:[204, 29, 2, 0] 3-6 cycles in the packing\n",
      "INFO:root:[206, 28, 2, 0] 3-6 cycles in the packing\n",
      "INFO:root:[208, 27, 2, 0] 3-6 cycles in the packing\n",
      "INFO:root:[210, 26, 2, 0] 3-6 cycles in the packing\n",
      "INFO:root:[209, 28, 1, 0] 3-6 cycles in the packing\n",
      "INFO:root:[207, 29, 1, 0] 3-6 cycles in the packing\n",
      "INFO:root:[207, 29, 1, 0] 3-6 cycles in the packing\n",
      "INFO:root:[211, 27, 1, 0] 3-6 cycles in the packing\n",
      "INFO:root:[211, 27, 1, 0] 3-6 cycles in the packing\n",
      "INFO:root:[211, 27, 1, 0] 3-6 cycles in the packing\n",
      "INFO:root:[211, 27, 1, 0] 3-6 cycles in the packing\n",
      "INFO:root:[209, 28, 1, 0] 3-6 cycles in the packing\n",
      "INFO:root:[207, 29, 1, 0] 3-6 cycles in the packing\n",
      "INFO:root:[207, 29, 1, 0] 3-6 cycles in the packing\n",
      "INFO:root:[209, 28, 1, 0] 3-6 cycles in the packing\n",
      "INFO:root:[207, 29, 1, 0] 3-6 cycles in the packing\n",
      "INFO:root:[209, 28, 1, 0] 3-6 cycles in the packing\n",
      "INFO:root:[209, 28, 1, 0] 3-6 cycles in the packing\n",
      "INFO:root:[216, 26, 0, 0] 3-6 cycles in the packing\n"
     ]
    },
    {
     "name": "stdout",
     "output_type": "stream",
     "text": [
      "100\n"
     ]
    },
    {
     "name": "stderr",
     "output_type": "stream",
     "text": [
      "INFO:root:[0, 0, 80, 652, 248, 0] 3-8 cycles in the graph\n",
      "INFO:root:[216, 26, 0, 0] 3-6 cycles in the packing\n",
      "INFO:root:[0, 0, 88, 636, 256, 0] 3-8 cycles in the graph\n"
     ]
    },
    {
     "name": "stdout",
     "output_type": "stream",
     "text": [
      "99\n"
     ]
    },
    {
     "name": "stderr",
     "output_type": "stream",
     "text": [
      "INFO:root:[216, 26, 0, 0] 3-6 cycles in the packing\n",
      "INFO:root:[0, 0, 88, 636, 256, 0] 3-8 cycles in the graph\n"
     ]
    },
    {
     "name": "stdout",
     "output_type": "stream",
     "text": [
      "98\n"
     ]
    },
    {
     "name": "stderr",
     "output_type": "stream",
     "text": [
      "INFO:root:[216, 26, 0, 0] 3-6 cycles in the packing\n",
      "INFO:root:[0, 0, 88, 636, 256, 0] 3-8 cycles in the graph\n"
     ]
    },
    {
     "name": "stdout",
     "output_type": "stream",
     "text": [
      "97\n"
     ]
    },
    {
     "name": "stderr",
     "output_type": "stream",
     "text": [
      "INFO:root:[216, 26, 0, 0] 3-6 cycles in the packing\n"
     ]
    },
    {
     "name": "stdout",
     "output_type": "stream",
     "text": [
      "96\n"
     ]
    },
    {
     "name": "stderr",
     "output_type": "stream",
     "text": [
      "INFO:root:[0, 0, 88, 636, 256, 0] 3-8 cycles in the graph\n",
      "INFO:root:[216, 26, 0, 0] 3-6 cycles in the packing\n",
      "INFO:root:[0, 0, 80, 652, 248, 0] 3-8 cycles in the graph\n"
     ]
    },
    {
     "name": "stdout",
     "output_type": "stream",
     "text": [
      "95\n"
     ]
    },
    {
     "name": "stderr",
     "output_type": "stream",
     "text": [
      "INFO:root:[216, 26, 0, 0] 3-6 cycles in the packing\n",
      "INFO:root:[0, 0, 80, 652, 248, 0] 3-8 cycles in the graph\n"
     ]
    },
    {
     "name": "stdout",
     "output_type": "stream",
     "text": [
      "94\n"
     ]
    },
    {
     "name": "stderr",
     "output_type": "stream",
     "text": [
      "INFO:root:[216, 26, 0, 0] 3-6 cycles in the packing\n",
      "INFO:root:[0, 0, 84, 636, 256, 0] 3-8 cycles in the graph\n"
     ]
    },
    {
     "name": "stdout",
     "output_type": "stream",
     "text": [
      "93\n"
     ]
    },
    {
     "name": "stderr",
     "output_type": "stream",
     "text": [
      "INFO:root:[218, 25, 0, 0] 3-6 cycles in the packing\n",
      "INFO:root:[0, 0, 84, 636, 256, 0] 3-8 cycles in the graph\n"
     ]
    },
    {
     "name": "stdout",
     "output_type": "stream",
     "text": [
      "92\n"
     ]
    },
    {
     "name": "stderr",
     "output_type": "stream",
     "text": [
      "INFO:root:[218, 25, 0, 0] 3-6 cycles in the packing\n",
      "INFO:root:[0, 0, 68, 668, 240, 0] 3-8 cycles in the graph\n"
     ]
    },
    {
     "name": "stdout",
     "output_type": "stream",
     "text": [
      "91\n"
     ]
    },
    {
     "name": "stderr",
     "output_type": "stream",
     "text": [
      "INFO:root:[218, 25, 0, 0] 3-6 cycles in the packing\n",
      "INFO:root:[0, 0, 60, 684, 232, 0] 3-8 cycles in the graph\n"
     ]
    },
    {
     "name": "stdout",
     "output_type": "stream",
     "text": [
      "90\n"
     ]
    },
    {
     "name": "stderr",
     "output_type": "stream",
     "text": [
      "INFO:root:[220, 24, 0, 0] 3-6 cycles in the packing\n"
     ]
    },
    {
     "name": "stdout",
     "output_type": "stream",
     "text": [
      "89\n"
     ]
    },
    {
     "name": "stderr",
     "output_type": "stream",
     "text": [
      "INFO:root:[0, 0, 60, 684, 232, 0] 3-8 cycles in the graph\n",
      "INFO:root:[220, 24, 0, 0] 3-6 cycles in the packing\n",
      "INFO:root:[0, 0, 60, 684, 232, 0] 3-8 cycles in the graph\n"
     ]
    },
    {
     "name": "stdout",
     "output_type": "stream",
     "text": [
      "88\n"
     ]
    },
    {
     "name": "stderr",
     "output_type": "stream",
     "text": [
      "INFO:root:[220, 24, 0, 0] 3-6 cycles in the packing\n"
     ]
    },
    {
     "name": "stdout",
     "output_type": "stream",
     "text": [
      "87\n"
     ]
    },
    {
     "name": "stderr",
     "output_type": "stream",
     "text": [
      "INFO:root:[0, 0, 60, 684, 232, 0] 3-8 cycles in the graph\n",
      "INFO:root:[220, 24, 0, 0] 3-6 cycles in the packing\n",
      "INFO:root:[0, 0, 60, 684, 232, 0] 3-8 cycles in the graph\n"
     ]
    },
    {
     "name": "stdout",
     "output_type": "stream",
     "text": [
      "86\n"
     ]
    },
    {
     "name": "stderr",
     "output_type": "stream",
     "text": [
      "INFO:root:[220, 24, 0, 0] 3-6 cycles in the packing\n",
      "INFO:root:[0, 0, 60, 684, 232, 0] 3-8 cycles in the graph\n"
     ]
    },
    {
     "name": "stdout",
     "output_type": "stream",
     "text": [
      "85\n"
     ]
    },
    {
     "name": "stderr",
     "output_type": "stream",
     "text": [
      "INFO:root:[220, 24, 0, 0] 3-6 cycles in the packing\n",
      "INFO:root:[0, 0, 60, 684, 232, 0] 3-8 cycles in the graph\n"
     ]
    },
    {
     "name": "stdout",
     "output_type": "stream",
     "text": [
      "84\n"
     ]
    },
    {
     "name": "stderr",
     "output_type": "stream",
     "text": [
      "INFO:root:[224, 22, 0, 0] 3-6 cycles in the packing\n"
     ]
    },
    {
     "name": "stdout",
     "output_type": "stream",
     "text": [
      "83\n"
     ]
    },
    {
     "name": "stderr",
     "output_type": "stream",
     "text": [
      "INFO:root:[0, 0, 68, 680, 228, 4] 3-8 cycles in the graph\n",
      "INFO:root:[220, 24, 0, 0] 3-6 cycles in the packing\n"
     ]
    },
    {
     "name": "stdout",
     "output_type": "stream",
     "text": [
      "82\n"
     ]
    },
    {
     "name": "stderr",
     "output_type": "stream",
     "text": [
      "INFO:root:[0, 0, 68, 680, 228, 4] 3-8 cycles in the graph\n",
      "INFO:root:[218, 25, 0, 0] 3-6 cycles in the packing\n",
      "INFO:root:[0, 0, 76, 672, 232, 4] 3-8 cycles in the graph\n"
     ]
    },
    {
     "name": "stdout",
     "output_type": "stream",
     "text": [
      "81\n"
     ]
    },
    {
     "name": "stderr",
     "output_type": "stream",
     "text": [
      "INFO:root:[220, 24, 0, 0] 3-6 cycles in the packing\n"
     ]
    },
    {
     "name": "stdout",
     "output_type": "stream",
     "text": [
      "80\n"
     ]
    },
    {
     "name": "stderr",
     "output_type": "stream",
     "text": [
      "INFO:root:[0, 0, 76, 672, 232, 4] 3-8 cycles in the graph\n",
      "INFO:root:[220, 24, 0, 0] 3-6 cycles in the packing\n"
     ]
    },
    {
     "name": "stdout",
     "output_type": "stream",
     "text": [
      "79\n"
     ]
    },
    {
     "name": "stderr",
     "output_type": "stream",
     "text": [
      "INFO:root:[0, 0, 84, 656, 240, 4] 3-8 cycles in the graph\n",
      "INFO:root:[222, 23, 0, 0] 3-6 cycles in the packing\n"
     ]
    },
    {
     "name": "stdout",
     "output_type": "stream",
     "text": [
      "78\n"
     ]
    },
    {
     "name": "stderr",
     "output_type": "stream",
     "text": [
      "INFO:root:[0, 0, 76, 672, 232, 4] 3-8 cycles in the graph\n",
      "INFO:root:[222, 23, 0, 0] 3-6 cycles in the packing\n"
     ]
    },
    {
     "name": "stdout",
     "output_type": "stream",
     "text": [
      "77\n"
     ]
    },
    {
     "name": "stderr",
     "output_type": "stream",
     "text": [
      "INFO:root:[0, 0, 76, 672, 232, 4] 3-8 cycles in the graph\n",
      "INFO:root:[222, 23, 0, 0] 3-6 cycles in the packing\n"
     ]
    },
    {
     "name": "stdout",
     "output_type": "stream",
     "text": [
      "76\n"
     ]
    },
    {
     "name": "stderr",
     "output_type": "stream",
     "text": [
      "INFO:root:[0, 0, 76, 672, 232, 4] 3-8 cycles in the graph\n",
      "INFO:root:[220, 24, 0, 0] 3-6 cycles in the packing\n"
     ]
    },
    {
     "name": "stdout",
     "output_type": "stream",
     "text": [
      "75\n"
     ]
    },
    {
     "name": "stderr",
     "output_type": "stream",
     "text": [
      "INFO:root:[0, 0, 76, 672, 232, 4] 3-8 cycles in the graph\n",
      "INFO:root:[220, 24, 0, 0] 3-6 cycles in the packing\n"
     ]
    },
    {
     "name": "stdout",
     "output_type": "stream",
     "text": [
      "74\n"
     ]
    },
    {
     "name": "stderr",
     "output_type": "stream",
     "text": [
      "INFO:root:[0, 0, 76, 672, 232, 4] 3-8 cycles in the graph\n",
      "INFO:root:[220, 24, 0, 0] 3-6 cycles in the packing\n",
      "INFO:root:[0, 0, 68, 684, 228, 4] 3-8 cycles in the graph\n"
     ]
    },
    {
     "name": "stdout",
     "output_type": "stream",
     "text": [
      "73\n"
     ]
    },
    {
     "name": "stderr",
     "output_type": "stream",
     "text": [
      "INFO:root:[222, 23, 0, 0] 3-6 cycles in the packing\n"
     ]
    },
    {
     "name": "stdout",
     "output_type": "stream",
     "text": [
      "72\n"
     ]
    },
    {
     "name": "stderr",
     "output_type": "stream",
     "text": [
      "INFO:root:[0, 0, 68, 684, 228, 4] 3-8 cycles in the graph\n",
      "INFO:root:[222, 23, 0, 0] 3-6 cycles in the packing\n"
     ]
    },
    {
     "name": "stdout",
     "output_type": "stream",
     "text": [
      "71\n"
     ]
    },
    {
     "name": "stderr",
     "output_type": "stream",
     "text": [
      "INFO:root:[0, 0, 68, 684, 228, 4] 3-8 cycles in the graph\n",
      "INFO:root:[220, 24, 0, 0] 3-6 cycles in the packing\n"
     ]
    },
    {
     "name": "stdout",
     "output_type": "stream",
     "text": [
      "70\n"
     ]
    },
    {
     "name": "stderr",
     "output_type": "stream",
     "text": [
      "INFO:root:[0, 0, 68, 684, 228, 4] 3-8 cycles in the graph\n",
      "INFO:root:[220, 24, 0, 0] 3-6 cycles in the packing\n"
     ]
    },
    {
     "name": "stdout",
     "output_type": "stream",
     "text": [
      "69\n"
     ]
    },
    {
     "name": "stderr",
     "output_type": "stream",
     "text": [
      "INFO:root:[0, 0, 68, 684, 228, 4] 3-8 cycles in the graph\n",
      "INFO:root:[218, 25, 0, 0] 3-6 cycles in the packing\n"
     ]
    },
    {
     "name": "stdout",
     "output_type": "stream",
     "text": [
      "68\n"
     ]
    },
    {
     "name": "stderr",
     "output_type": "stream",
     "text": [
      "INFO:root:[0, 0, 68, 684, 228, 4] 3-8 cycles in the graph\n",
      "INFO:root:[218, 25, 0, 0] 3-6 cycles in the packing\n",
      "INFO:root:[0, 0, 68, 684, 228, 4] 3-8 cycles in the graph\n"
     ]
    },
    {
     "name": "stdout",
     "output_type": "stream",
     "text": [
      "67\n"
     ]
    },
    {
     "name": "stderr",
     "output_type": "stream",
     "text": [
      "INFO:root:[220, 24, 0, 0] 3-6 cycles in the packing\n"
     ]
    },
    {
     "name": "stdout",
     "output_type": "stream",
     "text": [
      "66\n"
     ]
    },
    {
     "name": "stderr",
     "output_type": "stream",
     "text": [
      "INFO:root:[0, 0, 68, 684, 228, 4] 3-8 cycles in the graph\n",
      "INFO:root:[222, 23, 0, 0] 3-6 cycles in the packing\n"
     ]
    },
    {
     "name": "stdout",
     "output_type": "stream",
     "text": [
      "65\n"
     ]
    },
    {
     "name": "stderr",
     "output_type": "stream",
     "text": [
      "INFO:root:[0, 0, 68, 684, 228, 4] 3-8 cycles in the graph\n",
      "INFO:root:[222, 23, 0, 0] 3-6 cycles in the packing\n",
      "INFO:root:[0, 0, 68, 684, 228, 4] 3-8 cycles in the graph\n"
     ]
    },
    {
     "name": "stdout",
     "output_type": "stream",
     "text": [
      "64\n"
     ]
    },
    {
     "name": "stderr",
     "output_type": "stream",
     "text": [
      "INFO:root:[222, 23, 0, 0] 3-6 cycles in the packing\n",
      "INFO:root:[0, 0, 68, 684, 228, 4] 3-8 cycles in the graph\n"
     ]
    },
    {
     "name": "stdout",
     "output_type": "stream",
     "text": [
      "63\n"
     ]
    },
    {
     "name": "stderr",
     "output_type": "stream",
     "text": [
      "INFO:root:[222, 23, 0, 0] 3-6 cycles in the packing\n",
      "INFO:root:[0, 0, 68, 684, 228, 4] 3-8 cycles in the graph\n"
     ]
    },
    {
     "name": "stdout",
     "output_type": "stream",
     "text": [
      "62\n"
     ]
    },
    {
     "name": "stderr",
     "output_type": "stream",
     "text": [
      "INFO:root:[222, 23, 0, 0] 3-6 cycles in the packing\n",
      "INFO:root:[0, 0, 68, 688, 224, 4] 3-8 cycles in the graph\n"
     ]
    },
    {
     "name": "stdout",
     "output_type": "stream",
     "text": [
      "61\n"
     ]
    },
    {
     "name": "stderr",
     "output_type": "stream",
     "text": [
      "INFO:root:[224, 22, 0, 0] 3-6 cycles in the packing\n",
      "INFO:root:[0, 0, 68, 688, 224, 4] 3-8 cycles in the graph\n"
     ]
    },
    {
     "name": "stdout",
     "output_type": "stream",
     "text": [
      "60\n"
     ]
    },
    {
     "name": "stderr",
     "output_type": "stream",
     "text": [
      "INFO:root:[224, 22, 0, 0] 3-6 cycles in the packing\n"
     ]
    },
    {
     "name": "stdout",
     "output_type": "stream",
     "text": [
      "59\n"
     ]
    },
    {
     "name": "stderr",
     "output_type": "stream",
     "text": [
      "INFO:root:[0, 0, 68, 688, 224, 4] 3-8 cycles in the graph\n",
      "INFO:root:[222, 23, 0, 0] 3-6 cycles in the packing\n",
      "INFO:root:[0, 0, 68, 688, 224, 4] 3-8 cycles in the graph\n"
     ]
    },
    {
     "name": "stdout",
     "output_type": "stream",
     "text": [
      "58\n"
     ]
    },
    {
     "name": "stderr",
     "output_type": "stream",
     "text": [
      "INFO:root:[222, 23, 0, 0] 3-6 cycles in the packing\n",
      "INFO:root:[0, 0, 68, 688, 224, 4] 3-8 cycles in the graph\n"
     ]
    },
    {
     "name": "stdout",
     "output_type": "stream",
     "text": [
      "57\n"
     ]
    },
    {
     "name": "stderr",
     "output_type": "stream",
     "text": [
      "INFO:root:[224, 22, 0, 0] 3-6 cycles in the packing\n",
      "INFO:root:[0, 0, 68, 688, 224, 4] 3-8 cycles in the graph\n"
     ]
    },
    {
     "name": "stdout",
     "output_type": "stream",
     "text": [
      "56\n"
     ]
    },
    {
     "name": "stderr",
     "output_type": "stream",
     "text": [
      "INFO:root:[224, 22, 0, 0] 3-6 cycles in the packing\n",
      "INFO:root:[0, 0, 68, 688, 224, 4] 3-8 cycles in the graph\n"
     ]
    },
    {
     "name": "stdout",
     "output_type": "stream",
     "text": [
      "55\n"
     ]
    },
    {
     "name": "stderr",
     "output_type": "stream",
     "text": [
      "INFO:root:[222, 23, 0, 0] 3-6 cycles in the packing\n"
     ]
    },
    {
     "name": "stdout",
     "output_type": "stream",
     "text": [
      "54\n"
     ]
    },
    {
     "name": "stderr",
     "output_type": "stream",
     "text": [
      "INFO:root:[0, 0, 68, 688, 224, 4] 3-8 cycles in the graph\n",
      "INFO:root:[222, 23, 0, 0] 3-6 cycles in the packing\n"
     ]
    },
    {
     "name": "stdout",
     "output_type": "stream",
     "text": [
      "53\n"
     ]
    },
    {
     "name": "stderr",
     "output_type": "stream",
     "text": [
      "INFO:root:[0, 0, 68, 688, 224, 4] 3-8 cycles in the graph\n",
      "INFO:root:[222, 23, 0, 0] 3-6 cycles in the packing\n",
      "INFO:root:[0, 0, 68, 688, 224, 4] 3-8 cycles in the graph\n"
     ]
    },
    {
     "name": "stdout",
     "output_type": "stream",
     "text": [
      "52\n"
     ]
    },
    {
     "name": "stderr",
     "output_type": "stream",
     "text": [
      "INFO:root:[222, 23, 0, 0] 3-6 cycles in the packing\n",
      "INFO:root:[0, 0, 68, 688, 224, 4] 3-8 cycles in the graph\n"
     ]
    },
    {
     "name": "stdout",
     "output_type": "stream",
     "text": [
      "51\n"
     ]
    },
    {
     "name": "stderr",
     "output_type": "stream",
     "text": [
      "INFO:root:[222, 23, 0, 0] 3-6 cycles in the packing\n"
     ]
    },
    {
     "name": "stdout",
     "output_type": "stream",
     "text": [
      "50\n"
     ]
    },
    {
     "name": "stderr",
     "output_type": "stream",
     "text": [
      "INFO:root:[0, 0, 68, 688, 224, 4] 3-8 cycles in the graph\n",
      "INFO:root:[222, 23, 0, 0] 3-6 cycles in the packing\n"
     ]
    },
    {
     "name": "stdout",
     "output_type": "stream",
     "text": [
      "49\n"
     ]
    },
    {
     "name": "stderr",
     "output_type": "stream",
     "text": [
      "INFO:root:[0, 0, 68, 688, 224, 4] 3-8 cycles in the graph\n",
      "INFO:root:[228, 20, 0, 0] 3-6 cycles in the packing\n"
     ]
    },
    {
     "name": "stdout",
     "output_type": "stream",
     "text": [
      "48\n"
     ]
    },
    {
     "name": "stderr",
     "output_type": "stream",
     "text": [
      "INFO:root:[0, 0, 68, 688, 224, 4] 3-8 cycles in the graph\n",
      "INFO:root:[228, 20, 0, 0] 3-6 cycles in the packing\n",
      "INFO:root:[0, 0, 68, 688, 224, 4] 3-8 cycles in the graph\n"
     ]
    },
    {
     "name": "stdout",
     "output_type": "stream",
     "text": [
      "47\n"
     ]
    },
    {
     "name": "stderr",
     "output_type": "stream",
     "text": [
      "INFO:root:[228, 20, 0, 0] 3-6 cycles in the packing\n"
     ]
    },
    {
     "name": "stdout",
     "output_type": "stream",
     "text": [
      "46\n"
     ]
    },
    {
     "name": "stderr",
     "output_type": "stream",
     "text": [
      "INFO:root:[0, 0, 68, 688, 224, 4] 3-8 cycles in the graph\n",
      "INFO:root:[228, 20, 0, 0] 3-6 cycles in the packing\n"
     ]
    },
    {
     "name": "stdout",
     "output_type": "stream",
     "text": [
      "45\n"
     ]
    },
    {
     "name": "stderr",
     "output_type": "stream",
     "text": [
      "INFO:root:[0, 0, 68, 688, 224, 4] 3-8 cycles in the graph\n",
      "INFO:root:[228, 20, 0, 0] 3-6 cycles in the packing\n",
      "INFO:root:[0, 0, 68, 688, 224, 4] 3-8 cycles in the graph\n"
     ]
    },
    {
     "name": "stdout",
     "output_type": "stream",
     "text": [
      "44\n"
     ]
    },
    {
     "name": "stderr",
     "output_type": "stream",
     "text": [
      "INFO:root:[228, 20, 0, 0] 3-6 cycles in the packing\n",
      "INFO:root:[0, 0, 68, 688, 224, 4] 3-8 cycles in the graph\n"
     ]
    },
    {
     "name": "stdout",
     "output_type": "stream",
     "text": [
      "43\n"
     ]
    },
    {
     "name": "stderr",
     "output_type": "stream",
     "text": [
      "INFO:root:[228, 20, 0, 0] 3-6 cycles in the packing\n"
     ]
    },
    {
     "name": "stdout",
     "output_type": "stream",
     "text": [
      "42\n"
     ]
    },
    {
     "name": "stderr",
     "output_type": "stream",
     "text": [
      "INFO:root:[0, 0, 68, 688, 224, 4] 3-8 cycles in the graph\n",
      "INFO:root:[226, 21, 0, 0] 3-6 cycles in the packing\n"
     ]
    },
    {
     "name": "stdout",
     "output_type": "stream",
     "text": [
      "41\n"
     ]
    },
    {
     "name": "stderr",
     "output_type": "stream",
     "text": [
      "INFO:root:[0, 0, 68, 688, 224, 4] 3-8 cycles in the graph\n",
      "INFO:root:[228, 20, 0, 0] 3-6 cycles in the packing\n",
      "INFO:root:[0, 0, 68, 688, 224, 4] 3-8 cycles in the graph\n"
     ]
    },
    {
     "name": "stdout",
     "output_type": "stream",
     "text": [
      "40\n"
     ]
    },
    {
     "name": "stderr",
     "output_type": "stream",
     "text": [
      "INFO:root:[222, 23, 0, 0] 3-6 cycles in the packing\n"
     ]
    },
    {
     "name": "stdout",
     "output_type": "stream",
     "text": [
      "39\n"
     ]
    },
    {
     "name": "stderr",
     "output_type": "stream",
     "text": [
      "INFO:root:[0, 0, 68, 688, 224, 4] 3-8 cycles in the graph\n",
      "INFO:root:[224, 22, 0, 0] 3-6 cycles in the packing\n"
     ]
    },
    {
     "name": "stdout",
     "output_type": "stream",
     "text": [
      "38\n"
     ]
    },
    {
     "name": "stderr",
     "output_type": "stream",
     "text": [
      "INFO:root:[0, 0, 68, 688, 224, 4] 3-8 cycles in the graph\n",
      "INFO:root:[224, 22, 0, 0] 3-6 cycles in the packing\n",
      "INFO:root:[0, 0, 68, 688, 224, 4] 3-8 cycles in the graph\n"
     ]
    },
    {
     "name": "stdout",
     "output_type": "stream",
     "text": [
      "37\n"
     ]
    },
    {
     "name": "stderr",
     "output_type": "stream",
     "text": [
      "INFO:root:[224, 22, 0, 0] 3-6 cycles in the packing\n"
     ]
    },
    {
     "name": "stdout",
     "output_type": "stream",
     "text": [
      "36\n"
     ]
    },
    {
     "name": "stderr",
     "output_type": "stream",
     "text": [
      "INFO:root:[0, 0, 76, 672, 232, 4] 3-8 cycles in the graph\n",
      "INFO:root:[224, 22, 0, 0] 3-6 cycles in the packing\n",
      "INFO:root:[0, 0, 76, 672, 232, 4] 3-8 cycles in the graph\n"
     ]
    },
    {
     "name": "stdout",
     "output_type": "stream",
     "text": [
      "35\n"
     ]
    },
    {
     "name": "stderr",
     "output_type": "stream",
     "text": [
      "INFO:root:[226, 21, 0, 0] 3-6 cycles in the packing\n",
      "INFO:root:[0, 0, 84, 656, 240, 4] 3-8 cycles in the graph\n"
     ]
    },
    {
     "name": "stdout",
     "output_type": "stream",
     "text": [
      "34\n"
     ]
    },
    {
     "name": "stderr",
     "output_type": "stream",
     "text": [
      "INFO:root:[226, 21, 0, 0] 3-6 cycles in the packing\n",
      "INFO:root:[0, 0, 76, 672, 232, 4] 3-8 cycles in the graph\n"
     ]
    },
    {
     "name": "stdout",
     "output_type": "stream",
     "text": [
      "33\n"
     ]
    },
    {
     "name": "stderr",
     "output_type": "stream",
     "text": [
      "INFO:root:[220, 24, 0, 0] 3-6 cycles in the packing\n",
      "INFO:root:[0, 0, 76, 672, 232, 4] 3-8 cycles in the graph\n"
     ]
    },
    {
     "name": "stdout",
     "output_type": "stream",
     "text": [
      "32\n"
     ]
    },
    {
     "name": "stderr",
     "output_type": "stream",
     "text": [
      "INFO:root:[220, 24, 0, 0] 3-6 cycles in the packing\n"
     ]
    },
    {
     "name": "stdout",
     "output_type": "stream",
     "text": [
      "31\n"
     ]
    },
    {
     "name": "stderr",
     "output_type": "stream",
     "text": [
      "INFO:root:[0, 0, 76, 672, 232, 4] 3-8 cycles in the graph\n",
      "INFO:root:[219, 23, 1, 0] 3-6 cycles in the packing\n",
      "INFO:root:[217, 24, 1, 0] 3-6 cycles in the packing\n",
      "INFO:root:[215, 25, 1, 0] 3-6 cycles in the packing\n",
      "INFO:root:[215, 25, 1, 0] 3-6 cycles in the packing\n",
      "INFO:root:[213, 26, 1, 0] 3-6 cycles in the packing\n",
      "INFO:root:[213, 26, 1, 0] 3-6 cycles in the packing\n",
      "INFO:root:[213, 26, 1, 0] 3-6 cycles in the packing\n",
      "INFO:root:[213, 26, 1, 0] 3-6 cycles in the packing\n",
      "INFO:root:[211, 27, 1, 0] 3-6 cycles in the packing\n",
      "INFO:root:[211, 27, 1, 0] 3-6 cycles in the packing\n",
      "INFO:root:[211, 27, 1, 0] 3-6 cycles in the packing\n",
      "INFO:root:[213, 26, 1, 0] 3-6 cycles in the packing\n",
      "INFO:root:[211, 27, 1, 0] 3-6 cycles in the packing\n",
      "INFO:root:[211, 27, 1, 0] 3-6 cycles in the packing\n",
      "INFO:root:[211, 27, 1, 0] 3-6 cycles in the packing\n",
      "INFO:root:[211, 27, 1, 0] 3-6 cycles in the packing\n",
      "INFO:root:[211, 27, 1, 0] 3-6 cycles in the packing\n",
      "INFO:root:[211, 27, 1, 0] 3-6 cycles in the packing\n",
      "INFO:root:[213, 26, 1, 0] 3-6 cycles in the packing\n",
      "INFO:root:[215, 25, 1, 0] 3-6 cycles in the packing\n",
      "INFO:root:[217, 24, 1, 0] 3-6 cycles in the packing\n",
      "INFO:root:[222, 23, 0, 0] 3-6 cycles in the packing\n"
     ]
    },
    {
     "name": "stdout",
     "output_type": "stream",
     "text": [
      "30\n"
     ]
    },
    {
     "name": "stderr",
     "output_type": "stream",
     "text": [
      "INFO:root:[0, 0, 60, 704, 216, 4] 3-8 cycles in the graph\n",
      "INFO:root:[224, 22, 0, 0] 3-6 cycles in the packing\n",
      "INFO:root:[0, 0, 60, 704, 216, 4] 3-8 cycles in the graph\n"
     ]
    },
    {
     "name": "stdout",
     "output_type": "stream",
     "text": [
      "29\n"
     ]
    },
    {
     "name": "stderr",
     "output_type": "stream",
     "text": [
      "INFO:root:[228, 20, 0, 0] 3-6 cycles in the packing\n"
     ]
    },
    {
     "name": "stdout",
     "output_type": "stream",
     "text": [
      "28\n"
     ]
    },
    {
     "name": "stderr",
     "output_type": "stream",
     "text": [
      "INFO:root:[0, 0, 60, 704, 216, 4] 3-8 cycles in the graph\n",
      "INFO:root:[230, 19, 0, 0] 3-6 cycles in the packing\n",
      "INFO:root:[0, 0, 60, 704, 216, 4] 3-8 cycles in the graph\n"
     ]
    },
    {
     "name": "stdout",
     "output_type": "stream",
     "text": [
      "27\n"
     ]
    },
    {
     "name": "stderr",
     "output_type": "stream",
     "text": [
      "INFO:root:[228, 20, 0, 0] 3-6 cycles in the packing\n"
     ]
    },
    {
     "name": "stdout",
     "output_type": "stream",
     "text": [
      "26\n"
     ]
    },
    {
     "name": "stderr",
     "output_type": "stream",
     "text": [
      "INFO:root:[0, 0, 60, 704, 216, 4] 3-8 cycles in the graph\n",
      "INFO:root:[228, 20, 0, 0] 3-6 cycles in the packing\n",
      "INFO:root:[0, 0, 60, 704, 216, 4] 3-8 cycles in the graph\n"
     ]
    },
    {
     "name": "stdout",
     "output_type": "stream",
     "text": [
      "25\n"
     ]
    },
    {
     "name": "stderr",
     "output_type": "stream",
     "text": [
      "INFO:root:[228, 20, 0, 0] 3-6 cycles in the packing\n"
     ]
    },
    {
     "name": "stdout",
     "output_type": "stream",
     "text": [
      "24\n"
     ]
    },
    {
     "name": "stderr",
     "output_type": "stream",
     "text": [
      "INFO:root:[0, 0, 60, 704, 216, 4] 3-8 cycles in the graph\n",
      "INFO:root:[226, 21, 0, 0] 3-6 cycles in the packing\n"
     ]
    },
    {
     "name": "stdout",
     "output_type": "stream",
     "text": [
      "23\n"
     ]
    },
    {
     "name": "stderr",
     "output_type": "stream",
     "text": [
      "INFO:root:[0, 0, 76, 680, 228, 4] 3-8 cycles in the graph\n",
      "INFO:root:[224, 22, 0, 0] 3-6 cycles in the packing\n"
     ]
    },
    {
     "name": "stdout",
     "output_type": "stream",
     "text": [
      "22\n"
     ]
    },
    {
     "name": "stderr",
     "output_type": "stream",
     "text": [
      "INFO:root:[0, 0, 76, 680, 228, 4] 3-8 cycles in the graph\n",
      "INFO:root:[224, 22, 0, 0] 3-6 cycles in the packing\n",
      "INFO:root:[0, 0, 60, 712, 212, 4] 3-8 cycles in the graph\n"
     ]
    },
    {
     "name": "stdout",
     "output_type": "stream",
     "text": [
      "21\n"
     ]
    },
    {
     "name": "stderr",
     "output_type": "stream",
     "text": [
      "INFO:root:[222, 23, 0, 0] 3-6 cycles in the packing\n"
     ]
    },
    {
     "name": "stdout",
     "output_type": "stream",
     "text": [
      "20\n"
     ]
    },
    {
     "name": "stderr",
     "output_type": "stream",
     "text": [
      "INFO:root:[0, 0, 60, 712, 212, 4] 3-8 cycles in the graph\n",
      "INFO:root:[218, 25, 0, 0] 3-6 cycles in the packing\n"
     ]
    },
    {
     "name": "stdout",
     "output_type": "stream",
     "text": [
      "19\n"
     ]
    },
    {
     "name": "stderr",
     "output_type": "stream",
     "text": [
      "INFO:root:[0, 0, 60, 712, 212, 4] 3-8 cycles in the graph\n",
      "INFO:root:[218, 25, 0, 0] 3-6 cycles in the packing\n",
      "INFO:root:[0, 0, 60, 712, 212, 4] 3-8 cycles in the graph\n"
     ]
    },
    {
     "name": "stdout",
     "output_type": "stream",
     "text": [
      "18\n"
     ]
    },
    {
     "name": "stderr",
     "output_type": "stream",
     "text": [
      "INFO:root:[218, 25, 0, 0] 3-6 cycles in the packing\n"
     ]
    },
    {
     "name": "stdout",
     "output_type": "stream",
     "text": [
      "17\n"
     ]
    },
    {
     "name": "stderr",
     "output_type": "stream",
     "text": [
      "INFO:root:[0, 0, 60, 712, 212, 4] 3-8 cycles in the graph\n",
      "INFO:root:[218, 25, 0, 0] 3-6 cycles in the packing\n"
     ]
    },
    {
     "name": "stdout",
     "output_type": "stream",
     "text": [
      "16\n"
     ]
    },
    {
     "name": "stderr",
     "output_type": "stream",
     "text": [
      "INFO:root:[0, 0, 64, 708, 212, 4] 3-8 cycles in the graph\n",
      "INFO:root:[220, 24, 0, 0] 3-6 cycles in the packing\n",
      "INFO:root:[0, 0, 64, 708, 212, 4] 3-8 cycles in the graph\n"
     ]
    },
    {
     "name": "stdout",
     "output_type": "stream",
     "text": [
      "15\n"
     ]
    },
    {
     "name": "stderr",
     "output_type": "stream",
     "text": [
      "INFO:root:[220, 24, 0, 0] 3-6 cycles in the packing\n",
      "INFO:root:[0, 0, 64, 708, 212, 4] 3-8 cycles in the graph\n"
     ]
    },
    {
     "name": "stdout",
     "output_type": "stream",
     "text": [
      "14\n"
     ]
    },
    {
     "name": "stderr",
     "output_type": "stream",
     "text": [
      "INFO:root:[220, 24, 0, 0] 3-6 cycles in the packing\n"
     ]
    },
    {
     "name": "stdout",
     "output_type": "stream",
     "text": [
      "13\n"
     ]
    },
    {
     "name": "stderr",
     "output_type": "stream",
     "text": [
      "INFO:root:[0, 0, 72, 696, 216, 4] 3-8 cycles in the graph\n",
      "INFO:root:[222, 23, 0, 0] 3-6 cycles in the packing\n"
     ]
    },
    {
     "name": "stdout",
     "output_type": "stream",
     "text": [
      "12\n"
     ]
    },
    {
     "name": "stderr",
     "output_type": "stream",
     "text": [
      "INFO:root:[0, 0, 72, 692, 220, 4] 3-8 cycles in the graph\n",
      "INFO:root:[220, 24, 0, 0] 3-6 cycles in the packing\n"
     ]
    },
    {
     "name": "stdout",
     "output_type": "stream",
     "text": [
      "11\n"
     ]
    },
    {
     "name": "stderr",
     "output_type": "stream",
     "text": [
      "INFO:root:[0, 0, 72, 692, 220, 4] 3-8 cycles in the graph\n",
      "INFO:root:[220, 24, 0, 0] 3-6 cycles in the packing\n",
      "INFO:root:[0, 0, 72, 692, 220, 4] 3-8 cycles in the graph\n"
     ]
    },
    {
     "name": "stdout",
     "output_type": "stream",
     "text": [
      "10\n"
     ]
    },
    {
     "name": "stderr",
     "output_type": "stream",
     "text": [
      "INFO:root:[218, 25, 0, 0] 3-6 cycles in the packing\n",
      "INFO:root:[0, 0, 72, 692, 220, 4] 3-8 cycles in the graph\n"
     ]
    },
    {
     "name": "stdout",
     "output_type": "stream",
     "text": [
      "9\n"
     ]
    },
    {
     "name": "stderr",
     "output_type": "stream",
     "text": [
      "INFO:root:[224, 22, 0, 0] 3-6 cycles in the packing\n",
      "INFO:root:[0, 0, 72, 692, 220, 4] 3-8 cycles in the graph\n"
     ]
    },
    {
     "name": "stdout",
     "output_type": "stream",
     "text": [
      "8\n"
     ]
    },
    {
     "name": "stderr",
     "output_type": "stream",
     "text": [
      "INFO:root:[226, 21, 0, 0] 3-6 cycles in the packing\n"
     ]
    },
    {
     "name": "stdout",
     "output_type": "stream",
     "text": [
      "7\n"
     ]
    },
    {
     "name": "stderr",
     "output_type": "stream",
     "text": [
      "INFO:root:[0, 0, 72, 692, 220, 4] 3-8 cycles in the graph\n",
      "INFO:root:[226, 21, 0, 0] 3-6 cycles in the packing\n"
     ]
    },
    {
     "name": "stdout",
     "output_type": "stream",
     "text": [
      "6\n"
     ]
    },
    {
     "name": "stderr",
     "output_type": "stream",
     "text": [
      "INFO:root:[0, 0, 72, 692, 220, 4] 3-8 cycles in the graph\n",
      "INFO:root:[228, 20, 0, 0] 3-6 cycles in the packing\n"
     ]
    },
    {
     "name": "stdout",
     "output_type": "stream",
     "text": [
      "5\n"
     ]
    },
    {
     "name": "stderr",
     "output_type": "stream",
     "text": [
      "INFO:root:[0, 0, 72, 692, 220, 4] 3-8 cycles in the graph\n",
      "INFO:root:[228, 20, 0, 0] 3-6 cycles in the packing\n"
     ]
    },
    {
     "name": "stdout",
     "output_type": "stream",
     "text": [
      "4\n"
     ]
    },
    {
     "name": "stderr",
     "output_type": "stream",
     "text": [
      "INFO:root:[0, 0, 72, 692, 220, 4] 3-8 cycles in the graph\n",
      "INFO:root:[230, 19, 0, 0] 3-6 cycles in the packing\n"
     ]
    },
    {
     "name": "stdout",
     "output_type": "stream",
     "text": [
      "3\n"
     ]
    },
    {
     "name": "stderr",
     "output_type": "stream",
     "text": [
      "INFO:root:[0, 0, 80, 676, 228, 4] 3-8 cycles in the graph\n",
      "INFO:root:[228, 20, 0, 0] 3-6 cycles in the packing\n",
      "INFO:root:[0, 0, 80, 676, 228, 4] 3-8 cycles in the graph\n"
     ]
    },
    {
     "name": "stdout",
     "output_type": "stream",
     "text": [
      "2\n"
     ]
    },
    {
     "name": "stderr",
     "output_type": "stream",
     "text": [
      "INFO:root:[230, 19, 0, 0] 3-6 cycles in the packing\n",
      "INFO:root:[0, 0, 80, 676, 228, 4] 3-8 cycles in the graph\n"
     ]
    },
    {
     "name": "stdout",
     "output_type": "stream",
     "text": [
      "1\n"
     ]
    }
   ],
   "source": [
    "from graphenestudio import (\n",
    "    draw_yaplot,\n",
    "    graphenate,\n",
    "    dump_gro,\n",
    "    generate_top,\n",
    "    replicate_x,\n",
    "    replicate_y,\n",
    "    replicate_z,\n",
    "    extend_z,\n",
    ")\n",
    "\n",
    "# import importlib\n",
    "\n",
    "# graphenestudio = importlib.import_module(\"graphenestudio\")\n",
    "\n",
    "base = \"psurface\"\n",
    "with open(f\"{base}.yap\", \"w\") as file:\n",
    "    count = 100\n",
    "    for x, cell, g in graphenate(\n",
    "        Natom,\n",
    "        cell,\n",
    "        pot,\n",
    "        dpot,\n",
    "        dt=0.0005,  # 0.005\n",
    "        T=0.1,\n",
    "    ):\n",
    "\n",
    "        x, cell, g = replicate_x(x, cell, g)\n",
    "        x, cell, g = replicate_y(x, cell, g)\n",
    "        x, cell, g = replicate_z(x, cell, g)\n",
    "        x, cell, g = extend_z(x, cell, g)\n",
    "\n",
    "        print(count)\n",
    "        file.write(draw_yaplot(x, cell, g))\n",
    "        with open(f\"{base}_{count}.itp\", \"w\") as ft:\n",
    "            ft.write(generate_top(x, cell, g, generate_dihed_list=True))\n",
    "        with open(f\"{base}_{count}.gro\", \"w\") as fg:\n",
    "            dump_gro(x, cell, g, fg)\n",
    "\n",
    "        count -= 1\n",
    "        if count == 0:\n",
    "            break"
   ]
  },
  {
   "cell_type": "markdown",
   "metadata": {},
   "source": [
    "## 3. Graphene のみで MD の試行\n",
    "\n",
    "Graphene のみの MD を実行し、構造を緩和させ、崩壊しないこと、大穴があいていないことを確認する。\n"
   ]
  },
  {
   "cell_type": "code",
   "execution_count": 6,
   "metadata": {},
   "outputs": [
    {
     "name": "stdout",
     "output_type": "stream",
     "text": [
      "INFO:root:Invoke external command: gmx grompp -maxwarn 2 -f initial-graphene.mdp -p graphene.top -o 00001.tpr -c graphene.gro  > 00001.grompp.log 2>&1\n",
      "INFO:root:Return code: 0\n",
      "INFO:root:Invoke external command: gmx mdrun -notunepme  -nt 8 -deffnm 00001 -c 00001-last.gro > 00001.mdrun.log 2>&1\n",
      "INFO:root:Return code: 0\n",
      "prev=`expr 00001 - 1`; prev=`printf '%05d' $prev`; echo $prev; \\\n",
      "\tif [ -e $prev.part*.trr ] ; \\\n",
      "\t\tthen echo 0 | gmx trjconv -f $prev.part*.trr -s 00001.tpr -o 00001-0.tmp.gro; \\\n",
      "\telif [ -e 00001.trr ] ; \\\n",
      "\t\tthen echo 0 | gmx trjconv -f 00001.trr -s 00001.tpr -o 00001-0.tmp.gro; \\\n",
      "\tfi\n",
      "00000\n",
      "                 :-) GROMACS - gmx trjconv, 2024.2-Homebrew (-:\n",
      "\n",
      "Executable:   /opt/homebrew/bin/../Cellar/gromacs/2024.2/bin/gmx\n",
      "Data prefix:  /opt/homebrew/bin/../Cellar/gromacs/2024.2\n",
      "Working dir:  /Users/matto/Unison/github/graphene-studio\n",
      "Command line:\n",
      "  gmx trjconv -f 00001.trr -s 00001.tpr -o 00001-0.tmp.gro\n",
      "\n",
      "Note that major changes are planned in future for trjconv, to improve usability and utility.\n",
      "Will write gro: Coordinate file in Gromos-87 format\n",
      "Reading file 00001.tpr, VERSION 2024.2-Homebrew (single precision)\n",
      "Reading file 00001.tpr, VERSION 2024.2-Homebrew (single precision)\n",
      "Select group for output\n",
      "Group     0 (         System) has  2144 elements\n",
      "Group     1 (          Other) has  2144 elements\n",
      "Group     2 (           GRPH) has  2144 elements\n",
      "Select a group: Selected 0: 'System'\n",
      "trr version: GMX_trn_file (single precision)\n",
      "Last frame       1000 time    5.000    ->  frame    999 time    4.995       ->  frame      7 time    0.035       ->  frame    399 time    1.995       ->  frame    699 time    3.495      \n",
      " ->  frame   1000 time    5.000      \n",
      "Last written: frame   1000 time    5.000\n",
      "\n",
      "\n",
      "GROMACS reminds you: \"Always code as if the person who ends up maintaining your code is a violent psychopath who knows where you live.\" (Martin Golding)\n",
      "\n",
      "python3 pbcfix.py < 00001-0.tmp.gro > 00001-0.gro\n"
     ]
    }
   ],
   "source": [
    "# ! cp psurface_100.gro graphene.gro\n",
    "# ! cp psurface_100.itp graphene.itp\n",
    "! python3 ./run.py graphene initial-graphene.mdp\n",
    "! make 00001-0.gro"
   ]
  },
  {
   "cell_type": "markdown",
   "metadata": {},
   "source": [
    "## 4. 水和させて MD\n",
    "\n",
    "1. 使用する Graphene のトポロジーファイルを graphene.itp にコピー\n",
    "2. tip4p で水和させ、分子数情報を solvated.top に書きくわえるとともに、原子座標を solvated.gro に書きだす。\n"
   ]
  },
  {
   "cell_type": "code",
   "execution_count": 6,
   "metadata": {},
   "outputs": [
    {
     "name": "stdout",
     "output_type": "stream",
     "text": [
      "                 :-) GROMACS - gmx solvate, 2024.2-Homebrew (-:\n",
      "\n",
      "Executable:   /opt/homebrew/bin/../Cellar/gromacs/2024.2/bin/gmx\n",
      "Data prefix:  /opt/homebrew/bin/../Cellar/gromacs/2024.2\n",
      "Working dir:  /Users/matto/Unison/github/graphene-studio\n",
      "Command line:\n",
      "  gmx solvate -cs tip4p -cp psurface_100.gro -o solvated.gro -p solvated.top\n",
      "\n",
      "Reading solute configuration\n",
      "Reading solvent configuration\n",
      "\n",
      "Initialising inter-atomic distances...\n",
      "\n",
      "WARNING: Masses and atomic (Van der Waals) radii will be guessed\n",
      "         based on residue and atom names, since they could not be\n",
      "         definitively assigned from the information in your input\n",
      "         files. These guessed numbers might deviate from the mass\n",
      "         and radius of the atom type. Please check the output\n",
      "         files if necessary. Note, that this functionality may\n",
      "         be removed in a future GROMACS version. Please, consider\n",
      "         using another file format for your input.\n",
      "\n",
      "NOTE: From version 5.0 gmx solvate uses the Van der Waals radii\n",
      "from the source below. This means the results may be different\n",
      "compared to previous GROMACS versions.\n",
      "\n",
      "++++ PLEASE READ AND CITE THE FOLLOWING REFERENCE ++++\n",
      "A. Bondi\n",
      "van der Waals Volumes and Radii\n",
      "J. Phys. Chem. 68 (1964) pp. 441-451\n",
      "-------- -------- --- Thank You --- -------- --------\n",
      "\n",
      "Generating solvent configuration\n",
      "Will generate new solvent configuration of 2x2x4 boxes\n",
      "Solvent box contains 13360 atoms in 3340 residues\n",
      "Removed 2420 solvent atoms due to solvent-solvent overlap\n",
      "Removed 2940 solvent atoms due to solute-solvent overlap\n",
      "Sorting configuration\n",
      "Found 1 molecule type:\n",
      "    SOL (   4 atoms):  2000 residues\n",
      "Generated solvent containing 8000 atoms in 2000 residues\n",
      "Writing generated configuration to solvated.gro\n",
      "\n",
      "Back Off! I just backed up solvated.gro to ./#solvated.gro.3#\n",
      "\n",
      "Output configuration contains 10144 atoms in 2001 residues\n",
      "Volume                 :     83.0478 (nm^3)\n",
      "Density                :     1235.32 (g/l)\n",
      "Number of solvent molecules:   2000   \n",
      "\n",
      "Processing topology\n",
      "Adding line for 2000 solvent molecules with resname (SOL) to topology file (solvated.top)\n",
      "\n",
      "Back Off! I just backed up solvated.top to ./#solvated.top.4#\n",
      "\n",
      "GROMACS reminds you: \"Disturb the Peace of a John Q Citizen\" (Urban Dance Squad)\n",
      "\n",
      "INFO:root:Invoke external command: gmx grompp -maxwarn 1 -f initial.mdp -p solvated.top -o 00001.tpr -c solvated.gro  > 00001.grompp.log 2>&1\n",
      "INFO:root:Return code: 256\n",
      "ERROR:root:Terminated by an error 256.\n"
     ]
    }
   ],
   "source": [
    "! cp psurface_100.itp graphene.itp\n",
    "! gmx solvate -cs tip4p -cp psurface_100.gro -o solvated.gro -p solvated.top \n"
   ]
  },
  {
   "cell_type": "markdown",
   "metadata": {},
   "source": [
    "1 番原子だけ固定したいので、まず ndx ファイルを生成する。\n"
   ]
  },
  {
   "cell_type": "code",
   "execution_count": 9,
   "metadata": {},
   "outputs": [
    {
     "name": "stdout",
     "output_type": "stream",
     "text": [
      "                :-) GROMACS - gmx make_ndx, 2024.2-Homebrew (-:\n",
      "\n",
      "Executable:   /opt/homebrew/bin/../Cellar/gromacs/2024.2/bin/gmx\n",
      "Data prefix:  /opt/homebrew/bin/../Cellar/gromacs/2024.2\n",
      "Working dir:  /Users/matto/Unison/github/graphene-studio\n",
      "Command line:\n",
      "  gmx make_ndx -f solvated.gro -o solvated.ndx\n",
      "\n",
      "\n",
      "Reading structure file\n",
      "Going to read 0 old index file(s)\n",
      "Analysing residue names:\n",
      "There are:     1      Other residues\n",
      "There are:  2000      Water residues\n",
      "Analysing residues not classified as Protein/DNA/RNA/Water and splitting into groups...\n",
      "\n",
      "  0 System              : 10144 atoms\n",
      "  1 Other               :  2144 atoms\n",
      "  2 GRPH                :  2144 atoms\n",
      "  3 Water               :  8000 atoms\n",
      "  4 SOL                 :  8000 atoms\n",
      "  5 non-Water           :  2144 atoms\n",
      "\n",
      " nr : group      '!': not  'name' nr name   'splitch' nr    Enter: list groups\n",
      " 'a': atom       '&': and  'del' nr         'splitres' nr   'l': list residues\n",
      " 't': atom type  '|': or   'keep' nr        'splitat' nr    'h': help\n",
      " 'r': residue              'res' nr         'chain' char\n",
      " \"name\": group             'case': case sensitive           'q': save and quit\n",
      " 'ri': residue index\n",
      "\n",
      "> \n",
      "\n",
      "GROMACS reminds you: \"I Don't Want to Catch Anybody Not Drinking.\" (Monty Python)\n",
      "\n"
     ]
    }
   ],
   "source": [
    "! echo q | gmx make_ndx -f solvated.gro -o solvated.ndx"
   ]
  },
  {
   "cell_type": "markdown",
   "metadata": {},
   "source": [
    "`.ndx`の末尾に以下の 2 行を追加する。\n",
    "\n",
    "```shell\n",
    "[ FIX ]\n",
    "1\n",
    "```\n"
   ]
  },
  {
   "cell_type": "markdown",
   "metadata": {},
   "source": [
    "1 原子を固定した MD を実行する。\n"
   ]
  },
  {
   "cell_type": "code",
   "execution_count": 16,
   "metadata": {},
   "outputs": [
    {
     "name": "stdout",
     "output_type": "stream",
     "text": [
      "INFO:root:Invoke external command: gmx grompp -maxwarn 1 -f initial-solvated.mdp -p solvated.top -o 00001.tpr -c solvated.gro -n solvated.ndx  > 00001.grompp.log 2>&1\n",
      "INFO:root:Return code: 0\n",
      "INFO:root:Invoke external command: gmx mdrun -notunepme  -nt 8 -deffnm 00001 -c 00001-last.gro > 00001.mdrun.log 2>&1\n",
      "^C\n"
     ]
    }
   ],
   "source": [
    "! python3 ./run.py -n solvated.ndx solvated initial-solvated.mdp\n"
   ]
  },
  {
   "cell_type": "markdown",
   "metadata": {},
   "source": [
    "トラジェクトリを確認する。\n"
   ]
  },
  {
   "cell_type": "code",
   "execution_count": null,
   "metadata": {},
   "outputs": [],
   "source": [
    "! make 00001-0.gro"
   ]
  },
  {
   "cell_type": "markdown",
   "metadata": {},
   "source": [
    "以下、rindo 研究には使わない。\n",
    "\n",
    "## 拡張版\n",
    "\n",
    "曲面を解析的な式ではなく、グリッド上の数値配列として与える。\n",
    "\n",
    "`cube`や`sphere`は 3 次元グリッドで定義される$w=f(x,y,z)$型の空間関数で、これが$f(x,y,z)=0$を横切る isosurface で、graphene の形状を指定する。\n"
   ]
  },
  {
   "cell_type": "code",
   "execution_count": 13,
   "metadata": {},
   "outputs": [],
   "source": [
    "from logging import INFO, basicConfig, getLogger, DEBUG\n",
    "\n",
    "import numpy as np\n",
    "\n",
    "from graphenestudio.quench import quench_particles\n",
    "from graphenestudio.pack import random_box\n",
    "from graphenestudio.interaction import repulsive_potential, repulsive_force\n",
    "from graphenestudio.surface import Grid, Ticks, GridSurfaceFunc\n",
    "\n",
    "\n",
    "basicConfig(level=INFO)\n",
    "logger = getLogger()\n",
    "\n",
    "Natom = 192\n",
    "cost = 10000\n",
    "cell = np.diag(np.array([5.0, 5.0, 5.0]))\n",
    "\n",
    "r = 0.4  # \"radius\" of the cube, i.e., half length of an edge\n",
    "\n",
    "XYZ = np.mgrid[-0.5:0.5:11j, -0.5:0.5:11j, -0.5:0.5:11j]\n",
    "xticks = Ticks(min=-0.5, binw=0.1)\n",
    "yticks = Ticks(min=-0.5, binw=0.1)\n",
    "zticks = Ticks(min=-0.5, binw=0.1)\n",
    "\n",
    "# グリッドタイプの関数定義法\n",
    "cube = Grid(\n",
    "    values=np.max(np.abs(XYZ), axis=0) - r, xticks=xticks, yticks=yticks, zticks=zticks\n",
    ")\n",
    "\n",
    "sphere = Grid(\n",
    "    values=np.sum(XYZ**2, axis=0) - r * r,\n",
    "    xticks=xticks,\n",
    "    yticks=yticks,\n",
    "    zticks=zticks,\n",
    ")\n",
    "\n",
    "surf = GridSurfaceFunc(sphere)"
   ]
  },
  {
   "cell_type": "code",
   "execution_count": null,
   "metadata": {},
   "outputs": [],
   "source": [
    "r = random_box(Natom)\n",
    "# x = r @ cell\n",
    "pot = lambda r, cell: repulsive_potential(\n",
    "    r, cell, repul=4, rc=1.0\n",
    ") + cost * surf.exfield_potential(r)\n",
    "dpot = lambda r, cell: -repulsive_force(\n",
    "    r, cell, repul=4, rc=1.0\n",
    ") + cost * surf.exfield_gradient(r)\n",
    "\n",
    "r_quenched = quench_particles(r, cell, pot, dpot)\n",
    "x_quenched = r_quenched @ cell"
   ]
  },
  {
   "cell_type": "code",
   "execution_count": null,
   "metadata": {},
   "outputs": [],
   "source": [
    "# -*- coding: utf-8 -*-\n",
    "import plotly.graph_objects as go\n",
    "\n",
    "\n",
    "# mode='makers'を指定しないと点の間に線が引かれる\n",
    "fig = go.Figure(\n",
    "    data=[\n",
    "        # go.Scatter3d(\n",
    "        #     x=x[:, 0],\n",
    "        #     y=x[:, 1],\n",
    "        #     z=x[:, 2],\n",
    "        #     mode=\"markers\",\n",
    "        #     marker=dict(\n",
    "        #         size=6,\n",
    "        #         # color=point_sum,\n",
    "        #         colorscale=\"Viridis\",\n",
    "        #         # symbol=result_symbol\n",
    "        #     ),\n",
    "        # ),\n",
    "        go.Scatter3d(\n",
    "            x=x_quenched[:, 0],\n",
    "            y=x_quenched[:, 1],\n",
    "            z=x_quenched[:, 2],\n",
    "            mode=\"markers\",\n",
    "            marker=dict(\n",
    "                size=5,\n",
    "                # color=point_sum,\n",
    "                colorscale=\"Viridis\",\n",
    "                # symbol=result_symbol\n",
    "            ),\n",
    "        ),\n",
    "    ]\n",
    ")\n",
    "fig.show()"
   ]
  },
  {
   "cell_type": "markdown",
   "metadata": {},
   "source": [
    "x2top が生成した top ファイルの中身を確認する。\n"
   ]
  },
  {
   "cell_type": "code",
   "execution_count": 12,
   "metadata": {},
   "outputs": [
    {
     "name": "stdout",
     "output_type": "stream",
     "text": [
      "[(1, 2), (370, 3), (388, 3), (2, 2), (3, 3), (400, 3), (4, 3), (5, 3), (16, 3), (132, 3), (6, 3), (9, 2), (7, 3), (17, 3), (8, 3), (13, 3), (27, 3), (173, 3), (392, 3), (10, 2), (11, 3), (12, 3), (52, 2), (60, 2), (166, 3), (167, 3), (14, 3), (15, 3), (20, 3), (32, 3), (18, 3), (38, 3), (19, 3), (26, 3), (22, 3), (25, 3), (21, 3), (24, 3), (135, 3), (131, 3), (23, 3), (144, 3), (147, 3), (140, 3), (28, 3), (31, 3), (29, 3), (39, 3), (30, 3), (67, 3), (201, 3), (193, 3), (34, 3), (138, 3), (33, 3), (35, 3), (139, 3), (143, 3), (41, 3), (36, 3), (37, 3), (312, 3), (42, 3), (321, 3), (40, 3), (43, 3), (66, 3), (342, 3), (44, 3), (45, 2), (319, 3), (332, 3), (390, 3), (46, 2), (53, 3), (55, 3), (47, 3), (50, 2), (51, 3), (54, 3), (48, 3), (49, 2), (93, 3), (331, 3), (389, 3), (56, 3), (94, 3), (59, 1), (84, 3), (57, 3), (58, 3), (99, 3), (83, 3), (104, 3), (160, 3), (61, 2), (62, 3), (182, 1), (161, 3), (186, 3), (63, 3), (64, 3), (65, 3), (73, 3), (398, 3), (78, 3), (177, 3), (176, 3), (68, 3), (69, 3), (74, 3), (70, 2), (75, 3), (365, 3), (71, 2), (72, 2), (362, 2), (87, 3), (88, 3), (354, 3), (76, 2), (77, 3), (178, 3), (79, 3), (81, 3), (80, 3), (82, 3), (111, 3), (89, 3), (92, 3), (85, 3), (86, 2), (106, 3), (90, 3), (91, 3), (108, 3), (109, 3), (95, 2), (97, 3), (274, 2), (96, 2), (98, 3), (336, 2), (116, 3), (100, 3), (102, 3), (117, 3), (101, 3), (103, 3), (115, 3), (127, 3), (105, 3), (110, 3), (121, 3), (133, 3), (355, 3), (377, 3), (107, 3), (142, 3), (216, 3), (112, 3), (215, 3), (125, 3), (113, 3), (114, 3), (214, 3), (126, 3), (220, 3), (120, 3), (118, 3), (119, 3), (394, 2), (363, 3), (369, 3), (122, 2), (123, 3), (124, 3), (285, 2), (289, 3), (128, 2), (130, 3), (399, 3), (129, 2), (134, 3), (136, 3), (209, 3), (206, 2), (210, 3), (137, 3), (141, 2), (380, 3), (313, 3), (379, 3), (145, 3), (146, 3), (218, 3), (148, 3), (225, 2), (211, 3), (222, 3), (149, 3), (150, 3), (153, 3), (152, 3), (165, 3), (151, 3), (154, 3), (168, 3), (169, 3), (155, 3), (157, 3), (156, 3), (159, 3), (163, 3), (158, 3), (217, 3), (226, 2), (162, 3), (187, 3), (231, 3), (164, 3), (174, 3), (175, 3), (170, 2), (219, 3), (171, 2), (172, 3), (296, 3), (308, 3), (246, 3), (192, 3), (241, 3), (242, 3), (179, 3), (181, 3), (180, 3), (202, 3), (185, 3), (183, 2), (184, 2), (188, 3), (189, 3), (237, 3), (238, 3), (257, 3), (203, 3), (278, 3), (190, 3), (191, 3), (194, 3), (264, 3), (243, 3), (195, 3), (200, 3), (196, 3), (197, 2), (198, 3), (199, 3), (208, 3), (204, 2), (205, 3), (207, 3), (280, 3), (213, 3), (212, 3), (223, 3), (292, 3), (221, 3), (286, 3), (293, 3), (232, 3), (298, 3), (224, 1), (227, 3), (228, 3), (229, 2), (309, 3), (233, 2), (240, 3), (230, 2), (234, 2), (310, 3), (235, 3), (236, 3), (317, 3), (239, 2), (318, 3), (316, 3), (326, 3), (248, 3), (244, 2), (255, 3), (245, 2), (249, 3), (256, 3), (250, 3), (305, 3), (247, 2), (251, 3), (320, 2), (254, 1), (252, 3), (253, 1), (302, 3), (273, 3), (322, 3), (334, 3), (259, 2), (277, 3), (258, 2), (260, 3), (261, 3), (330, 3), (263, 3), (327, 2), (262, 2), (284, 3), (333, 3), (265, 3), (266, 3), (270, 2), (267, 2), (271, 3), (268, 3), (269, 3), (287, 3), (276, 2), (272, 2), (275, 2), (335, 3), (281, 3), (279, 3), (282, 3), (283, 3), (291, 3), (343, 2), (344, 3), (288, 3), (297, 3), (290, 3), (299, 3), (366, 3), (294, 3), (295, 3), (352, 3), (357, 3), (304, 3), (351, 3), (303, 3), (300, 2), (301, 3), (307, 3), (306, 2), (371, 3), (358, 3), (372, 3), (311, 1), (315, 3), (314, 3), (387, 2), (323, 3), (324, 1), (339, 3), (325, 1), (328, 3), (329, 3), (349, 3), (338, 2), (337, 2), (341, 3), (340, 3), (395, 3), (345, 3), (346, 3), (348, 3), (350, 3), (347, 2), (353, 3), (356, 3), (378, 3), (386, 3), (359, 3), (360, 2), (364, 3), (361, 2), (396, 3), (368, 3), (367, 2), (373, 3), (374, 3), (385, 3), (375, 2), (376, 2), (384, 2), (383, 2), (381, 3), (382, 2), (393, 2), (391, 2), (397, 2)]\n",
      "558\n",
      "1647\n"
     ]
    },
    {
     "ename": "NameError",
     "evalue": "name 'pl' is not defined",
     "output_type": "error",
     "traceback": [
      "\u001b[0;31m---------------------------------------------------------------------------\u001b[0m",
      "\u001b[0;31mNameError\u001b[0m                                 Traceback (most recent call last)",
      "Cell \u001b[0;32mIn[12], line 37\u001b[0m\n\u001b[1;32m     32\u001b[0m \u001b[38;5;28;01mfor\u001b[39;00m i, frame \u001b[38;5;129;01min\u001b[39;00m \u001b[38;5;28menumerate\u001b[39m(gromacs\u001b[38;5;241m.\u001b[39mread_gro(fr)):\n\u001b[1;32m     33\u001b[0m     \u001b[38;5;28;01mbreak\u001b[39;00m\n\u001b[1;32m     34\u001b[0m g \u001b[38;5;241m=\u001b[39m nx\u001b[38;5;241m.\u001b[39mGraph(\n\u001b[1;32m     35\u001b[0m     [\n\u001b[1;32m     36\u001b[0m         (i, j)\n\u001b[0;32m---> 37\u001b[0m         \u001b[38;5;28;01mfor\u001b[39;00m i, j \u001b[38;5;129;01min\u001b[39;00m \u001b[43mpl\u001b[49m\u001b[38;5;241m.\u001b[39mpairs_iter(\n\u001b[1;32m     38\u001b[0m             frame[\u001b[38;5;124m\"\u001b[39m\u001b[38;5;124mposition\u001b[39m\u001b[38;5;124m\"\u001b[39m],\n\u001b[1;32m     39\u001b[0m             \u001b[38;5;241m0.18\u001b[39m,\n\u001b[1;32m     40\u001b[0m             frame[\u001b[38;5;124m\"\u001b[39m\u001b[38;5;124mcell\u001b[39m\u001b[38;5;124m\"\u001b[39m],\n\u001b[1;32m     41\u001b[0m             fractional\u001b[38;5;241m=\u001b[39m\u001b[38;5;28;01mFalse\u001b[39;00m,\n\u001b[1;32m     42\u001b[0m             distance\u001b[38;5;241m=\u001b[39m\u001b[38;5;28;01mFalse\u001b[39;00m,\n\u001b[1;32m     43\u001b[0m         )\n\u001b[1;32m     44\u001b[0m     ]\n\u001b[1;32m     45\u001b[0m )\n",
      "\u001b[0;31mNameError\u001b[0m: name 'pl' is not defined"
     ]
    }
   ],
   "source": [
    "import networkx as nx\n",
    "\n",
    "sections = dict()\n",
    "name = None\n",
    "with open(\"gyroid.top\") as f:\n",
    "    for line in f:\n",
    "        line = line.strip()\n",
    "        if len(line) > 0 and line[0] == \"[\":\n",
    "            name = line\n",
    "            sections[name] = []\n",
    "            continue\n",
    "        if name is not None:\n",
    "            sections[name].append(line)\n",
    "\n",
    "# make a graph based on bonds\n",
    "g0 = nx.Graph()\n",
    "for line in sections[\"[ bonds ]\"]:\n",
    "    if len(line) > 0 and line[0] != \";\":\n",
    "        cols = line.split()\n",
    "        g0.add_edge(int(cols[0]), int(cols[1]))\n",
    "\n",
    "print(g0.degree)\n",
    "\n",
    "\n",
    "print(len(sections[\"[ bonds ]\"]))\n",
    "print(len(sections[\"[ pairs ]\"]))\n",
    "# split a multiframed gro file into gro files.\n",
    "\n",
    "import gromacs\n",
    "\n",
    "with open(\"gyroid99.gro\") as fr:\n",
    "    for i, frame in enumerate(gromacs.read_gro(fr)):\n",
    "        break\n",
    "    g = nx.Graph(\n",
    "        [\n",
    "            (i, j)\n",
    "            for i, j in pl.pairs_iter(\n",
    "                frame[\"position\"],\n",
    "                0.18,\n",
    "                frame[\"cell\"],\n",
    "                fractional=False,\n",
    "                distance=False,\n",
    "            )\n",
    "        ]\n",
    "    )"
   ]
  },
  {
   "cell_type": "code",
   "execution_count": null,
   "metadata": {},
   "outputs": [],
   "source": []
  }
 ],
 "metadata": {
  "kernelspec": {
   "display_name": "graphene-studio-LdnOtBEG-py3.11",
   "language": "python",
   "name": "python3"
  },
  "language_info": {
   "codemirror_mode": {
    "name": "ipython",
    "version": 3
   },
   "file_extension": ".py",
   "mimetype": "text/x-python",
   "name": "python",
   "nbconvert_exporter": "python",
   "pygments_lexer": "ipython3",
   "version": "3.11.4"
  }
 },
 "nbformat": 4,
 "nbformat_minor": 2
}
